{
 "cells": [
  {
   "cell_type": "code",
   "execution_count": null,
   "outputs": [],
   "source": [
    "# Explanatory notebook to convert this database with specific (radical) repetition units and end groups to the PSMILES of the Ramprasad-Group\n",
    "import os\n",
    "import pandas as pd\n",
    "import re\n",
    "import warnings"
   ],
   "metadata": {
    "collapsed": false,
    "pycharm": {
     "name": "#%%\n",
     "is_executing": true
    }
   }
  },
  {
   "cell_type": "code",
   "execution_count": null,
   "metadata": {
    "collapsed": true,
    "pycharm": {
     "name": "#%%\n"
    }
   },
   "outputs": [],
   "source": [
    "RAW_CSV_PATH = \"./cloud_points_data.csv\"\n",
    "OUTDIR = \"out\"\n",
    "if not os.path.exists(OUTDIR):\n",
    "    os.makedirs(OUTDIR)\n",
    "raw_df = pd.read_csv(RAW_CSV_PATH, sep=\";\", decimal=\",\")\n",
    "raw_df"
   ]
  },
  {
   "cell_type": "code",
   "execution_count": null,
   "outputs": [],
   "source": [
    "# transform every monomers  \"[atoms and numbers]\" string-part to \"*atoms and numbers\" e.g.:\n",
    "# [CH2][CH](C(=O)NC1CCCCCC1) -> [*]CC[*](C(=O)NC1CCCCCC1)\n",
    "# therefore all \"[content]\" must be searched then\n",
    "    # the first must be replaced with \"[*]content-H and following numbers\"\n",
    "    # the second must be replaced with \"content-h and following numbers[*]\"\n",
    "def convert_explicit_SMILES_to_PSMILES(explicit_SMILES: str, chain_pos: str = \"monomer\"):\n",
    "    all_radicals = re.findall(r\"\\[[^\\]]*\\]\", explicit_SMILES)\n",
    "    replacements = [radical.replace(\"[\", \"\").replace(\"]\", \"\") for radical in all_radicals]\n",
    "    replacements = [re.sub(\"H[0-9]?\", \"\", radical) for radical in replacements]\n",
    "    match chain_pos:\n",
    "        case \"monomer\":\n",
    "            if len(all_radicals) != 2:\n",
    "                warnings.warn(explicit_SMILES + \": \" + \"Too many OR little explicits found. Is there a radical in the polymer, or is this a end group?\" + \"\\n\" +\n",
    "                              \"are \" + str(replacements[:2]) + \" the right replacements?\")\n",
    "            replacements[0] = \"[*]\" + replacements[0]\n",
    "            replacements[1] = replacements[1] + \"[*]\"\n",
    "        case \"end\":\n",
    "            if len(all_radicals) != 1:\n",
    "                warnings.warn(explicit_SMILES + \": \" + \"None or too many explicits found. Is there a radical in the polymer, or is it a monomer?\" + \"\\n\" +\n",
    "                              \"is \" + str(replacements[0]) + \" the right replacement?\")\n",
    "            replacements[0] = \"[*]\" + replacements[0]\n",
    "    PSMILES = explicit_SMILES\n",
    "    for i in range(len(all_radicals)):\n",
    "        PSMILES = PSMILES.replace(all_radicals[i], replacements[i])\n",
    "    return PSMILES\n",
    "convert_explicit_SMILES_to_PSMILES(\"[CH2][CH](C(=O)NC1CCCCCC1)\",)"
   ],
   "metadata": {
    "collapsed": false,
    "pycharm": {
     "name": "#%%\n"
    }
   }
  },
  {
   "cell_type": "code",
   "execution_count": null,
   "outputs": [],
   "source": [
    "raw_df[\"SMILES_repeating_unitA\"].apply(lambda x: convert_explicit_SMILES_to_PSMILES(x, \"monomer\"))"
   ],
   "metadata": {
    "collapsed": false,
    "pycharm": {
     "name": "#%%\n"
    }
   }
  }
 ],
 "metadata": {
  "kernelspec": {
   "display_name": "Python 3",
   "language": "python",
   "name": "python3"
  },
  "language_info": {
   "codemirror_mode": {
    "name": "ipython",
    "version": 2
   },
   "file_extension": ".py",
   "mimetype": "text/x-python",
   "name": "python",
   "nbconvert_exporter": "python",
   "pygments_lexer": "ipython2",
   "version": "2.7.6"
  }
 },
 "nbformat": 4,
 "nbformat_minor": 0
}