{
 "cells": [
  {
   "cell_type": "code",
   "execution_count": null,
   "outputs": [],
   "source": [
    "import polyfingerprints as pfp \n",
    "import pandas as pd\n",
    "import numpy as np\n",
    "from wrapconfig import YAMLWrapConfig\n",
    "import matplotlib.pyplot as plt"
   ],
   "metadata": {
    "collapsed": false,
    "pycharm": {
     "name": "#%%\n"
    }
   }
  },
  {
   "cell_type": "code",
   "execution_count": null,
   "outputs": [],
   "source": [
    "RAW_CSV_PATH =  \"./cloud_points_data.csv\""
   ],
   "metadata": {
    "collapsed": false,
    "pycharm": {
     "name": "#%%\n"
    }
   }
  },
  {
   "cell_type": "code",
   "execution_count": null,
   "outputs": [],
   "source": [
    "raw_df = pd.read_csv(RAW_CSV_PATH, sep=\";\", decimal=\",\")\n",
    "raw_df"
   ],
   "metadata": {
    "collapsed": false,
    "pycharm": {
     "name": "#%%\n"
    }
   }
  },
  {
   "cell_type": "code",
   "execution_count": null,
   "outputs": [],
   "source": [
    "raw_df[\"pH\"] = raw_df[\"pH\"].fillna(7)\n",
    "DEF_TYPE_MAP = {\n",
    "        \"A\": 0.1,\n",
    "        \"B\": 0.2,\n",
    "        \"C\": 0.5,\n",
    "        \"DSC\": 0.01,\n",
    "    }\n",
    "raw_df[\"def_type\"] = raw_df[\"def_type\"].fillna(\"0.1\")\n",
    "raw_df[\"def_type\"] = raw_df[\"def_type\"].apply(\n",
    "    lambda x: float(\n",
    "        (DEF_TYPE_MAP[x] if x in DEF_TYPE_MAP else str(x).replace(\",\", \".\"))\n",
    "    ),\n",
    ")\n",
    "\n",
    "# set poly_conc to polymer_concentration_mass_conc where it is NaN\n",
    "if \"polymer_concentration_mass_conc\" in raw_df.columns:\n",
    "    raw_df[\"polymer_concentration_wpercent\"] = raw_df[\"polymer_concentration_wpercent\"].fillna(raw_df[\"polymer_concentration_mass_conc\"])\n",
    "    raw_df= raw_df.drop(\n",
    "        [\"polymer_concentration_mass_conc\"], axis=1\n",
    "    )\n",
    "\n",
    "df,info = pfp.datareader.expand_data(\n",
    "    raw_df,\n",
    "    ignored_columns=[\"reference\",\n",
    "        \"polymer_type\",\n",
    "        \"polymer_type_style\",\n",
    "        \"polymer_architecture\",\n",
    "        \"polymerisation_type\",\n",
    "        \"Mw\",\n",
    "        \"PDI\",\n",
    "        \"mass_characterisation_method\",\n",
    "        \"mass_characterisation_standart\",\n",
    "        \"N/A\",\n",
    "        \"identifier\",\n",
    "        \"comment\",\n",
    "        \"tacticity\",\n",
    "        \"rating\",],\n",
    "    density=1,\n",
    "additive_wp_column_postfix = \"_concentration_weight_percent\",\n",
    "    additive_conc_column_postfix=\"_concentration_molar\"\n",
    "    \n",
    "\n",
    ")\n",
    "\n",
    "df.to_csv(\"expanded_data.csv\")\n",
    "infofile = YAMLWrapConfig(\"expanded_info.yml\")\n",
    "infofile.set_data(info)\n",
    "infofile.save()\n",
    "df"
   ],
   "metadata": {
    "collapsed": false,
    "pycharm": {
     "name": "#%%\n"
    }
   }
  },
  {
   "cell_type": "code",
   "execution_count": null,
   "outputs": [],
   "source": [],
   "metadata": {
    "collapsed": false,
    "pycharm": {
     "name": "#%%\n"
    }
   }
  }
 ],
 "metadata": {
  "kernelspec": {
   "display_name": "Python 3",
   "language": "python",
   "name": "python3"
  },
  "language_info": {
   "codemirror_mode": {
    "name": "ipython",
    "version": 2
   },
   "file_extension": ".py",
   "mimetype": "text/x-python",
   "name": "python",
   "nbconvert_exporter": "python",
   "pygments_lexer": "ipython2",
   "version": "2.7.6"
  }
 },
 "nbformat": 4,
 "nbformat_minor": 0
}