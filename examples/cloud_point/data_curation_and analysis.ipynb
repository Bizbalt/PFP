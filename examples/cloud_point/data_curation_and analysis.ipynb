{
 "cells": [
  {
   "cell_type": "code",
   "execution_count": 1,
   "metadata": {
    "collapsed": false,
    "jupyter": {
     "outputs_hidden": false
    },
    "pycharm": {
     "name": "#%%\n"
    }
   },
   "outputs": [],
   "source": [
    "import polyfingerprints as pfp\n",
    "import pandas as pd\n",
    "import numpy as np\n",
    "from wrapconfig import YAMLWrapConfig\n",
    "import matplotlib.pyplot as plt"
   ]
  },
  {
   "cell_type": "code",
   "execution_count": 2,
   "metadata": {
    "collapsed": false,
    "jupyter": {
     "outputs_hidden": false
    },
    "pycharm": {
     "name": "#%%\n"
    }
   },
   "outputs": [],
   "source": [
    "RAW_CSV_PATH =  \"./cloud_points_data.csv\""
   ]
  },
  {
   "cell_type": "code",
   "execution_count": 3,
   "metadata": {
    "collapsed": false,
    "jupyter": {
     "outputs_hidden": false
    },
    "pycharm": {
     "name": "#%%\n"
    }
   },
   "outputs": [
    {
     "data": {
      "text/plain": "                      reference polymer_type polymer_type_style  \\\n0    10.1016/j.fuel.2016.10.075       random                NaN   \n1    10.1016/j.fuel.2016.10.075       random                NaN   \n2    10.1016/j.fuel.2016.10.075       random                NaN   \n3    10.1016/j.fuel.2016.10.075       random                NaN   \n4    10.1016/j.fuel.2016.10.075       random                NaN   \n..                          ...          ...                ...   \n906           10.1021/ma1005759         homo                NaN   \n907           10.1021/ma1005759         homo                NaN   \n908           10.1021/ma1005759         homo                NaN   \n909           10.1021/ma1005759         homo                NaN   \n910           10.1021/ma1005759         homo                NaN   \n\n    polymer_architecture polymerisation_type  \\\n0                 linear                 FRP   \n1                 linear                 FRP   \n2                 linear                 FRP   \n3                 linear                 FRP   \n4                 linear                 FRP   \n..                   ...                 ...   \n906                graft                RAFT   \n907                graft                RAFT   \n908                graft                RAFT   \n909                graft                RAFT   \n910                graft                RAFT   \n\n                                    SMILES_start_group  \\\n0                                       [C](C)(C)(C#N)   \n1                                       [C](C)(C)(C#N)   \n2                                       [C](C)(C)(C#N)   \n3                                       [C](C)(C)(C#N)   \n4                                       [C](C)(C)(C#N)   \n..                                                 ...   \n906  [C](C)(C#N)(CCC(=O)NCC(F)(F)C(F)(F)C(F)(F)C(F)...   \n907  [C](C)(C#N)(CCC(=O)NCC(F)(F)C(F)(F)C(F)(F)C(F)...   \n908  [C](C)(C#N)(CCC(=O)N(CCCCCCCCCCCCCCCCCC)CCCCCC...   \n909  [C](C)(C#N)(CCC(=O)N(CCCCCCCCCCCCCCCCCC)CCCCCC...   \n910  [C](C)(C#N)(CCC(=O)NCCNC(=O)c1ccc(N=Nc2ccccc2)...   \n\n                                      SMILES_end_group  \\\n0                                         [C](C)(C)C#N   \n1                                         [C](C)(C)C#N   \n2                                         [C](C)(C)C#N   \n3                                         [C](C)(C)C#N   \n4                                         [C](C)(C)C#N   \n..                                                 ...   \n906                               [CH2]CCCCCCCCCCCCCCC   \n907  [S](SCCC(F)(F)C(F)(F)C(F)(F)C(F)(F)C(F)(F)C(F)...   \n908                                              [S]SC   \n909  [S](SCCC(F)(F)C(F)(F)C(F)(F)C(F)(F)C(F)(F)C(F)...   \n910                                              [S]SC   \n\n               SMILES_repeating_unitA  molpercent_repeating_unitA  \\\n0              [CH2][CH](C(=O)NC(C)C)                         0.8   \n1              [CH2][CH](C(=O)NC(C)C)                         0.8   \n2              [CH2][CH](C(=O)NC(C)C)                         0.8   \n3              [CH2][CH](C(=O)NC(C)C)                         0.8   \n4              [CH2][CH](C(=O)NC(C)C)                         0.8   \n..                                ...                         ...   \n906  [CH2][C](C)(C(=O)OCCOCCOCCOCCOC)                         1.0   \n907  [CH2][C](C)(C(=O)OCCOCCOCCOCCOC)                         1.0   \n908  [CH2][C](C)(C(=O)OCCOCCOCCOCCOC)                         1.0   \n909  [CH2][C](C)(C(=O)OCCOCCOCCOCCOC)                         1.0   \n910  [CH2][C](C)(C(=O)OCCOCCOCCOCCOC)                         1.0   \n\n    SMILES_repeating_unitB  ...  additive2_concentration_molar  \\\n0        [CH2][CH](C(=O)O)  ...                            NaN   \n1        [CH2][CH](C(=O)O)  ...                            NaN   \n2        [CH2][CH](C(=O)O)  ...                            NaN   \n3        [CH2][CH](C(=O)O)  ...                            NaN   \n4        [CH2][CH](C(=O)O)  ...                            NaN   \n..                     ...  ...                            ...   \n906                    NaN  ...                            NaN   \n907                    NaN  ...                            NaN   \n908                    NaN  ...                            NaN   \n909                    NaN  ...                            NaN   \n910                    NaN  ...                            NaN   \n\n    additive2_concentration_weight_percent  cloud_point  N/A  def_type  pH  \\\n0                                      NaN         32.1  NaN         A NaN   \n1                                      NaN         43.0  NaN         A NaN   \n2                                      NaN         44.0  NaN         A NaN   \n3                                      NaN         45.5  NaN         A NaN   \n4                                      NaN         43.0  NaN         A NaN   \n..                                     ...          ...  ...       ...  ..   \n906                                    NaN         51.7  NaN         C NaN   \n907                                    NaN         50.3  NaN         C NaN   \n908                                    NaN         48.9  NaN         C NaN   \n909                                    NaN         48.9  NaN         C NaN   \n910                                    NaN         49.1  NaN         C NaN   \n\n               identifier  comment  tacticity  rating  \n0            PNIPAM-co-AA      NaN        NaN     NaN  \n1    PNIPAM-cycloprop-7.5      NaN        NaN     NaN  \n2     PNIPAM-cyclobut-7.5      NaN        NaN     NaN  \n3    PNIPAM-cyclopent-7.5      NaN        NaN     NaN  \n4    PNIPAM-cyclohept-7.5      NaN        NaN     NaN  \n..                    ...      ...        ...     ...  \n906                   P15   632 nm        NaN     NaN  \n907                   P16   632 nm        NaN     NaN  \n908                   P17   632 nm        NaN     NaN  \n909                   P18   632 nm        NaN     NaN  \n910                   P19   632 nm        NaN     NaN  \n\n[911 rows x 38 columns]",
      "text/html": "<div>\n<style scoped>\n    .dataframe tbody tr th:only-of-type {\n        vertical-align: middle;\n    }\n\n    .dataframe tbody tr th {\n        vertical-align: top;\n    }\n\n    .dataframe thead th {\n        text-align: right;\n    }\n</style>\n<table border=\"1\" class=\"dataframe\">\n  <thead>\n    <tr style=\"text-align: right;\">\n      <th></th>\n      <th>reference</th>\n      <th>polymer_type</th>\n      <th>polymer_type_style</th>\n      <th>polymer_architecture</th>\n      <th>polymerisation_type</th>\n      <th>SMILES_start_group</th>\n      <th>SMILES_end_group</th>\n      <th>SMILES_repeating_unitA</th>\n      <th>molpercent_repeating_unitA</th>\n      <th>SMILES_repeating_unitB</th>\n      <th>...</th>\n      <th>additive2_concentration_molar</th>\n      <th>additive2_concentration_weight_percent</th>\n      <th>cloud_point</th>\n      <th>N/A</th>\n      <th>def_type</th>\n      <th>pH</th>\n      <th>identifier</th>\n      <th>comment</th>\n      <th>tacticity</th>\n      <th>rating</th>\n    </tr>\n  </thead>\n  <tbody>\n    <tr>\n      <th>0</th>\n      <td>10.1016/j.fuel.2016.10.075</td>\n      <td>random</td>\n      <td>NaN</td>\n      <td>linear</td>\n      <td>FRP</td>\n      <td>[C](C)(C)(C#N)</td>\n      <td>[C](C)(C)C#N</td>\n      <td>[CH2][CH](C(=O)NC(C)C)</td>\n      <td>0.8</td>\n      <td>[CH2][CH](C(=O)O)</td>\n      <td>...</td>\n      <td>NaN</td>\n      <td>NaN</td>\n      <td>32.1</td>\n      <td>NaN</td>\n      <td>A</td>\n      <td>NaN</td>\n      <td>PNIPAM-co-AA</td>\n      <td>NaN</td>\n      <td>NaN</td>\n      <td>NaN</td>\n    </tr>\n    <tr>\n      <th>1</th>\n      <td>10.1016/j.fuel.2016.10.075</td>\n      <td>random</td>\n      <td>NaN</td>\n      <td>linear</td>\n      <td>FRP</td>\n      <td>[C](C)(C)(C#N)</td>\n      <td>[C](C)(C)C#N</td>\n      <td>[CH2][CH](C(=O)NC(C)C)</td>\n      <td>0.8</td>\n      <td>[CH2][CH](C(=O)O)</td>\n      <td>...</td>\n      <td>NaN</td>\n      <td>NaN</td>\n      <td>43.0</td>\n      <td>NaN</td>\n      <td>A</td>\n      <td>NaN</td>\n      <td>PNIPAM-cycloprop-7.5</td>\n      <td>NaN</td>\n      <td>NaN</td>\n      <td>NaN</td>\n    </tr>\n    <tr>\n      <th>2</th>\n      <td>10.1016/j.fuel.2016.10.075</td>\n      <td>random</td>\n      <td>NaN</td>\n      <td>linear</td>\n      <td>FRP</td>\n      <td>[C](C)(C)(C#N)</td>\n      <td>[C](C)(C)C#N</td>\n      <td>[CH2][CH](C(=O)NC(C)C)</td>\n      <td>0.8</td>\n      <td>[CH2][CH](C(=O)O)</td>\n      <td>...</td>\n      <td>NaN</td>\n      <td>NaN</td>\n      <td>44.0</td>\n      <td>NaN</td>\n      <td>A</td>\n      <td>NaN</td>\n      <td>PNIPAM-cyclobut-7.5</td>\n      <td>NaN</td>\n      <td>NaN</td>\n      <td>NaN</td>\n    </tr>\n    <tr>\n      <th>3</th>\n      <td>10.1016/j.fuel.2016.10.075</td>\n      <td>random</td>\n      <td>NaN</td>\n      <td>linear</td>\n      <td>FRP</td>\n      <td>[C](C)(C)(C#N)</td>\n      <td>[C](C)(C)C#N</td>\n      <td>[CH2][CH](C(=O)NC(C)C)</td>\n      <td>0.8</td>\n      <td>[CH2][CH](C(=O)O)</td>\n      <td>...</td>\n      <td>NaN</td>\n      <td>NaN</td>\n      <td>45.5</td>\n      <td>NaN</td>\n      <td>A</td>\n      <td>NaN</td>\n      <td>PNIPAM-cyclopent-7.5</td>\n      <td>NaN</td>\n      <td>NaN</td>\n      <td>NaN</td>\n    </tr>\n    <tr>\n      <th>4</th>\n      <td>10.1016/j.fuel.2016.10.075</td>\n      <td>random</td>\n      <td>NaN</td>\n      <td>linear</td>\n      <td>FRP</td>\n      <td>[C](C)(C)(C#N)</td>\n      <td>[C](C)(C)C#N</td>\n      <td>[CH2][CH](C(=O)NC(C)C)</td>\n      <td>0.8</td>\n      <td>[CH2][CH](C(=O)O)</td>\n      <td>...</td>\n      <td>NaN</td>\n      <td>NaN</td>\n      <td>43.0</td>\n      <td>NaN</td>\n      <td>A</td>\n      <td>NaN</td>\n      <td>PNIPAM-cyclohept-7.5</td>\n      <td>NaN</td>\n      <td>NaN</td>\n      <td>NaN</td>\n    </tr>\n    <tr>\n      <th>...</th>\n      <td>...</td>\n      <td>...</td>\n      <td>...</td>\n      <td>...</td>\n      <td>...</td>\n      <td>...</td>\n      <td>...</td>\n      <td>...</td>\n      <td>...</td>\n      <td>...</td>\n      <td>...</td>\n      <td>...</td>\n      <td>...</td>\n      <td>...</td>\n      <td>...</td>\n      <td>...</td>\n      <td>...</td>\n      <td>...</td>\n      <td>...</td>\n      <td>...</td>\n      <td>...</td>\n    </tr>\n    <tr>\n      <th>906</th>\n      <td>10.1021/ma1005759</td>\n      <td>homo</td>\n      <td>NaN</td>\n      <td>graft</td>\n      <td>RAFT</td>\n      <td>[C](C)(C#N)(CCC(=O)NCC(F)(F)C(F)(F)C(F)(F)C(F)...</td>\n      <td>[CH2]CCCCCCCCCCCCCCC</td>\n      <td>[CH2][C](C)(C(=O)OCCOCCOCCOCCOC)</td>\n      <td>1.0</td>\n      <td>NaN</td>\n      <td>...</td>\n      <td>NaN</td>\n      <td>NaN</td>\n      <td>51.7</td>\n      <td>NaN</td>\n      <td>C</td>\n      <td>NaN</td>\n      <td>P15</td>\n      <td>632 nm</td>\n      <td>NaN</td>\n      <td>NaN</td>\n    </tr>\n    <tr>\n      <th>907</th>\n      <td>10.1021/ma1005759</td>\n      <td>homo</td>\n      <td>NaN</td>\n      <td>graft</td>\n      <td>RAFT</td>\n      <td>[C](C)(C#N)(CCC(=O)NCC(F)(F)C(F)(F)C(F)(F)C(F)...</td>\n      <td>[S](SCCC(F)(F)C(F)(F)C(F)(F)C(F)(F)C(F)(F)C(F)...</td>\n      <td>[CH2][C](C)(C(=O)OCCOCCOCCOCCOC)</td>\n      <td>1.0</td>\n      <td>NaN</td>\n      <td>...</td>\n      <td>NaN</td>\n      <td>NaN</td>\n      <td>50.3</td>\n      <td>NaN</td>\n      <td>C</td>\n      <td>NaN</td>\n      <td>P16</td>\n      <td>632 nm</td>\n      <td>NaN</td>\n      <td>NaN</td>\n    </tr>\n    <tr>\n      <th>908</th>\n      <td>10.1021/ma1005759</td>\n      <td>homo</td>\n      <td>NaN</td>\n      <td>graft</td>\n      <td>RAFT</td>\n      <td>[C](C)(C#N)(CCC(=O)N(CCCCCCCCCCCCCCCCCC)CCCCCC...</td>\n      <td>[S]SC</td>\n      <td>[CH2][C](C)(C(=O)OCCOCCOCCOCCOC)</td>\n      <td>1.0</td>\n      <td>NaN</td>\n      <td>...</td>\n      <td>NaN</td>\n      <td>NaN</td>\n      <td>48.9</td>\n      <td>NaN</td>\n      <td>C</td>\n      <td>NaN</td>\n      <td>P17</td>\n      <td>632 nm</td>\n      <td>NaN</td>\n      <td>NaN</td>\n    </tr>\n    <tr>\n      <th>909</th>\n      <td>10.1021/ma1005759</td>\n      <td>homo</td>\n      <td>NaN</td>\n      <td>graft</td>\n      <td>RAFT</td>\n      <td>[C](C)(C#N)(CCC(=O)N(CCCCCCCCCCCCCCCCCC)CCCCCC...</td>\n      <td>[S](SCCC(F)(F)C(F)(F)C(F)(F)C(F)(F)C(F)(F)C(F)...</td>\n      <td>[CH2][C](C)(C(=O)OCCOCCOCCOCCOC)</td>\n      <td>1.0</td>\n      <td>NaN</td>\n      <td>...</td>\n      <td>NaN</td>\n      <td>NaN</td>\n      <td>48.9</td>\n      <td>NaN</td>\n      <td>C</td>\n      <td>NaN</td>\n      <td>P18</td>\n      <td>632 nm</td>\n      <td>NaN</td>\n      <td>NaN</td>\n    </tr>\n    <tr>\n      <th>910</th>\n      <td>10.1021/ma1005759</td>\n      <td>homo</td>\n      <td>NaN</td>\n      <td>graft</td>\n      <td>RAFT</td>\n      <td>[C](C)(C#N)(CCC(=O)NCCNC(=O)c1ccc(N=Nc2ccccc2)...</td>\n      <td>[S]SC</td>\n      <td>[CH2][C](C)(C(=O)OCCOCCOCCOCCOC)</td>\n      <td>1.0</td>\n      <td>NaN</td>\n      <td>...</td>\n      <td>NaN</td>\n      <td>NaN</td>\n      <td>49.1</td>\n      <td>NaN</td>\n      <td>C</td>\n      <td>NaN</td>\n      <td>P19</td>\n      <td>632 nm</td>\n      <td>NaN</td>\n      <td>NaN</td>\n    </tr>\n  </tbody>\n</table>\n<p>911 rows × 38 columns</p>\n</div>"
     },
     "execution_count": 3,
     "metadata": {},
     "output_type": "execute_result"
    }
   ],
   "source": [
    "raw_df = pd.read_csv(RAW_CSV_PATH, sep=\";\", decimal=\",\")\n",
    "raw_df"
   ]
  },
  {
   "cell_type": "code",
   "execution_count": 4,
   "metadata": {
    "collapsed": false,
    "jupyter": {
     "outputs_hidden": false
    },
    "pycharm": {
     "name": "#%%\n"
    }
   },
   "outputs": [
    {
     "name": "stderr",
     "output_type": "stream",
     "text": [
      "[12:29:04] WARNING: not removing hydrogen atom without neighbors\n",
      "[12:29:04] WARNING: not removing hydrogen atom without neighbors\n",
      "[12:29:04] WARNING: not removing hydrogen atom without neighbors\n",
      "[12:29:04] WARNING: not removing hydrogen atom without neighbors\n"
     ]
    },
    {
     "data": {
      "text/plain": "                                    SMILES_start_group  \\\n0                                       [C](C)(C)(C#N)   \n1                                       [C](C)(C)(C#N)   \n2                                       [C](C)(C)(C#N)   \n3                                       [C](C)(C)(C#N)   \n4                                       [C](C)(C)(C#N)   \n..                                                 ...   \n906  [C](C)(C#N)(CCC(=O)NCC(F)(F)C(F)(F)C(F)(F)C(F)...   \n907  [C](C)(C#N)(CCC(=O)NCC(F)(F)C(F)(F)C(F)(F)C(F)...   \n908  [C](C)(C#N)(CCC(=O)N(CCCCCCCCCCCCCCCCCC)CCCCCC...   \n909  [C](C)(C#N)(CCC(=O)N(CCCCCCCCCCCCCCCCCC)CCCCCC...   \n910  [C](C)(C#N)(CCC(=O)NCCNC(=O)c1ccc(N=Nc2ccccc2)...   \n\n                                      SMILES_end_group  \\\n0                                         [C](C)(C)C#N   \n1                                         [C](C)(C)C#N   \n2                                         [C](C)(C)C#N   \n3                                         [C](C)(C)C#N   \n4                                         [C](C)(C)C#N   \n..                                                 ...   \n906                               [CH2]CCCCCCCCCCCCCCC   \n907  [S](SCCC(F)(F)C(F)(F)C(F)(F)C(F)(F)C(F)(F)C(F)...   \n908                                              [S]SC   \n909  [S](SCCC(F)(F)C(F)(F)C(F)(F)C(F)(F)C(F)(F)C(F)...   \n910                                              [S]SC   \n\n               SMILES_repeating_unitA  molpercent_repeating_unitA  \\\n0              [CH2][CH](C(=O)NC(C)C)                         0.8   \n1              [CH2][CH](C(=O)NC(C)C)                         0.8   \n2              [CH2][CH](C(=O)NC(C)C)                         0.8   \n3              [CH2][CH](C(=O)NC(C)C)                         0.8   \n4              [CH2][CH](C(=O)NC(C)C)                         0.8   \n..                                ...                         ...   \n906  [CH2][C](C)(C(=O)OCCOCCOCCOCCOC)                         1.0   \n907  [CH2][C](C)(C(=O)OCCOCCOCCOCCOC)                         1.0   \n908  [CH2][C](C)(C(=O)OCCOCCOCCOCCOC)                         1.0   \n909  [CH2][C](C)(C(=O)OCCOCCOCCOCCOC)                         1.0   \n910  [CH2][C](C)(C(=O)OCCOCCOCCOCCOC)                         1.0   \n\n    SMILES_repeating_unitB  molpercent_repeating_unitB  \\\n0        [CH2][CH](C(=O)O)                       0.200   \n1        [CH2][CH](C(=O)O)                       0.125   \n2        [CH2][CH](C(=O)O)                       0.125   \n3        [CH2][CH](C(=O)O)                       0.125   \n4        [CH2][CH](C(=O)O)                       0.125   \n..                     ...                         ...   \n906                    NaN                         NaN   \n907                    NaN                         NaN   \n908                    NaN                         NaN   \n909                    NaN                         NaN   \n910                    NaN                         NaN   \n\n         SMILES_repeating_unitC  molpercent_repeating_unitC  \\\n0                           NaN                         NaN   \n1        [CH2][CH](C(=O)NC1CC1)                       0.075   \n2       [CH2][CH](C(=O)NC1CCC1)                       0.075   \n3      [CH2][CH](C(=O)NC1CCCC1)                       0.075   \n4    [CH2][CH](C(=O)NC1CCCCCC1)                       0.075   \n..                          ...                         ...   \n906                         NaN                         NaN   \n907                         NaN                         NaN   \n908                         NaN                         NaN   \n909                         NaN                         NaN   \n910                         NaN                         NaN   \n\n     SMILES_repeating_unitD  molpercent_repeating_unitD  ...  additive_24  \\\n0                       NaN                         NaN  ...          0.0   \n1                       NaN                         NaN  ...          0.0   \n2                       NaN                         NaN  ...          0.0   \n3                       NaN                         NaN  ...          0.0   \n4                       NaN                         NaN  ...          0.0   \n..                      ...                         ...  ...          ...   \n906                     NaN                         NaN  ...          0.0   \n907                     NaN                         NaN  ...          0.0   \n908                     NaN                         NaN  ...          0.0   \n909                     NaN                         NaN  ...          0.0   \n910                     NaN                         NaN  ...          0.0   \n\n     additive_25  additive_26  additive_27  additive_28  additive_29  \\\n0            0.0          0.0          0.0          0.0          0.0   \n1            0.0          0.0          0.0          0.0          0.0   \n2            0.0          0.0          0.0          0.0          0.0   \n3            0.0          0.0          0.0          0.0          0.0   \n4            0.0          0.0          0.0          0.0          0.0   \n..           ...          ...          ...          ...          ...   \n906          0.0          0.0          0.0          0.0          0.0   \n907          0.0          0.0          0.0          0.0          0.0   \n908          0.0          0.0          0.0          0.0          0.0   \n909          0.0          0.0          0.0          0.0          0.0   \n910          0.0          0.0          0.0          0.0          0.0   \n\n     additive_30  additive_31  additive_32  additive_33  \n0            0.0          0.0          0.0          0.0  \n1            0.0          0.0          0.0          0.0  \n2            0.0          0.0          0.0          0.0  \n3            0.0          0.0          0.0          0.0  \n4            0.0          0.0          0.0          0.0  \n..           ...          ...          ...          ...  \n906          0.0          0.0          0.0          0.0  \n907          0.0          0.0          0.0          0.0  \n908          0.0          0.0          0.0          0.0  \n909          0.0          0.0          0.0          0.0  \n910          0.0          0.0          0.0          0.0  \n\n[858 rows x 51 columns]",
      "text/html": "<div>\n<style scoped>\n    .dataframe tbody tr th:only-of-type {\n        vertical-align: middle;\n    }\n\n    .dataframe tbody tr th {\n        vertical-align: top;\n    }\n\n    .dataframe thead th {\n        text-align: right;\n    }\n</style>\n<table border=\"1\" class=\"dataframe\">\n  <thead>\n    <tr style=\"text-align: right;\">\n      <th></th>\n      <th>SMILES_start_group</th>\n      <th>SMILES_end_group</th>\n      <th>SMILES_repeating_unitA</th>\n      <th>molpercent_repeating_unitA</th>\n      <th>SMILES_repeating_unitB</th>\n      <th>molpercent_repeating_unitB</th>\n      <th>SMILES_repeating_unitC</th>\n      <th>molpercent_repeating_unitC</th>\n      <th>SMILES_repeating_unitD</th>\n      <th>molpercent_repeating_unitD</th>\n      <th>...</th>\n      <th>additive_24</th>\n      <th>additive_25</th>\n      <th>additive_26</th>\n      <th>additive_27</th>\n      <th>additive_28</th>\n      <th>additive_29</th>\n      <th>additive_30</th>\n      <th>additive_31</th>\n      <th>additive_32</th>\n      <th>additive_33</th>\n    </tr>\n  </thead>\n  <tbody>\n    <tr>\n      <th>0</th>\n      <td>[C](C)(C)(C#N)</td>\n      <td>[C](C)(C)C#N</td>\n      <td>[CH2][CH](C(=O)NC(C)C)</td>\n      <td>0.8</td>\n      <td>[CH2][CH](C(=O)O)</td>\n      <td>0.200</td>\n      <td>NaN</td>\n      <td>NaN</td>\n      <td>NaN</td>\n      <td>NaN</td>\n      <td>...</td>\n      <td>0.0</td>\n      <td>0.0</td>\n      <td>0.0</td>\n      <td>0.0</td>\n      <td>0.0</td>\n      <td>0.0</td>\n      <td>0.0</td>\n      <td>0.0</td>\n      <td>0.0</td>\n      <td>0.0</td>\n    </tr>\n    <tr>\n      <th>1</th>\n      <td>[C](C)(C)(C#N)</td>\n      <td>[C](C)(C)C#N</td>\n      <td>[CH2][CH](C(=O)NC(C)C)</td>\n      <td>0.8</td>\n      <td>[CH2][CH](C(=O)O)</td>\n      <td>0.125</td>\n      <td>[CH2][CH](C(=O)NC1CC1)</td>\n      <td>0.075</td>\n      <td>NaN</td>\n      <td>NaN</td>\n      <td>...</td>\n      <td>0.0</td>\n      <td>0.0</td>\n      <td>0.0</td>\n      <td>0.0</td>\n      <td>0.0</td>\n      <td>0.0</td>\n      <td>0.0</td>\n      <td>0.0</td>\n      <td>0.0</td>\n      <td>0.0</td>\n    </tr>\n    <tr>\n      <th>2</th>\n      <td>[C](C)(C)(C#N)</td>\n      <td>[C](C)(C)C#N</td>\n      <td>[CH2][CH](C(=O)NC(C)C)</td>\n      <td>0.8</td>\n      <td>[CH2][CH](C(=O)O)</td>\n      <td>0.125</td>\n      <td>[CH2][CH](C(=O)NC1CCC1)</td>\n      <td>0.075</td>\n      <td>NaN</td>\n      <td>NaN</td>\n      <td>...</td>\n      <td>0.0</td>\n      <td>0.0</td>\n      <td>0.0</td>\n      <td>0.0</td>\n      <td>0.0</td>\n      <td>0.0</td>\n      <td>0.0</td>\n      <td>0.0</td>\n      <td>0.0</td>\n      <td>0.0</td>\n    </tr>\n    <tr>\n      <th>3</th>\n      <td>[C](C)(C)(C#N)</td>\n      <td>[C](C)(C)C#N</td>\n      <td>[CH2][CH](C(=O)NC(C)C)</td>\n      <td>0.8</td>\n      <td>[CH2][CH](C(=O)O)</td>\n      <td>0.125</td>\n      <td>[CH2][CH](C(=O)NC1CCCC1)</td>\n      <td>0.075</td>\n      <td>NaN</td>\n      <td>NaN</td>\n      <td>...</td>\n      <td>0.0</td>\n      <td>0.0</td>\n      <td>0.0</td>\n      <td>0.0</td>\n      <td>0.0</td>\n      <td>0.0</td>\n      <td>0.0</td>\n      <td>0.0</td>\n      <td>0.0</td>\n      <td>0.0</td>\n    </tr>\n    <tr>\n      <th>4</th>\n      <td>[C](C)(C)(C#N)</td>\n      <td>[C](C)(C)C#N</td>\n      <td>[CH2][CH](C(=O)NC(C)C)</td>\n      <td>0.8</td>\n      <td>[CH2][CH](C(=O)O)</td>\n      <td>0.125</td>\n      <td>[CH2][CH](C(=O)NC1CCCCCC1)</td>\n      <td>0.075</td>\n      <td>NaN</td>\n      <td>NaN</td>\n      <td>...</td>\n      <td>0.0</td>\n      <td>0.0</td>\n      <td>0.0</td>\n      <td>0.0</td>\n      <td>0.0</td>\n      <td>0.0</td>\n      <td>0.0</td>\n      <td>0.0</td>\n      <td>0.0</td>\n      <td>0.0</td>\n    </tr>\n    <tr>\n      <th>...</th>\n      <td>...</td>\n      <td>...</td>\n      <td>...</td>\n      <td>...</td>\n      <td>...</td>\n      <td>...</td>\n      <td>...</td>\n      <td>...</td>\n      <td>...</td>\n      <td>...</td>\n      <td>...</td>\n      <td>...</td>\n      <td>...</td>\n      <td>...</td>\n      <td>...</td>\n      <td>...</td>\n      <td>...</td>\n      <td>...</td>\n      <td>...</td>\n      <td>...</td>\n      <td>...</td>\n    </tr>\n    <tr>\n      <th>906</th>\n      <td>[C](C)(C#N)(CCC(=O)NCC(F)(F)C(F)(F)C(F)(F)C(F)...</td>\n      <td>[CH2]CCCCCCCCCCCCCCC</td>\n      <td>[CH2][C](C)(C(=O)OCCOCCOCCOCCOC)</td>\n      <td>1.0</td>\n      <td>NaN</td>\n      <td>NaN</td>\n      <td>NaN</td>\n      <td>NaN</td>\n      <td>NaN</td>\n      <td>NaN</td>\n      <td>...</td>\n      <td>0.0</td>\n      <td>0.0</td>\n      <td>0.0</td>\n      <td>0.0</td>\n      <td>0.0</td>\n      <td>0.0</td>\n      <td>0.0</td>\n      <td>0.0</td>\n      <td>0.0</td>\n      <td>0.0</td>\n    </tr>\n    <tr>\n      <th>907</th>\n      <td>[C](C)(C#N)(CCC(=O)NCC(F)(F)C(F)(F)C(F)(F)C(F)...</td>\n      <td>[S](SCCC(F)(F)C(F)(F)C(F)(F)C(F)(F)C(F)(F)C(F)...</td>\n      <td>[CH2][C](C)(C(=O)OCCOCCOCCOCCOC)</td>\n      <td>1.0</td>\n      <td>NaN</td>\n      <td>NaN</td>\n      <td>NaN</td>\n      <td>NaN</td>\n      <td>NaN</td>\n      <td>NaN</td>\n      <td>...</td>\n      <td>0.0</td>\n      <td>0.0</td>\n      <td>0.0</td>\n      <td>0.0</td>\n      <td>0.0</td>\n      <td>0.0</td>\n      <td>0.0</td>\n      <td>0.0</td>\n      <td>0.0</td>\n      <td>0.0</td>\n    </tr>\n    <tr>\n      <th>908</th>\n      <td>[C](C)(C#N)(CCC(=O)N(CCCCCCCCCCCCCCCCCC)CCCCCC...</td>\n      <td>[S]SC</td>\n      <td>[CH2][C](C)(C(=O)OCCOCCOCCOCCOC)</td>\n      <td>1.0</td>\n      <td>NaN</td>\n      <td>NaN</td>\n      <td>NaN</td>\n      <td>NaN</td>\n      <td>NaN</td>\n      <td>NaN</td>\n      <td>...</td>\n      <td>0.0</td>\n      <td>0.0</td>\n      <td>0.0</td>\n      <td>0.0</td>\n      <td>0.0</td>\n      <td>0.0</td>\n      <td>0.0</td>\n      <td>0.0</td>\n      <td>0.0</td>\n      <td>0.0</td>\n    </tr>\n    <tr>\n      <th>909</th>\n      <td>[C](C)(C#N)(CCC(=O)N(CCCCCCCCCCCCCCCCCC)CCCCCC...</td>\n      <td>[S](SCCC(F)(F)C(F)(F)C(F)(F)C(F)(F)C(F)(F)C(F)...</td>\n      <td>[CH2][C](C)(C(=O)OCCOCCOCCOCCOC)</td>\n      <td>1.0</td>\n      <td>NaN</td>\n      <td>NaN</td>\n      <td>NaN</td>\n      <td>NaN</td>\n      <td>NaN</td>\n      <td>NaN</td>\n      <td>...</td>\n      <td>0.0</td>\n      <td>0.0</td>\n      <td>0.0</td>\n      <td>0.0</td>\n      <td>0.0</td>\n      <td>0.0</td>\n      <td>0.0</td>\n      <td>0.0</td>\n      <td>0.0</td>\n      <td>0.0</td>\n    </tr>\n    <tr>\n      <th>910</th>\n      <td>[C](C)(C#N)(CCC(=O)NCCNC(=O)c1ccc(N=Nc2ccccc2)...</td>\n      <td>[S]SC</td>\n      <td>[CH2][C](C)(C(=O)OCCOCCOCCOCCOC)</td>\n      <td>1.0</td>\n      <td>NaN</td>\n      <td>NaN</td>\n      <td>NaN</td>\n      <td>NaN</td>\n      <td>NaN</td>\n      <td>NaN</td>\n      <td>...</td>\n      <td>0.0</td>\n      <td>0.0</td>\n      <td>0.0</td>\n      <td>0.0</td>\n      <td>0.0</td>\n      <td>0.0</td>\n      <td>0.0</td>\n      <td>0.0</td>\n      <td>0.0</td>\n      <td>0.0</td>\n    </tr>\n  </tbody>\n</table>\n<p>858 rows × 51 columns</p>\n</div>"
     },
     "execution_count": 4,
     "metadata": {},
     "output_type": "execute_result"
    }
   ],
   "source": [
    "raw_df[\"pH\"] = raw_df[\"pH\"].fillna(7)\n",
    "DEF_TYPE_MAP = {\n",
    "        \"A\": 0.1,\n",
    "        \"B\": 0.2,\n",
    "        \"C\": 0.5,\n",
    "        \"DSC\": 0.01,\n",
    "    }\n",
    "raw_df[\"def_type\"] = raw_df[\"def_type\"].fillna(\"0.1\")\n",
    "raw_df[\"def_type\"] = raw_df[\"def_type\"].apply(\n",
    "    lambda x: float(\n",
    "        (DEF_TYPE_MAP[x] if x in DEF_TYPE_MAP else str(x).replace(\",\", \".\"))\n",
    "    ),\n",
    ")\n",
    "\n",
    "# set poly_conc to polymer_concentration_mass_conc where it is NaN\n",
    "if \"polymer_concentration_mass_conc\" in raw_df.columns:\n",
    "    raw_df[\"polymer_concentration_wpercent\"] = raw_df[\"polymer_concentration_wpercent\"].fillna(raw_df[\"polymer_concentration_mass_conc\"])\n",
    "    raw_df= raw_df.drop(\n",
    "        [\"polymer_concentration_mass_conc\"], axis=1\n",
    "    )\n",
    "\n",
    "df,info = pfp.datareader.expand_data(\n",
    "    raw_df,\n",
    "    ignored_columns=[\"reference\",\n",
    "        \"polymer_type\",\n",
    "        \"polymer_type_style\",\n",
    "        \"polymer_architecture\",\n",
    "        \"polymerisation_type\",\n",
    "        \"Mw\",\n",
    "        \"PDI\",\n",
    "        \"mass_characterisation_method\",\n",
    "        \"mass_characterisation_standart\",\n",
    "        \"N/A\",\n",
    "        \"identifier\",\n",
    "        \"comment\",\n",
    "        \"tacticity\",\n",
    "        \"rating\",],\n",
    "    density=1,\n",
    "additive_wp_column_postfix = \"_concentration_weight_percent\",\n",
    "    additive_conc_column_postfix=\"_concentration_molar\"\n",
    "\n",
    "\n",
    ")\n",
    "\n",
    "df.to_csv(\"expanded_data.csv\")\n",
    "infofile = YAMLWrapConfig(\"expanded_info.yml\")\n",
    "infofile.set_data(info)\n",
    "infofile.save()\n",
    "df"
   ]
  },
  {
   "cell_type": "code",
   "execution_count": 5,
   "metadata": {
    "collapsed": false,
    "jupyter": {
     "outputs_hidden": false
    },
    "pycharm": {
     "name": "#%%\n"
    }
   },
   "outputs": [],
   "source": [
    "# Dataanalysis with matplotlib, seaborn and plotly - dash\n",
    "import matplotlib.pyplot as plt\n",
    "import seaborn as sns\n",
    "from dash import Dash, dcc, html, Input, Output\n",
    "import plotly.graph_objs as go\n",
    "import plotly.express as px"
   ]
  },
  {
   "cell_type": "code",
   "execution_count": 6,
   "metadata": {
    "pycharm": {
     "name": "#%%\n"
    }
   },
   "outputs": [],
   "source": [
    "# app = Dash(__name__)\n",
    "# app.layout = html.Div([\n",
    "#     html.H4('Interactive color selection with simple Dash example'),\n",
    "#     html.P(\"Select color:\"),\n",
    "#     dcc.Dropdown(\n",
    "#         id=\"dropdown\",\n",
    "#         options=['Gold', 'MediumTurquoise', 'LightGreen'],\n",
    "#         value='Gold',\n",
    "#         clearable=False,\n",
    "#     ),\n",
    "#     dcc.Graph(id=\"graph\"),\n",
    "# ])\n",
    "#\n",
    "#\n",
    "# @app.callback(\n",
    "#     Output(\"graph\", \"figure\"),\n",
    "#     Input(\"dropdown\", \"value\"))\n",
    "# def display_color(color):\n",
    "#     fig = go.Figure(\n",
    "#         data=go.Bar(y=[2, 3, 1], # replace with your own data source\n",
    "#                     marker_color=color))\n",
    "#     return fig\n",
    "#\n",
    "# app.run_server(debug=True) # set keyword argument reloader off if inside Jupyter"
   ]
  },
  {
   "cell_type": "code",
   "execution_count": 7,
   "outputs": [
    {
     "name": "stdout",
     "output_type": "stream",
     "text": [
      "number or different constitutional/repeating units: 47\n",
      "Not printing the standard jupyter output (which would be the plot) to save resources.\n"
     ]
    }
   ],
   "source": [
    "# create a depiction of all the amount of all smiles strings\n",
    "c = df[\"SMILES_repeating_unitA\"].value_counts(normalize=True)\n",
    "print(\"number or different constitutional/repeating units: {}\".format(len(c)))\n",
    "# threshold for strings which are only present in less than a specific percentage of the data\n",
    "frequent_strings = []\n",
    "perc = 0\n",
    "for s,p in zip(c.index,c.values):\n",
    "    if perc < 0.95:\n",
    "        perc += p\n",
    "        frequent_strings.append(s)\n",
    "    else:\n",
    "        break\n",
    "c = c.head(len(frequent_strings))\n",
    "\n",
    "# create a list of percentages strings for each SMILES string\n",
    "percentage_list = [str(perc_num) for perc_num in (np.around(c.values*100, decimals=1))]\n",
    "\n",
    "figure = px.bar(\n",
    "    x=c.index,\n",
    "    y=c.values,\n",
    "    title=\"Distribution of constitutional/repeating units\",\n",
    "    labels={\"x\": \"SMILES string\", \"y\": \"Number of entries [%]\"},\n",
    "    height=900,\n",
    "    text=percentage_list, # annotates each bar with its\n",
    ")\n",
    "\n",
    "# set lable angles diagonally\n",
    "figure.update_traces(textangle=-70)\n",
    "figure.update_layout(font_family = \"Calibri\")\n",
    "figure.update_xaxes(tickangle=-70)\n",
    "\n",
    "#creating a string for the information that was left out for better visibility\n",
    "information = \"Minority share = %.2f%% <br> (showing %.2f%% of all structures)\"  %((1-perc)*100, perc*100)\n",
    "figure.add_annotation(text=information,\n",
    "                      showarrow=False,\n",
    "                      bgcolor=\"lightblue\",\n",
    "                      xanchor=\"left\",\n",
    "                      y=0.2,\n",
    "                      x=1\n",
    "                      )\n",
    "\n",
    "# figure.show()\n",
    "print(\"Not printing the standard jupyter output (which would be the plot) to save resources.\")"
   ],
   "metadata": {
    "collapsed": false,
    "pycharm": {
     "name": "#%%\n"
    }
   }
  },
  {
   "cell_type": "code",
   "execution_count": 8,
   "outputs": [
    {
     "name": "stdout",
     "output_type": "stream",
     "text": [
      "Not printing the standard jupyter output (which would be the plot) to save resources.\n"
     ]
    }
   ],
   "source": [
    "# plot the distribution of the important polymer property - here the cloud point\n",
    "figure = px.histogram(\n",
    "    x=df[\"cloud_point\"],\n",
    "    title=\"Distribution of cloud points\",\n",
    "    labels={\"x\": \"Cloud point [°C]\", \"y\": \"Number of entries\"},\n",
    "    nbins=100,\n",
    ")\n",
    "figure.update_layout(font_family = \"Calibri\")\n",
    "# figure.show()\n",
    "print(\"Not printing the standard jupyter output (which would be the plot) to save resources.\")"
   ],
   "metadata": {
    "collapsed": false,
    "pycharm": {
     "name": "#%%\n"
    }
   }
  },
  {
   "cell_type": "code",
   "execution_count": 147,
   "outputs": [
    {
     "data": {
      "application/vnd.plotly.v1+json": {
       "data": [
        {
         "branchvalues": "total",
         "domain": {
          "x": [
           0.0,
           1.0
          ],
          "y": [
           0.0,
           1.0
          ]
         },
         "hovertemplate": "labels=%{label}<br>count=%{value}<br>parent=%{parent}<br>id=%{id}<extra></extra>",
         "ids": [
          "0.1/10.1002/(SICI)1099-0488(199703)35:4<595::AID-POLB7>3.0.CO;2-P",
          "0.5/10.1002/(SICI)1099-0518(19990801)37:15<2977::AID-POLA31>3.0.CO;2-I",
          "0.1/10.1002/macp.200400135",
          "0.5/10.1002/marc.200900843",
          "0.1/10.1002/pi.4990260208",
          "0.5/10.1002/pola.1992.080301115 ",
          "0.1/10.1002/pola.21357",
          "0.2/10.1002/pola.22371",
          "0.5/10.1002/pola.22371",
          "0.01/10.1016/S0032-3861%2899%2900513-3",
          "0.1/10.1016/S0966-7822(97)00029-4",
          "0.5/10.1016/S1381-5148(97)00128-4",
          "0.5/10.1016/j.ejps.2014.05.005",
          "0.1/10.1016/j.fuel.2016.10.075",
          "0.2/10.1016/j.polymer.2005.03.101",
          "0.05/10.1016/j.polymer.2012.01.027",
          "0.5/10.1021/acs.macromol.6b01451",
          "0.1/10.1021/bc980108s ",
          "0.1/10.1021/bc9901043",
          "0.1/10.1021/j100373a088",
          "0.5/10.1021/ja065324n",
          "0.5/10.1021/la001256l",
          "0.1/10.1021/la0106440",
          "0.1/10.1021/ma00007a034",
          "0.1/10.1021/ma001866s",
          "0.1/10.1021/ma034456n",
          "0.5/10.1021/ma0347971 ",
          "0.1/10.1021/ma0354039",
          "0.2/10.1021/ma0358733",
          "0.1/10.1021/ma048268o",
          "0.1/10.1021/ma0514572",
          "0.1/10.1021/ma0517042",
          "0.1/10.1021/ma070775t",
          "0.5/10.1021/ma1005759",
          "0.5/10.1021/ma702828n",
          "0.5/10.1021/ma8006703",
          "0.1/10.1021/ma9615112",
          "0.1/10.1021/ma980158s",
          "0.01/10.1021/ma981171f",
          "0.1/10.1021/ma981171f",
          "0.5/10.1021/ma981190p",
          "0.01",
          "0.05",
          "0.1",
          "0.2",
          "0.5"
         ],
         "labels": [
          "10.1002/(SICI)1099-0488(199703)35:4<595::AID-POLB7>3.0.CO;2-P",
          "10.1002/(SICI)1099-0518(19990801)37:15<2977::AID-POLA31>3.0.CO;2-I",
          "10.1002/macp.200400135",
          "10.1002/marc.200900843",
          "10.1002/pi.4990260208",
          "10.1002/pola.1992.080301115 ",
          "10.1002/pola.21357",
          "10.1002/pola.22371",
          "10.1002/pola.22371",
          "10.1016/S0032-3861%2899%2900513-3",
          "10.1016/S0966-7822(97)00029-4",
          "10.1016/S1381-5148(97)00128-4",
          "10.1016/j.ejps.2014.05.005",
          "10.1016/j.fuel.2016.10.075",
          "10.1016/j.polymer.2005.03.101",
          "10.1016/j.polymer.2012.01.027",
          "10.1021/acs.macromol.6b01451",
          "10.1021/bc980108s ",
          "10.1021/bc9901043",
          "10.1021/j100373a088",
          "10.1021/ja065324n",
          "10.1021/la001256l",
          "10.1021/la0106440",
          "10.1021/ma00007a034",
          "10.1021/ma001866s",
          "10.1021/ma034456n",
          "10.1021/ma0347971 ",
          "10.1021/ma0354039",
          "10.1021/ma0358733",
          "10.1021/ma048268o",
          "10.1021/ma0514572",
          "10.1021/ma0517042",
          "10.1021/ma070775t",
          "10.1021/ma1005759",
          "10.1021/ma702828n",
          "10.1021/ma8006703",
          "10.1021/ma9615112",
          "10.1021/ma980158s",
          "10.1021/ma981171f",
          "10.1021/ma981171f",
          "10.1021/ma981190p",
          "0.01",
          "0.05",
          "0.1",
          "0.2",
          "0.5"
         ],
         "name": "",
         "parents": [
          "0.1",
          "0.5",
          "0.1",
          "0.5",
          "0.1",
          "0.5",
          "0.1",
          "0.2",
          "0.5",
          "0.01",
          "0.1",
          "0.5",
          "0.5",
          "0.1",
          "0.2",
          "0.05",
          "0.5",
          "0.1",
          "0.1",
          "0.1",
          "0.5",
          "0.5",
          "0.1",
          "0.1",
          "0.1",
          "0.1",
          "0.5",
          "0.1",
          "0.2",
          "0.1",
          "0.1",
          "0.1",
          "0.1",
          "0.5",
          "0.5",
          "0.5",
          "0.1",
          "0.1",
          "0.01",
          "0.1",
          "0.5",
          "",
          "",
          "",
          "",
          ""
         ],
         "values": [
          10,
          46,
          32,
          159,
          29,
          27,
          56,
          12,
          6,
          1,
          10,
          19,
          9,
          52,
          7,
          16,
          4,
          16,
          16,
          6,
          30,
          83,
          29,
          9,
          3,
          17,
          10,
          10,
          4,
          2,
          8,
          18,
          4,
          19,
          10,
          20,
          10,
          1,
          6,
          18,
          67,
          7,
          16,
          356,
          23,
          509
         ],
         "type": "sunburst"
        }
       ],
       "layout": {
        "template": {
         "data": {
          "histogram2dcontour": [
           {
            "type": "histogram2dcontour",
            "colorbar": {
             "outlinewidth": 0,
             "ticks": ""
            },
            "colorscale": [
             [
              0.0,
              "#0d0887"
             ],
             [
              0.1111111111111111,
              "#46039f"
             ],
             [
              0.2222222222222222,
              "#7201a8"
             ],
             [
              0.3333333333333333,
              "#9c179e"
             ],
             [
              0.4444444444444444,
              "#bd3786"
             ],
             [
              0.5555555555555556,
              "#d8576b"
             ],
             [
              0.6666666666666666,
              "#ed7953"
             ],
             [
              0.7777777777777778,
              "#fb9f3a"
             ],
             [
              0.8888888888888888,
              "#fdca26"
             ],
             [
              1.0,
              "#f0f921"
             ]
            ]
           }
          ],
          "choropleth": [
           {
            "type": "choropleth",
            "colorbar": {
             "outlinewidth": 0,
             "ticks": ""
            }
           }
          ],
          "histogram2d": [
           {
            "type": "histogram2d",
            "colorbar": {
             "outlinewidth": 0,
             "ticks": ""
            },
            "colorscale": [
             [
              0.0,
              "#0d0887"
             ],
             [
              0.1111111111111111,
              "#46039f"
             ],
             [
              0.2222222222222222,
              "#7201a8"
             ],
             [
              0.3333333333333333,
              "#9c179e"
             ],
             [
              0.4444444444444444,
              "#bd3786"
             ],
             [
              0.5555555555555556,
              "#d8576b"
             ],
             [
              0.6666666666666666,
              "#ed7953"
             ],
             [
              0.7777777777777778,
              "#fb9f3a"
             ],
             [
              0.8888888888888888,
              "#fdca26"
             ],
             [
              1.0,
              "#f0f921"
             ]
            ]
           }
          ],
          "heatmap": [
           {
            "type": "heatmap",
            "colorbar": {
             "outlinewidth": 0,
             "ticks": ""
            },
            "colorscale": [
             [
              0.0,
              "#0d0887"
             ],
             [
              0.1111111111111111,
              "#46039f"
             ],
             [
              0.2222222222222222,
              "#7201a8"
             ],
             [
              0.3333333333333333,
              "#9c179e"
             ],
             [
              0.4444444444444444,
              "#bd3786"
             ],
             [
              0.5555555555555556,
              "#d8576b"
             ],
             [
              0.6666666666666666,
              "#ed7953"
             ],
             [
              0.7777777777777778,
              "#fb9f3a"
             ],
             [
              0.8888888888888888,
              "#fdca26"
             ],
             [
              1.0,
              "#f0f921"
             ]
            ]
           }
          ],
          "heatmapgl": [
           {
            "type": "heatmapgl",
            "colorbar": {
             "outlinewidth": 0,
             "ticks": ""
            },
            "colorscale": [
             [
              0.0,
              "#0d0887"
             ],
             [
              0.1111111111111111,
              "#46039f"
             ],
             [
              0.2222222222222222,
              "#7201a8"
             ],
             [
              0.3333333333333333,
              "#9c179e"
             ],
             [
              0.4444444444444444,
              "#bd3786"
             ],
             [
              0.5555555555555556,
              "#d8576b"
             ],
             [
              0.6666666666666666,
              "#ed7953"
             ],
             [
              0.7777777777777778,
              "#fb9f3a"
             ],
             [
              0.8888888888888888,
              "#fdca26"
             ],
             [
              1.0,
              "#f0f921"
             ]
            ]
           }
          ],
          "contourcarpet": [
           {
            "type": "contourcarpet",
            "colorbar": {
             "outlinewidth": 0,
             "ticks": ""
            }
           }
          ],
          "contour": [
           {
            "type": "contour",
            "colorbar": {
             "outlinewidth": 0,
             "ticks": ""
            },
            "colorscale": [
             [
              0.0,
              "#0d0887"
             ],
             [
              0.1111111111111111,
              "#46039f"
             ],
             [
              0.2222222222222222,
              "#7201a8"
             ],
             [
              0.3333333333333333,
              "#9c179e"
             ],
             [
              0.4444444444444444,
              "#bd3786"
             ],
             [
              0.5555555555555556,
              "#d8576b"
             ],
             [
              0.6666666666666666,
              "#ed7953"
             ],
             [
              0.7777777777777778,
              "#fb9f3a"
             ],
             [
              0.8888888888888888,
              "#fdca26"
             ],
             [
              1.0,
              "#f0f921"
             ]
            ]
           }
          ],
          "surface": [
           {
            "type": "surface",
            "colorbar": {
             "outlinewidth": 0,
             "ticks": ""
            },
            "colorscale": [
             [
              0.0,
              "#0d0887"
             ],
             [
              0.1111111111111111,
              "#46039f"
             ],
             [
              0.2222222222222222,
              "#7201a8"
             ],
             [
              0.3333333333333333,
              "#9c179e"
             ],
             [
              0.4444444444444444,
              "#bd3786"
             ],
             [
              0.5555555555555556,
              "#d8576b"
             ],
             [
              0.6666666666666666,
              "#ed7953"
             ],
             [
              0.7777777777777778,
              "#fb9f3a"
             ],
             [
              0.8888888888888888,
              "#fdca26"
             ],
             [
              1.0,
              "#f0f921"
             ]
            ]
           }
          ],
          "mesh3d": [
           {
            "type": "mesh3d",
            "colorbar": {
             "outlinewidth": 0,
             "ticks": ""
            }
           }
          ],
          "scatter": [
           {
            "fillpattern": {
             "fillmode": "overlay",
             "size": 10,
             "solidity": 0.2
            },
            "type": "scatter"
           }
          ],
          "parcoords": [
           {
            "type": "parcoords",
            "line": {
             "colorbar": {
              "outlinewidth": 0,
              "ticks": ""
             }
            }
           }
          ],
          "scatterpolargl": [
           {
            "type": "scatterpolargl",
            "marker": {
             "colorbar": {
              "outlinewidth": 0,
              "ticks": ""
             }
            }
           }
          ],
          "bar": [
           {
            "error_x": {
             "color": "#2a3f5f"
            },
            "error_y": {
             "color": "#2a3f5f"
            },
            "marker": {
             "line": {
              "color": "#E5ECF6",
              "width": 0.5
             },
             "pattern": {
              "fillmode": "overlay",
              "size": 10,
              "solidity": 0.2
             }
            },
            "type": "bar"
           }
          ],
          "scattergeo": [
           {
            "type": "scattergeo",
            "marker": {
             "colorbar": {
              "outlinewidth": 0,
              "ticks": ""
             }
            }
           }
          ],
          "scatterpolar": [
           {
            "type": "scatterpolar",
            "marker": {
             "colorbar": {
              "outlinewidth": 0,
              "ticks": ""
             }
            }
           }
          ],
          "histogram": [
           {
            "marker": {
             "pattern": {
              "fillmode": "overlay",
              "size": 10,
              "solidity": 0.2
             }
            },
            "type": "histogram"
           }
          ],
          "scattergl": [
           {
            "type": "scattergl",
            "marker": {
             "colorbar": {
              "outlinewidth": 0,
              "ticks": ""
             }
            }
           }
          ],
          "scatter3d": [
           {
            "type": "scatter3d",
            "line": {
             "colorbar": {
              "outlinewidth": 0,
              "ticks": ""
             }
            },
            "marker": {
             "colorbar": {
              "outlinewidth": 0,
              "ticks": ""
             }
            }
           }
          ],
          "scattermapbox": [
           {
            "type": "scattermapbox",
            "marker": {
             "colorbar": {
              "outlinewidth": 0,
              "ticks": ""
             }
            }
           }
          ],
          "scatterternary": [
           {
            "type": "scatterternary",
            "marker": {
             "colorbar": {
              "outlinewidth": 0,
              "ticks": ""
             }
            }
           }
          ],
          "scattercarpet": [
           {
            "type": "scattercarpet",
            "marker": {
             "colorbar": {
              "outlinewidth": 0,
              "ticks": ""
             }
            }
           }
          ],
          "carpet": [
           {
            "aaxis": {
             "endlinecolor": "#2a3f5f",
             "gridcolor": "white",
             "linecolor": "white",
             "minorgridcolor": "white",
             "startlinecolor": "#2a3f5f"
            },
            "baxis": {
             "endlinecolor": "#2a3f5f",
             "gridcolor": "white",
             "linecolor": "white",
             "minorgridcolor": "white",
             "startlinecolor": "#2a3f5f"
            },
            "type": "carpet"
           }
          ],
          "table": [
           {
            "cells": {
             "fill": {
              "color": "#EBF0F8"
             },
             "line": {
              "color": "white"
             }
            },
            "header": {
             "fill": {
              "color": "#C8D4E3"
             },
             "line": {
              "color": "white"
             }
            },
            "type": "table"
           }
          ],
          "barpolar": [
           {
            "marker": {
             "line": {
              "color": "#E5ECF6",
              "width": 0.5
             },
             "pattern": {
              "fillmode": "overlay",
              "size": 10,
              "solidity": 0.2
             }
            },
            "type": "barpolar"
           }
          ],
          "pie": [
           {
            "automargin": true,
            "type": "pie"
           }
          ]
         },
         "layout": {
          "autotypenumbers": "strict",
          "colorway": [
           "#636efa",
           "#EF553B",
           "#00cc96",
           "#ab63fa",
           "#FFA15A",
           "#19d3f3",
           "#FF6692",
           "#B6E880",
           "#FF97FF",
           "#FECB52"
          ],
          "font": {
           "color": "#2a3f5f"
          },
          "hovermode": "closest",
          "hoverlabel": {
           "align": "left"
          },
          "paper_bgcolor": "white",
          "plot_bgcolor": "#E5ECF6",
          "polar": {
           "bgcolor": "#E5ECF6",
           "angularaxis": {
            "gridcolor": "white",
            "linecolor": "white",
            "ticks": ""
           },
           "radialaxis": {
            "gridcolor": "white",
            "linecolor": "white",
            "ticks": ""
           }
          },
          "ternary": {
           "bgcolor": "#E5ECF6",
           "aaxis": {
            "gridcolor": "white",
            "linecolor": "white",
            "ticks": ""
           },
           "baxis": {
            "gridcolor": "white",
            "linecolor": "white",
            "ticks": ""
           },
           "caxis": {
            "gridcolor": "white",
            "linecolor": "white",
            "ticks": ""
           }
          },
          "coloraxis": {
           "colorbar": {
            "outlinewidth": 0,
            "ticks": ""
           }
          },
          "colorscale": {
           "sequential": [
            [
             0.0,
             "#0d0887"
            ],
            [
             0.1111111111111111,
             "#46039f"
            ],
            [
             0.2222222222222222,
             "#7201a8"
            ],
            [
             0.3333333333333333,
             "#9c179e"
            ],
            [
             0.4444444444444444,
             "#bd3786"
            ],
            [
             0.5555555555555556,
             "#d8576b"
            ],
            [
             0.6666666666666666,
             "#ed7953"
            ],
            [
             0.7777777777777778,
             "#fb9f3a"
            ],
            [
             0.8888888888888888,
             "#fdca26"
            ],
            [
             1.0,
             "#f0f921"
            ]
           ],
           "sequentialminus": [
            [
             0.0,
             "#0d0887"
            ],
            [
             0.1111111111111111,
             "#46039f"
            ],
            [
             0.2222222222222222,
             "#7201a8"
            ],
            [
             0.3333333333333333,
             "#9c179e"
            ],
            [
             0.4444444444444444,
             "#bd3786"
            ],
            [
             0.5555555555555556,
             "#d8576b"
            ],
            [
             0.6666666666666666,
             "#ed7953"
            ],
            [
             0.7777777777777778,
             "#fb9f3a"
            ],
            [
             0.8888888888888888,
             "#fdca26"
            ],
            [
             1.0,
             "#f0f921"
            ]
           ],
           "diverging": [
            [
             0,
             "#8e0152"
            ],
            [
             0.1,
             "#c51b7d"
            ],
            [
             0.2,
             "#de77ae"
            ],
            [
             0.3,
             "#f1b6da"
            ],
            [
             0.4,
             "#fde0ef"
            ],
            [
             0.5,
             "#f7f7f7"
            ],
            [
             0.6,
             "#e6f5d0"
            ],
            [
             0.7,
             "#b8e186"
            ],
            [
             0.8,
             "#7fbc41"
            ],
            [
             0.9,
             "#4d9221"
            ],
            [
             1,
             "#276419"
            ]
           ]
          },
          "xaxis": {
           "gridcolor": "white",
           "linecolor": "white",
           "ticks": "",
           "title": {
            "standoff": 15
           },
           "zerolinecolor": "white",
           "automargin": true,
           "zerolinewidth": 2
          },
          "yaxis": {
           "gridcolor": "white",
           "linecolor": "white",
           "ticks": "",
           "title": {
            "standoff": 15
           },
           "zerolinecolor": "white",
           "automargin": true,
           "zerolinewidth": 2
          },
          "scene": {
           "xaxis": {
            "backgroundcolor": "#E5ECF6",
            "gridcolor": "white",
            "linecolor": "white",
            "showbackground": true,
            "ticks": "",
            "zerolinecolor": "white",
            "gridwidth": 2
           },
           "yaxis": {
            "backgroundcolor": "#E5ECF6",
            "gridcolor": "white",
            "linecolor": "white",
            "showbackground": true,
            "ticks": "",
            "zerolinecolor": "white",
            "gridwidth": 2
           },
           "zaxis": {
            "backgroundcolor": "#E5ECF6",
            "gridcolor": "white",
            "linecolor": "white",
            "showbackground": true,
            "ticks": "",
            "zerolinecolor": "white",
            "gridwidth": 2
           }
          },
          "shapedefaults": {
           "line": {
            "color": "#2a3f5f"
           }
          },
          "annotationdefaults": {
           "arrowcolor": "#2a3f5f",
           "arrowhead": 0,
           "arrowwidth": 1
          },
          "geo": {
           "bgcolor": "white",
           "landcolor": "#E5ECF6",
           "subunitcolor": "white",
           "showland": true,
           "showlakes": true,
           "lakecolor": "white"
          },
          "title": {
           "x": 0.05
          },
          "mapbox": {
           "style": "light"
          }
         }
        },
        "legend": {
         "tracegroupgap": 0
        },
        "margin": {
         "t": 60
        },
        "font": {
         "size": 14
        },
        "title": {
         "font": {
          "size": 35
         },
         "text": "Definition Type",
         "y": 0.9,
         "x": 0.5,
         "xanchor": "center",
         "yanchor": "bottom"
        },
        "annotations": [
         {
          "align": "left",
          "borderwidth": 1,
          "showarrow": false,
          "text": "0.5 = ideally the inflection point <br>0.2 = empirically the intersection of baseline and tangent to the inflection point <br>0.1 = often declared as first appearance of cloudiness <br>0.05 = just choosen by the authors <br>0.01 = found to be the first the onset value specifically determined through DSC",
          "x": 0.5,
          "xref": "paper",
          "y": -0.26,
          "yanchor": "bottom",
          "yref": "paper"
         }
        ]
       },
       "config": {
        "plotlyServerURL": "https://plot.ly"
       }
      },
      "text/html": "<div>                            <div id=\"61d8f5f0-80f4-424b-a278-a74a5c47d1dc\" class=\"plotly-graph-div\" style=\"height:525px; width:100%;\"></div>            <script type=\"text/javascript\">                require([\"plotly\"], function(Plotly) {                    window.PLOTLYENV=window.PLOTLYENV || {};                                    if (document.getElementById(\"61d8f5f0-80f4-424b-a278-a74a5c47d1dc\")) {                    Plotly.newPlot(                        \"61d8f5f0-80f4-424b-a278-a74a5c47d1dc\",                        [{\"branchvalues\":\"total\",\"domain\":{\"x\":[0.0,1.0],\"y\":[0.0,1.0]},\"hovertemplate\":\"labels=%{label}\\u003cbr\\u003ecount=%{value}\\u003cbr\\u003eparent=%{parent}\\u003cbr\\u003eid=%{id}\\u003cextra\\u003e\\u003c\\u002fextra\\u003e\",\"ids\":[\"0.1\\u002f10.1002\\u002f(SICI)1099-0488(199703)35:4\\u003c595::AID-POLB7\\u003e3.0.CO;2-P\",\"0.5\\u002f10.1002\\u002f(SICI)1099-0518(19990801)37:15\\u003c2977::AID-POLA31\\u003e3.0.CO;2-I\",\"0.1\\u002f10.1002\\u002fmacp.200400135\",\"0.5\\u002f10.1002\\u002fmarc.200900843\",\"0.1\\u002f10.1002\\u002fpi.4990260208\",\"0.5\\u002f10.1002\\u002fpola.1992.080301115 \",\"0.1\\u002f10.1002\\u002fpola.21357\",\"0.2\\u002f10.1002\\u002fpola.22371\",\"0.5\\u002f10.1002\\u002fpola.22371\",\"0.01\\u002f10.1016\\u002fS0032-3861%2899%2900513-3\",\"0.1\\u002f10.1016\\u002fS0966-7822(97)00029-4\",\"0.5\\u002f10.1016\\u002fS1381-5148(97)00128-4\",\"0.5\\u002f10.1016\\u002fj.ejps.2014.05.005\",\"0.1\\u002f10.1016\\u002fj.fuel.2016.10.075\",\"0.2\\u002f10.1016\\u002fj.polymer.2005.03.101\",\"0.05\\u002f10.1016\\u002fj.polymer.2012.01.027\",\"0.5\\u002f10.1021\\u002facs.macromol.6b01451\",\"0.1\\u002f10.1021\\u002fbc980108s \",\"0.1\\u002f10.1021\\u002fbc9901043\",\"0.1\\u002f10.1021\\u002fj100373a088\",\"0.5\\u002f10.1021\\u002fja065324n\",\"0.5\\u002f10.1021\\u002fla001256l\",\"0.1\\u002f10.1021\\u002fla0106440\",\"0.1\\u002f10.1021\\u002fma00007a034\",\"0.1\\u002f10.1021\\u002fma001866s\",\"0.1\\u002f10.1021\\u002fma034456n\",\"0.5\\u002f10.1021\\u002fma0347971 \",\"0.1\\u002f10.1021\\u002fma0354039\",\"0.2\\u002f10.1021\\u002fma0358733\",\"0.1\\u002f10.1021\\u002fma048268o\",\"0.1\\u002f10.1021\\u002fma0514572\",\"0.1\\u002f10.1021\\u002fma0517042\",\"0.1\\u002f10.1021\\u002fma070775t\",\"0.5\\u002f10.1021\\u002fma1005759\",\"0.5\\u002f10.1021\\u002fma702828n\",\"0.5\\u002f10.1021\\u002fma8006703\",\"0.1\\u002f10.1021\\u002fma9615112\",\"0.1\\u002f10.1021\\u002fma980158s\",\"0.01\\u002f10.1021\\u002fma981171f\",\"0.1\\u002f10.1021\\u002fma981171f\",\"0.5\\u002f10.1021\\u002fma981190p\",\"0.01\",\"0.05\",\"0.1\",\"0.2\",\"0.5\"],\"labels\":[\"10.1002\\u002f(SICI)1099-0488(199703)35:4\\u003c595::AID-POLB7\\u003e3.0.CO;2-P\",\"10.1002\\u002f(SICI)1099-0518(19990801)37:15\\u003c2977::AID-POLA31\\u003e3.0.CO;2-I\",\"10.1002\\u002fmacp.200400135\",\"10.1002\\u002fmarc.200900843\",\"10.1002\\u002fpi.4990260208\",\"10.1002\\u002fpola.1992.080301115 \",\"10.1002\\u002fpola.21357\",\"10.1002\\u002fpola.22371\",\"10.1002\\u002fpola.22371\",\"10.1016\\u002fS0032-3861%2899%2900513-3\",\"10.1016\\u002fS0966-7822(97)00029-4\",\"10.1016\\u002fS1381-5148(97)00128-4\",\"10.1016\\u002fj.ejps.2014.05.005\",\"10.1016\\u002fj.fuel.2016.10.075\",\"10.1016\\u002fj.polymer.2005.03.101\",\"10.1016\\u002fj.polymer.2012.01.027\",\"10.1021\\u002facs.macromol.6b01451\",\"10.1021\\u002fbc980108s \",\"10.1021\\u002fbc9901043\",\"10.1021\\u002fj100373a088\",\"10.1021\\u002fja065324n\",\"10.1021\\u002fla001256l\",\"10.1021\\u002fla0106440\",\"10.1021\\u002fma00007a034\",\"10.1021\\u002fma001866s\",\"10.1021\\u002fma034456n\",\"10.1021\\u002fma0347971 \",\"10.1021\\u002fma0354039\",\"10.1021\\u002fma0358733\",\"10.1021\\u002fma048268o\",\"10.1021\\u002fma0514572\",\"10.1021\\u002fma0517042\",\"10.1021\\u002fma070775t\",\"10.1021\\u002fma1005759\",\"10.1021\\u002fma702828n\",\"10.1021\\u002fma8006703\",\"10.1021\\u002fma9615112\",\"10.1021\\u002fma980158s\",\"10.1021\\u002fma981171f\",\"10.1021\\u002fma981171f\",\"10.1021\\u002fma981190p\",\"0.01\",\"0.05\",\"0.1\",\"0.2\",\"0.5\"],\"name\":\"\",\"parents\":[\"0.1\",\"0.5\",\"0.1\",\"0.5\",\"0.1\",\"0.5\",\"0.1\",\"0.2\",\"0.5\",\"0.01\",\"0.1\",\"0.5\",\"0.5\",\"0.1\",\"0.2\",\"0.05\",\"0.5\",\"0.1\",\"0.1\",\"0.1\",\"0.5\",\"0.5\",\"0.1\",\"0.1\",\"0.1\",\"0.1\",\"0.5\",\"0.1\",\"0.2\",\"0.1\",\"0.1\",\"0.1\",\"0.1\",\"0.5\",\"0.5\",\"0.5\",\"0.1\",\"0.1\",\"0.01\",\"0.1\",\"0.5\",\"\",\"\",\"\",\"\",\"\"],\"values\":[10,46,32,159,29,27,56,12,6,1,10,19,9,52,7,16,4,16,16,6,30,83,29,9,3,17,10,10,4,2,8,18,4,19,10,20,10,1,6,18,67,7,16,356,23,509],\"type\":\"sunburst\"}],                        {\"template\":{\"data\":{\"histogram2dcontour\":[{\"type\":\"histogram2dcontour\",\"colorbar\":{\"outlinewidth\":0,\"ticks\":\"\"},\"colorscale\":[[0.0,\"#0d0887\"],[0.1111111111111111,\"#46039f\"],[0.2222222222222222,\"#7201a8\"],[0.3333333333333333,\"#9c179e\"],[0.4444444444444444,\"#bd3786\"],[0.5555555555555556,\"#d8576b\"],[0.6666666666666666,\"#ed7953\"],[0.7777777777777778,\"#fb9f3a\"],[0.8888888888888888,\"#fdca26\"],[1.0,\"#f0f921\"]]}],\"choropleth\":[{\"type\":\"choropleth\",\"colorbar\":{\"outlinewidth\":0,\"ticks\":\"\"}}],\"histogram2d\":[{\"type\":\"histogram2d\",\"colorbar\":{\"outlinewidth\":0,\"ticks\":\"\"},\"colorscale\":[[0.0,\"#0d0887\"],[0.1111111111111111,\"#46039f\"],[0.2222222222222222,\"#7201a8\"],[0.3333333333333333,\"#9c179e\"],[0.4444444444444444,\"#bd3786\"],[0.5555555555555556,\"#d8576b\"],[0.6666666666666666,\"#ed7953\"],[0.7777777777777778,\"#fb9f3a\"],[0.8888888888888888,\"#fdca26\"],[1.0,\"#f0f921\"]]}],\"heatmap\":[{\"type\":\"heatmap\",\"colorbar\":{\"outlinewidth\":0,\"ticks\":\"\"},\"colorscale\":[[0.0,\"#0d0887\"],[0.1111111111111111,\"#46039f\"],[0.2222222222222222,\"#7201a8\"],[0.3333333333333333,\"#9c179e\"],[0.4444444444444444,\"#bd3786\"],[0.5555555555555556,\"#d8576b\"],[0.6666666666666666,\"#ed7953\"],[0.7777777777777778,\"#fb9f3a\"],[0.8888888888888888,\"#fdca26\"],[1.0,\"#f0f921\"]]}],\"heatmapgl\":[{\"type\":\"heatmapgl\",\"colorbar\":{\"outlinewidth\":0,\"ticks\":\"\"},\"colorscale\":[[0.0,\"#0d0887\"],[0.1111111111111111,\"#46039f\"],[0.2222222222222222,\"#7201a8\"],[0.3333333333333333,\"#9c179e\"],[0.4444444444444444,\"#bd3786\"],[0.5555555555555556,\"#d8576b\"],[0.6666666666666666,\"#ed7953\"],[0.7777777777777778,\"#fb9f3a\"],[0.8888888888888888,\"#fdca26\"],[1.0,\"#f0f921\"]]}],\"contourcarpet\":[{\"type\":\"contourcarpet\",\"colorbar\":{\"outlinewidth\":0,\"ticks\":\"\"}}],\"contour\":[{\"type\":\"contour\",\"colorbar\":{\"outlinewidth\":0,\"ticks\":\"\"},\"colorscale\":[[0.0,\"#0d0887\"],[0.1111111111111111,\"#46039f\"],[0.2222222222222222,\"#7201a8\"],[0.3333333333333333,\"#9c179e\"],[0.4444444444444444,\"#bd3786\"],[0.5555555555555556,\"#d8576b\"],[0.6666666666666666,\"#ed7953\"],[0.7777777777777778,\"#fb9f3a\"],[0.8888888888888888,\"#fdca26\"],[1.0,\"#f0f921\"]]}],\"surface\":[{\"type\":\"surface\",\"colorbar\":{\"outlinewidth\":0,\"ticks\":\"\"},\"colorscale\":[[0.0,\"#0d0887\"],[0.1111111111111111,\"#46039f\"],[0.2222222222222222,\"#7201a8\"],[0.3333333333333333,\"#9c179e\"],[0.4444444444444444,\"#bd3786\"],[0.5555555555555556,\"#d8576b\"],[0.6666666666666666,\"#ed7953\"],[0.7777777777777778,\"#fb9f3a\"],[0.8888888888888888,\"#fdca26\"],[1.0,\"#f0f921\"]]}],\"mesh3d\":[{\"type\":\"mesh3d\",\"colorbar\":{\"outlinewidth\":0,\"ticks\":\"\"}}],\"scatter\":[{\"fillpattern\":{\"fillmode\":\"overlay\",\"size\":10,\"solidity\":0.2},\"type\":\"scatter\"}],\"parcoords\":[{\"type\":\"parcoords\",\"line\":{\"colorbar\":{\"outlinewidth\":0,\"ticks\":\"\"}}}],\"scatterpolargl\":[{\"type\":\"scatterpolargl\",\"marker\":{\"colorbar\":{\"outlinewidth\":0,\"ticks\":\"\"}}}],\"bar\":[{\"error_x\":{\"color\":\"#2a3f5f\"},\"error_y\":{\"color\":\"#2a3f5f\"},\"marker\":{\"line\":{\"color\":\"#E5ECF6\",\"width\":0.5},\"pattern\":{\"fillmode\":\"overlay\",\"size\":10,\"solidity\":0.2}},\"type\":\"bar\"}],\"scattergeo\":[{\"type\":\"scattergeo\",\"marker\":{\"colorbar\":{\"outlinewidth\":0,\"ticks\":\"\"}}}],\"scatterpolar\":[{\"type\":\"scatterpolar\",\"marker\":{\"colorbar\":{\"outlinewidth\":0,\"ticks\":\"\"}}}],\"histogram\":[{\"marker\":{\"pattern\":{\"fillmode\":\"overlay\",\"size\":10,\"solidity\":0.2}},\"type\":\"histogram\"}],\"scattergl\":[{\"type\":\"scattergl\",\"marker\":{\"colorbar\":{\"outlinewidth\":0,\"ticks\":\"\"}}}],\"scatter3d\":[{\"type\":\"scatter3d\",\"line\":{\"colorbar\":{\"outlinewidth\":0,\"ticks\":\"\"}},\"marker\":{\"colorbar\":{\"outlinewidth\":0,\"ticks\":\"\"}}}],\"scattermapbox\":[{\"type\":\"scattermapbox\",\"marker\":{\"colorbar\":{\"outlinewidth\":0,\"ticks\":\"\"}}}],\"scatterternary\":[{\"type\":\"scatterternary\",\"marker\":{\"colorbar\":{\"outlinewidth\":0,\"ticks\":\"\"}}}],\"scattercarpet\":[{\"type\":\"scattercarpet\",\"marker\":{\"colorbar\":{\"outlinewidth\":0,\"ticks\":\"\"}}}],\"carpet\":[{\"aaxis\":{\"endlinecolor\":\"#2a3f5f\",\"gridcolor\":\"white\",\"linecolor\":\"white\",\"minorgridcolor\":\"white\",\"startlinecolor\":\"#2a3f5f\"},\"baxis\":{\"endlinecolor\":\"#2a3f5f\",\"gridcolor\":\"white\",\"linecolor\":\"white\",\"minorgridcolor\":\"white\",\"startlinecolor\":\"#2a3f5f\"},\"type\":\"carpet\"}],\"table\":[{\"cells\":{\"fill\":{\"color\":\"#EBF0F8\"},\"line\":{\"color\":\"white\"}},\"header\":{\"fill\":{\"color\":\"#C8D4E3\"},\"line\":{\"color\":\"white\"}},\"type\":\"table\"}],\"barpolar\":[{\"marker\":{\"line\":{\"color\":\"#E5ECF6\",\"width\":0.5},\"pattern\":{\"fillmode\":\"overlay\",\"size\":10,\"solidity\":0.2}},\"type\":\"barpolar\"}],\"pie\":[{\"automargin\":true,\"type\":\"pie\"}]},\"layout\":{\"autotypenumbers\":\"strict\",\"colorway\":[\"#636efa\",\"#EF553B\",\"#00cc96\",\"#ab63fa\",\"#FFA15A\",\"#19d3f3\",\"#FF6692\",\"#B6E880\",\"#FF97FF\",\"#FECB52\"],\"font\":{\"color\":\"#2a3f5f\"},\"hovermode\":\"closest\",\"hoverlabel\":{\"align\":\"left\"},\"paper_bgcolor\":\"white\",\"plot_bgcolor\":\"#E5ECF6\",\"polar\":{\"bgcolor\":\"#E5ECF6\",\"angularaxis\":{\"gridcolor\":\"white\",\"linecolor\":\"white\",\"ticks\":\"\"},\"radialaxis\":{\"gridcolor\":\"white\",\"linecolor\":\"white\",\"ticks\":\"\"}},\"ternary\":{\"bgcolor\":\"#E5ECF6\",\"aaxis\":{\"gridcolor\":\"white\",\"linecolor\":\"white\",\"ticks\":\"\"},\"baxis\":{\"gridcolor\":\"white\",\"linecolor\":\"white\",\"ticks\":\"\"},\"caxis\":{\"gridcolor\":\"white\",\"linecolor\":\"white\",\"ticks\":\"\"}},\"coloraxis\":{\"colorbar\":{\"outlinewidth\":0,\"ticks\":\"\"}},\"colorscale\":{\"sequential\":[[0.0,\"#0d0887\"],[0.1111111111111111,\"#46039f\"],[0.2222222222222222,\"#7201a8\"],[0.3333333333333333,\"#9c179e\"],[0.4444444444444444,\"#bd3786\"],[0.5555555555555556,\"#d8576b\"],[0.6666666666666666,\"#ed7953\"],[0.7777777777777778,\"#fb9f3a\"],[0.8888888888888888,\"#fdca26\"],[1.0,\"#f0f921\"]],\"sequentialminus\":[[0.0,\"#0d0887\"],[0.1111111111111111,\"#46039f\"],[0.2222222222222222,\"#7201a8\"],[0.3333333333333333,\"#9c179e\"],[0.4444444444444444,\"#bd3786\"],[0.5555555555555556,\"#d8576b\"],[0.6666666666666666,\"#ed7953\"],[0.7777777777777778,\"#fb9f3a\"],[0.8888888888888888,\"#fdca26\"],[1.0,\"#f0f921\"]],\"diverging\":[[0,\"#8e0152\"],[0.1,\"#c51b7d\"],[0.2,\"#de77ae\"],[0.3,\"#f1b6da\"],[0.4,\"#fde0ef\"],[0.5,\"#f7f7f7\"],[0.6,\"#e6f5d0\"],[0.7,\"#b8e186\"],[0.8,\"#7fbc41\"],[0.9,\"#4d9221\"],[1,\"#276419\"]]},\"xaxis\":{\"gridcolor\":\"white\",\"linecolor\":\"white\",\"ticks\":\"\",\"title\":{\"standoff\":15},\"zerolinecolor\":\"white\",\"automargin\":true,\"zerolinewidth\":2},\"yaxis\":{\"gridcolor\":\"white\",\"linecolor\":\"white\",\"ticks\":\"\",\"title\":{\"standoff\":15},\"zerolinecolor\":\"white\",\"automargin\":true,\"zerolinewidth\":2},\"scene\":{\"xaxis\":{\"backgroundcolor\":\"#E5ECF6\",\"gridcolor\":\"white\",\"linecolor\":\"white\",\"showbackground\":true,\"ticks\":\"\",\"zerolinecolor\":\"white\",\"gridwidth\":2},\"yaxis\":{\"backgroundcolor\":\"#E5ECF6\",\"gridcolor\":\"white\",\"linecolor\":\"white\",\"showbackground\":true,\"ticks\":\"\",\"zerolinecolor\":\"white\",\"gridwidth\":2},\"zaxis\":{\"backgroundcolor\":\"#E5ECF6\",\"gridcolor\":\"white\",\"linecolor\":\"white\",\"showbackground\":true,\"ticks\":\"\",\"zerolinecolor\":\"white\",\"gridwidth\":2}},\"shapedefaults\":{\"line\":{\"color\":\"#2a3f5f\"}},\"annotationdefaults\":{\"arrowcolor\":\"#2a3f5f\",\"arrowhead\":0,\"arrowwidth\":1},\"geo\":{\"bgcolor\":\"white\",\"landcolor\":\"#E5ECF6\",\"subunitcolor\":\"white\",\"showland\":true,\"showlakes\":true,\"lakecolor\":\"white\"},\"title\":{\"x\":0.05},\"mapbox\":{\"style\":\"light\"}}},\"legend\":{\"tracegroupgap\":0},\"margin\":{\"t\":60},\"font\":{\"size\":14},\"title\":{\"font\":{\"size\":35},\"text\":\"Definition Type\",\"y\":0.9,\"x\":0.5,\"xanchor\":\"center\",\"yanchor\":\"bottom\"},\"annotations\":[{\"align\":\"left\",\"borderwidth\":1,\"showarrow\":false,\"text\":\"0.5 = ideally the inflection point \\u003cbr\\u003e0.2 = empirically the intersection of baseline and tangent to the inflection point \\u003cbr\\u003e0.1 = often declared as first appearance of cloudiness \\u003cbr\\u003e0.05 = just choosen by the authors \\u003cbr\\u003e0.01 = found to be the first the onset value specifically determined through DSC\",\"x\":0.5,\"xref\":\"paper\",\"y\":-0.26,\"yanchor\":\"bottom\",\"yref\":\"paper\"}]},                        {\"responsive\": true}                    ).then(function(){\n                            \nvar gd = document.getElementById('61d8f5f0-80f4-424b-a278-a74a5c47d1dc');\nvar x = new MutationObserver(function (mutations, observer) {{\n        var display = window.getComputedStyle(gd).display;\n        if (!display || display === 'none') {{\n            console.log([gd, 'removed!']);\n            Plotly.purge(gd);\n            observer.disconnect();\n        }}\n}});\n\n// Listen for the removal of the full notebook cells\nvar notebookContainer = gd.closest('#notebook-container');\nif (notebookContainer) {{\n    x.observe(notebookContainer, {childList: true});\n}}\n\n// Listen for the clearing of the current output cell\nvar outputEl = gd.closest('.output');\nif (outputEl) {{\n    x.observe(outputEl, {childList: true});\n}}\n\n                        })                };                });            </script>        </div>"
     },
     "metadata": {},
     "output_type": "display_data"
    }
   ],
   "source": [
    "# two sunburst charts to show which definitions for the cloud point are set how many times\n",
    "# we create the list of the different definitions and their counts\n",
    "\n",
    "fig = px.sunburst(raw_df, path=[\"def_type\",\"reference\"])\n",
    "fig.update_layout(\n",
    "    font_size=14,\n",
    "    title={\n",
    "        'text': \"Definition Type\",\n",
    "        'y':0.9,\n",
    "        'x':0.5,\n",
    "        \"font_size\":35,\n",
    "        'xanchor': 'center',\n",
    "        'yanchor': 'bottom'},\n",
    ")\n",
    "description = \"0.5 = ideally the inflection point <br>\" \\\n",
    "              \"0.2 = empirically the intersection of baseline and tangent to the inflection point <br>\" \\\n",
    "              \"0.1 = often declared as first appearance of cloudiness <br>\" \\\n",
    "              \"0.05 = just chosen by the authors <br>\" \\\n",
    "              \"0.01 = found to be the first the onset value specifically determined through DSC\"\n",
    "\n",
    "fig.add_annotation(text=description,\n",
    "                    align='left',\n",
    "                    showarrow=False,\n",
    "                    yanchor=\"bottom\",\n",
    "                    xref='paper',\n",
    "                    yref='paper',\n",
    "                    x=0.5,\n",
    "                    y=-.26,\n",
    "\n",
    "                    borderwidth=1)\n",
    "fig.show()\n",
    "# print(\"Not printing the plot to save resources.\")"
   ],
   "metadata": {
    "collapsed": false,
    "pycharm": {
     "name": "#%%\n"
    }
   }
  },
  {
   "cell_type": "code",
   "execution_count": 148,
   "outputs": [
    {
     "data": {
      "text/plain": "Text(0.5, 1.0, '$T_{CP}$  Definition types')"
     },
     "execution_count": 148,
     "metadata": {},
     "output_type": "execute_result"
    },
    {
     "data": {
      "text/plain": "<Figure size 640x480 with 1 Axes>",
      "image/png": "[encoded data removed]"
     },
     "metadata": {},
     "output_type": "display_data"
    }
   ],
   "source": [
    "# a similar more straight forward option than above\n",
    "reference_count = raw_df.groupby(\"def_type\") [\"reference\"].nunique().reset_index()\n",
    "sns.barplot(data= reference_count, x=\"def_type\", y=\"reference\", palette=\"mako_r\", hue=\"def_type\")\n",
    "plt.xlabel(\"Cloudpoint definition\")\n",
    "plt.title(\"$T_{CP}$  Definition types\")\n",
    "\n",
    "# save option\n",
    "# plt.savefig(fname=os.path.join(base_path, \"{} over {}\".format(y.name, x.name)), dpi=600, bbox_inches=\"tight\")"
   ],
   "metadata": {
    "collapsed": false,
    "pycharm": {
     "name": "#%%\n"
    }
   }
  },
  {
   "cell_type": "code",
   "execution_count": 152,
   "outputs": [
    {
     "name": "stdout",
     "output_type": "stream",
     "text": [
      "770 cloud_point and 770 Mn used\n",
      "from 858 overall entries 858 cloudpoints and 858 masses were used \n",
      "which after exclusion of those masses over 45000 g/mol gave 770 points to plot\n"
     ]
    },
    {
     "data": {
      "text/plain": "<Figure size 600x600 with 2 Axes>",
      "image/png": "[encoded data removed]"
     },
     "metadata": {},
     "output_type": "display_data"
    }
   ],
   "source": [
    "sns.set_theme(style=\"white\", palette=None)\n",
    "df2 = df[[\"cloud_point\", \"Mn\"]]\n",
    "df2 = df2.dropna()\n",
    "smaller_Mn = df2[df2[\"Mn\"] > 45000].index\n",
    "df2.drop(smaller_Mn, inplace=True)\n",
    "y, x= (df2[\"cloud_point\"], df2[\"Mn\"])\n",
    "print(\"{} {} and {} {} used\".format(len(y), y.name, len(x), x.name))\n",
    "\n",
    "# Draw a combo histogram and scatterplot with density contours\n",
    "f, ax = plt.subplots(figsize=(6, 6))\n",
    "sns.scatterplot(x=x, y=y, s=5, color=\".15\")\n",
    "sns.kdeplot(x=x, y=y, levels=5, color=\"w\", linewidths=1, zorder=0, fill=False, cmap=\"mako_r\")\n",
    "sns.histplot(x=x, y=y, bins=50, pthresh=.1, cmap=\"mako\", cbar=True)\n",
    "plt.xlabel(\"Mn [g/mol]\")\n",
    "plt.ylabel(\"$T_{CP}$ [°C]\")\n",
    "\n",
    "\n",
    "plt.title(\"Exclusion of polymers with molar masses over 45000 g/mol\")\n",
    "print(\"from {} overall entries {} cloudpoints and {} masses were used \\n\"\n",
    "      \"which after exclusion of those masses over 45000 g/mol gave {} points to plot\"\n",
    "    .format(len(df), len(df[\"cloud_point\"].dropna()) , len( df[\"Mn\"].dropna()), len(x)))\n",
    "\n",
    "# save option\n",
    "# plt.savefig(fname=os.path.join(base_path, \"{} over {}\".format(y.name, x.name)), dpi=600, bbox_inches=\"tight\")"
   ],
   "metadata": {
    "collapsed": false,
    "pycharm": {
     "name": "#%%\n"
    }
   }
  },
  {
   "cell_type": "code",
   "execution_count": 13,
   "outputs": [
    {
     "data": {
      "text/plain": "                                    SMILES_start_group  \\\n0                                       [C](C)(C)(C#N)   \n1                                       [C](C)(C)(C#N)   \n2                                       [C](C)(C)(C#N)   \n3                                       [C](C)(C)(C#N)   \n4                                       [C](C)(C)(C#N)   \n..                                                 ...   \n906  [C](C)(C#N)(CCC(=O)NCC(F)(F)C(F)(F)C(F)(F)C(F)...   \n907  [C](C)(C#N)(CCC(=O)NCC(F)(F)C(F)(F)C(F)(F)C(F)...   \n908  [C](C)(C#N)(CCC(=O)N(CCCCCCCCCCCCCCCCCC)CCCCCC...   \n909  [C](C)(C#N)(CCC(=O)N(CCCCCCCCCCCCCCCCCC)CCCCCC...   \n910  [C](C)(C#N)(CCC(=O)NCCNC(=O)c1ccc(N=Nc2ccccc2)...   \n\n                                      SMILES_end_group  \\\n0                                         [C](C)(C)C#N   \n1                                         [C](C)(C)C#N   \n2                                         [C](C)(C)C#N   \n3                                         [C](C)(C)C#N   \n4                                         [C](C)(C)C#N   \n..                                                 ...   \n906                               [CH2]CCCCCCCCCCCCCCC   \n907  [S](SCCC(F)(F)C(F)(F)C(F)(F)C(F)(F)C(F)(F)C(F)...   \n908                                              [S]SC   \n909  [S](SCCC(F)(F)C(F)(F)C(F)(F)C(F)(F)C(F)(F)C(F)...   \n910                                              [S]SC   \n\n               SMILES_repeating_unitA  molpercent_repeating_unitA  \\\n0              [CH2][CH](C(=O)NC(C)C)                         0.8   \n1              [CH2][CH](C(=O)NC(C)C)                         0.8   \n2              [CH2][CH](C(=O)NC(C)C)                         0.8   \n3              [CH2][CH](C(=O)NC(C)C)                         0.8   \n4              [CH2][CH](C(=O)NC(C)C)                         0.8   \n..                                ...                         ...   \n906  [CH2][C](C)(C(=O)OCCOCCOCCOCCOC)                         1.0   \n907  [CH2][C](C)(C(=O)OCCOCCOCCOCCOC)                         1.0   \n908  [CH2][C](C)(C(=O)OCCOCCOCCOCCOC)                         1.0   \n909  [CH2][C](C)(C(=O)OCCOCCOCCOCCOC)                         1.0   \n910  [CH2][C](C)(C(=O)OCCOCCOCCOCCOC)                         1.0   \n\n    SMILES_repeating_unitB  molpercent_repeating_unitB  \\\n0        [CH2][CH](C(=O)O)                       0.200   \n1        [CH2][CH](C(=O)O)                       0.125   \n2        [CH2][CH](C(=O)O)                       0.125   \n3        [CH2][CH](C(=O)O)                       0.125   \n4        [CH2][CH](C(=O)O)                       0.125   \n..                     ...                         ...   \n906                    NaN                         NaN   \n907                    NaN                         NaN   \n908                    NaN                         NaN   \n909                    NaN                         NaN   \n910                    NaN                         NaN   \n\n         SMILES_repeating_unitC  molpercent_repeating_unitC  \\\n0                           NaN                         NaN   \n1        [CH2][CH](C(=O)NC1CC1)                       0.075   \n2       [CH2][CH](C(=O)NC1CCC1)                       0.075   \n3      [CH2][CH](C(=O)NC1CCCC1)                       0.075   \n4    [CH2][CH](C(=O)NC1CCCCCC1)                       0.075   \n..                          ...                         ...   \n906                         NaN                         NaN   \n907                         NaN                         NaN   \n908                         NaN                         NaN   \n909                         NaN                         NaN   \n910                         NaN                         NaN   \n\n     SMILES_repeating_unitD  molpercent_repeating_unitD  ...  additive_24  \\\n0                       NaN                         NaN  ...          0.0   \n1                       NaN                         NaN  ...          0.0   \n2                       NaN                         NaN  ...          0.0   \n3                       NaN                         NaN  ...          0.0   \n4                       NaN                         NaN  ...          0.0   \n..                      ...                         ...  ...          ...   \n906                     NaN                         NaN  ...          0.0   \n907                     NaN                         NaN  ...          0.0   \n908                     NaN                         NaN  ...          0.0   \n909                     NaN                         NaN  ...          0.0   \n910                     NaN                         NaN  ...          0.0   \n\n     additive_25  additive_26  additive_27  additive_28  additive_29  \\\n0            0.0          0.0          0.0          0.0          0.0   \n1            0.0          0.0          0.0          0.0          0.0   \n2            0.0          0.0          0.0          0.0          0.0   \n3            0.0          0.0          0.0          0.0          0.0   \n4            0.0          0.0          0.0          0.0          0.0   \n..           ...          ...          ...          ...          ...   \n906          0.0          0.0          0.0          0.0          0.0   \n907          0.0          0.0          0.0          0.0          0.0   \n908          0.0          0.0          0.0          0.0          0.0   \n909          0.0          0.0          0.0          0.0          0.0   \n910          0.0          0.0          0.0          0.0          0.0   \n\n     additive_30  additive_31  additive_32  additive_33  \n0            0.0          0.0          0.0          0.0  \n1            0.0          0.0          0.0          0.0  \n2            0.0          0.0          0.0          0.0  \n3            0.0          0.0          0.0          0.0  \n4            0.0          0.0          0.0          0.0  \n..           ...          ...          ...          ...  \n906          0.0          0.0          0.0          0.0  \n907          0.0          0.0          0.0          0.0  \n908          0.0          0.0          0.0          0.0  \n909          0.0          0.0          0.0          0.0  \n910          0.0          0.0          0.0          0.0  \n\n[858 rows x 51 columns]",
      "text/html": "<div>\n<style scoped>\n    .dataframe tbody tr th:only-of-type {\n        vertical-align: middle;\n    }\n\n    .dataframe tbody tr th {\n        vertical-align: top;\n    }\n\n    .dataframe thead th {\n        text-align: right;\n    }\n</style>\n<table border=\"1\" class=\"dataframe\">\n  <thead>\n    <tr style=\"text-align: right;\">\n      <th></th>\n      <th>SMILES_start_group</th>\n      <th>SMILES_end_group</th>\n      <th>SMILES_repeating_unitA</th>\n      <th>molpercent_repeating_unitA</th>\n      <th>SMILES_repeating_unitB</th>\n      <th>molpercent_repeating_unitB</th>\n      <th>SMILES_repeating_unitC</th>\n      <th>molpercent_repeating_unitC</th>\n      <th>SMILES_repeating_unitD</th>\n      <th>molpercent_repeating_unitD</th>\n      <th>...</th>\n      <th>additive_24</th>\n      <th>additive_25</th>\n      <th>additive_26</th>\n      <th>additive_27</th>\n      <th>additive_28</th>\n      <th>additive_29</th>\n      <th>additive_30</th>\n      <th>additive_31</th>\n      <th>additive_32</th>\n      <th>additive_33</th>\n    </tr>\n  </thead>\n  <tbody>\n    <tr>\n      <th>0</th>\n      <td>[C](C)(C)(C#N)</td>\n      <td>[C](C)(C)C#N</td>\n      <td>[CH2][CH](C(=O)NC(C)C)</td>\n      <td>0.8</td>\n      <td>[CH2][CH](C(=O)O)</td>\n      <td>0.200</td>\n      <td>NaN</td>\n      <td>NaN</td>\n      <td>NaN</td>\n      <td>NaN</td>\n      <td>...</td>\n      <td>0.0</td>\n      <td>0.0</td>\n      <td>0.0</td>\n      <td>0.0</td>\n      <td>0.0</td>\n      <td>0.0</td>\n      <td>0.0</td>\n      <td>0.0</td>\n      <td>0.0</td>\n      <td>0.0</td>\n    </tr>\n    <tr>\n      <th>1</th>\n      <td>[C](C)(C)(C#N)</td>\n      <td>[C](C)(C)C#N</td>\n      <td>[CH2][CH](C(=O)NC(C)C)</td>\n      <td>0.8</td>\n      <td>[CH2][CH](C(=O)O)</td>\n      <td>0.125</td>\n      <td>[CH2][CH](C(=O)NC1CC1)</td>\n      <td>0.075</td>\n      <td>NaN</td>\n      <td>NaN</td>\n      <td>...</td>\n      <td>0.0</td>\n      <td>0.0</td>\n      <td>0.0</td>\n      <td>0.0</td>\n      <td>0.0</td>\n      <td>0.0</td>\n      <td>0.0</td>\n      <td>0.0</td>\n      <td>0.0</td>\n      <td>0.0</td>\n    </tr>\n    <tr>\n      <th>2</th>\n      <td>[C](C)(C)(C#N)</td>\n      <td>[C](C)(C)C#N</td>\n      <td>[CH2][CH](C(=O)NC(C)C)</td>\n      <td>0.8</td>\n      <td>[CH2][CH](C(=O)O)</td>\n      <td>0.125</td>\n      <td>[CH2][CH](C(=O)NC1CCC1)</td>\n      <td>0.075</td>\n      <td>NaN</td>\n      <td>NaN</td>\n      <td>...</td>\n      <td>0.0</td>\n      <td>0.0</td>\n      <td>0.0</td>\n      <td>0.0</td>\n      <td>0.0</td>\n      <td>0.0</td>\n      <td>0.0</td>\n      <td>0.0</td>\n      <td>0.0</td>\n      <td>0.0</td>\n    </tr>\n    <tr>\n      <th>3</th>\n      <td>[C](C)(C)(C#N)</td>\n      <td>[C](C)(C)C#N</td>\n      <td>[CH2][CH](C(=O)NC(C)C)</td>\n      <td>0.8</td>\n      <td>[CH2][CH](C(=O)O)</td>\n      <td>0.125</td>\n      <td>[CH2][CH](C(=O)NC1CCCC1)</td>\n      <td>0.075</td>\n      <td>NaN</td>\n      <td>NaN</td>\n      <td>...</td>\n      <td>0.0</td>\n      <td>0.0</td>\n      <td>0.0</td>\n      <td>0.0</td>\n      <td>0.0</td>\n      <td>0.0</td>\n      <td>0.0</td>\n      <td>0.0</td>\n      <td>0.0</td>\n      <td>0.0</td>\n    </tr>\n    <tr>\n      <th>4</th>\n      <td>[C](C)(C)(C#N)</td>\n      <td>[C](C)(C)C#N</td>\n      <td>[CH2][CH](C(=O)NC(C)C)</td>\n      <td>0.8</td>\n      <td>[CH2][CH](C(=O)O)</td>\n      <td>0.125</td>\n      <td>[CH2][CH](C(=O)NC1CCCCCC1)</td>\n      <td>0.075</td>\n      <td>NaN</td>\n      <td>NaN</td>\n      <td>...</td>\n      <td>0.0</td>\n      <td>0.0</td>\n      <td>0.0</td>\n      <td>0.0</td>\n      <td>0.0</td>\n      <td>0.0</td>\n      <td>0.0</td>\n      <td>0.0</td>\n      <td>0.0</td>\n      <td>0.0</td>\n    </tr>\n    <tr>\n      <th>...</th>\n      <td>...</td>\n      <td>...</td>\n      <td>...</td>\n      <td>...</td>\n      <td>...</td>\n      <td>...</td>\n      <td>...</td>\n      <td>...</td>\n      <td>...</td>\n      <td>...</td>\n      <td>...</td>\n      <td>...</td>\n      <td>...</td>\n      <td>...</td>\n      <td>...</td>\n      <td>...</td>\n      <td>...</td>\n      <td>...</td>\n      <td>...</td>\n      <td>...</td>\n      <td>...</td>\n    </tr>\n    <tr>\n      <th>906</th>\n      <td>[C](C)(C#N)(CCC(=O)NCC(F)(F)C(F)(F)C(F)(F)C(F)...</td>\n      <td>[CH2]CCCCCCCCCCCCCCC</td>\n      <td>[CH2][C](C)(C(=O)OCCOCCOCCOCCOC)</td>\n      <td>1.0</td>\n      <td>NaN</td>\n      <td>NaN</td>\n      <td>NaN</td>\n      <td>NaN</td>\n      <td>NaN</td>\n      <td>NaN</td>\n      <td>...</td>\n      <td>0.0</td>\n      <td>0.0</td>\n      <td>0.0</td>\n      <td>0.0</td>\n      <td>0.0</td>\n      <td>0.0</td>\n      <td>0.0</td>\n      <td>0.0</td>\n      <td>0.0</td>\n      <td>0.0</td>\n    </tr>\n    <tr>\n      <th>907</th>\n      <td>[C](C)(C#N)(CCC(=O)NCC(F)(F)C(F)(F)C(F)(F)C(F)...</td>\n      <td>[S](SCCC(F)(F)C(F)(F)C(F)(F)C(F)(F)C(F)(F)C(F)...</td>\n      <td>[CH2][C](C)(C(=O)OCCOCCOCCOCCOC)</td>\n      <td>1.0</td>\n      <td>NaN</td>\n      <td>NaN</td>\n      <td>NaN</td>\n      <td>NaN</td>\n      <td>NaN</td>\n      <td>NaN</td>\n      <td>...</td>\n      <td>0.0</td>\n      <td>0.0</td>\n      <td>0.0</td>\n      <td>0.0</td>\n      <td>0.0</td>\n      <td>0.0</td>\n      <td>0.0</td>\n      <td>0.0</td>\n      <td>0.0</td>\n      <td>0.0</td>\n    </tr>\n    <tr>\n      <th>908</th>\n      <td>[C](C)(C#N)(CCC(=O)N(CCCCCCCCCCCCCCCCCC)CCCCCC...</td>\n      <td>[S]SC</td>\n      <td>[CH2][C](C)(C(=O)OCCOCCOCCOCCOC)</td>\n      <td>1.0</td>\n      <td>NaN</td>\n      <td>NaN</td>\n      <td>NaN</td>\n      <td>NaN</td>\n      <td>NaN</td>\n      <td>NaN</td>\n      <td>...</td>\n      <td>0.0</td>\n      <td>0.0</td>\n      <td>0.0</td>\n      <td>0.0</td>\n      <td>0.0</td>\n      <td>0.0</td>\n      <td>0.0</td>\n      <td>0.0</td>\n      <td>0.0</td>\n      <td>0.0</td>\n    </tr>\n    <tr>\n      <th>909</th>\n      <td>[C](C)(C#N)(CCC(=O)N(CCCCCCCCCCCCCCCCCC)CCCCCC...</td>\n      <td>[S](SCCC(F)(F)C(F)(F)C(F)(F)C(F)(F)C(F)(F)C(F)...</td>\n      <td>[CH2][C](C)(C(=O)OCCOCCOCCOCCOC)</td>\n      <td>1.0</td>\n      <td>NaN</td>\n      <td>NaN</td>\n      <td>NaN</td>\n      <td>NaN</td>\n      <td>NaN</td>\n      <td>NaN</td>\n      <td>...</td>\n      <td>0.0</td>\n      <td>0.0</td>\n      <td>0.0</td>\n      <td>0.0</td>\n      <td>0.0</td>\n      <td>0.0</td>\n      <td>0.0</td>\n      <td>0.0</td>\n      <td>0.0</td>\n      <td>0.0</td>\n    </tr>\n    <tr>\n      <th>910</th>\n      <td>[C](C)(C#N)(CCC(=O)NCCNC(=O)c1ccc(N=Nc2ccccc2)...</td>\n      <td>[S]SC</td>\n      <td>[CH2][C](C)(C(=O)OCCOCCOCCOCCOC)</td>\n      <td>1.0</td>\n      <td>NaN</td>\n      <td>NaN</td>\n      <td>NaN</td>\n      <td>NaN</td>\n      <td>NaN</td>\n      <td>NaN</td>\n      <td>...</td>\n      <td>0.0</td>\n      <td>0.0</td>\n      <td>0.0</td>\n      <td>0.0</td>\n      <td>0.0</td>\n      <td>0.0</td>\n      <td>0.0</td>\n      <td>0.0</td>\n      <td>0.0</td>\n      <td>0.0</td>\n    </tr>\n  </tbody>\n</table>\n<p>858 rows × 51 columns</p>\n</div>"
     },
     "execution_count": 13,
     "metadata": {},
     "output_type": "execute_result"
    }
   ],
   "source": [
    "# lastly show representations of all polymerstyles\n",
    "df.nunique"
   ],
   "metadata": {
    "collapsed": false,
    "pycharm": {
     "name": "#%%\n"
    }
   }
  }
 ],
 "metadata": {
  "kernelspec": {
   "display_name": "Python 3 (ipykernel)",
   "language": "python",
   "name": "python3"
  },
  "language_info": {
   "codemirror_mode": {
    "name": "ipython",
    "version": 3
   },
   "file_extension": ".py",
   "mimetype": "text/x-python",
   "name": "python",
   "nbconvert_exporter": "python",
   "pygments_lexer": "ipython3",
   "version": "3.11.6"
  }
 },
 "nbformat": 4,
 "nbformat_minor": 4
}