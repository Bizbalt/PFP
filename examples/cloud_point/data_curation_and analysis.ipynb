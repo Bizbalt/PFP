{
 "cells": [
  {
   "cell_type": "code",
   "execution_count": 2,
   "metadata": {
    "collapsed": false,
    "jupyter": {
     "outputs_hidden": false
    },
    "pycharm": {
     "name": "#%%\n"
    }
   },
   "outputs": [],
   "source": [
    "import polyfingerprints as pfp\n",
    "import pandas as pd\n",
    "import numpy as np\n",
    "from wrapconfig import YAMLWrapConfig\n",
    "import matplotlib.pyplot as plt"
   ]
  },
  {
   "cell_type": "code",
   "execution_count": 3,
   "metadata": {
    "collapsed": false,
    "jupyter": {
     "outputs_hidden": false
    },
    "pycharm": {
     "name": "#%%\n"
    }
   },
   "outputs": [],
   "source": [
    "RAW_CSV_PATH =  \"./cloud_points_data.csv\""
   ]
  },
  {
   "cell_type": "code",
   "execution_count": 4,
   "metadata": {
    "collapsed": false,
    "jupyter": {
     "outputs_hidden": false
    },
    "pycharm": {
     "name": "#%%\n"
    }
   },
   "outputs": [
    {
     "data": {
      "text/plain": "                      reference polymer_type polymer_type_style  \\\n0    10.1016/j.fuel.2016.10.075       random                NaN   \n1    10.1016/j.fuel.2016.10.075       random                NaN   \n2    10.1016/j.fuel.2016.10.075       random                NaN   \n3    10.1016/j.fuel.2016.10.075       random                NaN   \n4    10.1016/j.fuel.2016.10.075       random                NaN   \n..                          ...          ...                ...   \n906           10.1021/ma1005759         homo                NaN   \n907           10.1021/ma1005759         homo                NaN   \n908           10.1021/ma1005759         homo                NaN   \n909           10.1021/ma1005759         homo                NaN   \n910           10.1021/ma1005759         homo                NaN   \n\n    polymer_architecture polymerisation_type  \\\n0                 linear                 FRP   \n1                 linear                 FRP   \n2                 linear                 FRP   \n3                 linear                 FRP   \n4                 linear                 FRP   \n..                   ...                 ...   \n906                graft                RAFT   \n907                graft                RAFT   \n908                graft                RAFT   \n909                graft                RAFT   \n910                graft                RAFT   \n\n                                    SMILES_start_group  \\\n0                                       [C](C)(C)(C#N)   \n1                                       [C](C)(C)(C#N)   \n2                                       [C](C)(C)(C#N)   \n3                                       [C](C)(C)(C#N)   \n4                                       [C](C)(C)(C#N)   \n..                                                 ...   \n906  [C](C)(C#N)(CCC(=O)NCC(F)(F)C(F)(F)C(F)(F)C(F)...   \n907  [C](C)(C#N)(CCC(=O)NCC(F)(F)C(F)(F)C(F)(F)C(F)...   \n908  [C](C)(C#N)(CCC(=O)N(CCCCCCCCCCCCCCCCCC)CCCCCC...   \n909  [C](C)(C#N)(CCC(=O)N(CCCCCCCCCCCCCCCCCC)CCCCCC...   \n910  [C](C)(C#N)(CCC(=O)NCCNC(=O)c1ccc(N=Nc2ccccc2)...   \n\n                                      SMILES_end_group  \\\n0                                         [C](C)(C)C#N   \n1                                         [C](C)(C)C#N   \n2                                         [C](C)(C)C#N   \n3                                         [C](C)(C)C#N   \n4                                         [C](C)(C)C#N   \n..                                                 ...   \n906                               [CH2]CCCCCCCCCCCCCCC   \n907  [S](SCCC(F)(F)C(F)(F)C(F)(F)C(F)(F)C(F)(F)C(F)...   \n908                                              [S]SC   \n909  [S](SCCC(F)(F)C(F)(F)C(F)(F)C(F)(F)C(F)(F)C(F)...   \n910                                              [S]SC   \n\n               SMILES_repeating_unitA  molpercent_repeating_unitA  \\\n0              [CH2][CH](C(=O)NC(C)C)                         0.8   \n1              [CH2][CH](C(=O)NC(C)C)                         0.8   \n2              [CH2][CH](C(=O)NC(C)C)                         0.8   \n3              [CH2][CH](C(=O)NC(C)C)                         0.8   \n4              [CH2][CH](C(=O)NC(C)C)                         0.8   \n..                                ...                         ...   \n906  [CH2][C](C)(C(=O)OCCOCCOCCOCCOC)                         1.0   \n907  [CH2][C](C)(C(=O)OCCOCCOCCOCCOC)                         1.0   \n908  [CH2][C](C)(C(=O)OCCOCCOCCOCCOC)                         1.0   \n909  [CH2][C](C)(C(=O)OCCOCCOCCOCCOC)                         1.0   \n910  [CH2][C](C)(C(=O)OCCOCCOCCOCCOC)                         1.0   \n\n    SMILES_repeating_unitB  ...  additive2_concentration_molar  \\\n0        [CH2][CH](C(=O)O)  ...                            NaN   \n1        [CH2][CH](C(=O)O)  ...                            NaN   \n2        [CH2][CH](C(=O)O)  ...                            NaN   \n3        [CH2][CH](C(=O)O)  ...                            NaN   \n4        [CH2][CH](C(=O)O)  ...                            NaN   \n..                     ...  ...                            ...   \n906                    NaN  ...                            NaN   \n907                    NaN  ...                            NaN   \n908                    NaN  ...                            NaN   \n909                    NaN  ...                            NaN   \n910                    NaN  ...                            NaN   \n\n    additive2_concentration_weight_percent  cloud_point  N/A  def_type  pH  \\\n0                                      NaN         32.1  NaN         A NaN   \n1                                      NaN         43.0  NaN         A NaN   \n2                                      NaN         44.0  NaN         A NaN   \n3                                      NaN         45.5  NaN         A NaN   \n4                                      NaN         43.0  NaN         A NaN   \n..                                     ...          ...  ...       ...  ..   \n906                                    NaN         51.7  NaN         C NaN   \n907                                    NaN         50.3  NaN         C NaN   \n908                                    NaN         48.9  NaN         C NaN   \n909                                    NaN         48.9  NaN         C NaN   \n910                                    NaN         49.1  NaN         C NaN   \n\n               identifier  comment  tacticity  rating  \n0            PNIPAM-co-AA      NaN        NaN     NaN  \n1    PNIPAM-cycloprop-7.5      NaN        NaN     NaN  \n2     PNIPAM-cyclobut-7.5      NaN        NaN     NaN  \n3    PNIPAM-cyclopent-7.5      NaN        NaN     NaN  \n4    PNIPAM-cyclohept-7.5      NaN        NaN     NaN  \n..                    ...      ...        ...     ...  \n906                   P15   632 nm        NaN     NaN  \n907                   P16   632 nm        NaN     NaN  \n908                   P17   632 nm        NaN     NaN  \n909                   P18   632 nm        NaN     NaN  \n910                   P19   632 nm        NaN     NaN  \n\n[911 rows x 38 columns]",
      "text/html": "<div>\n<style scoped>\n    .dataframe tbody tr th:only-of-type {\n        vertical-align: middle;\n    }\n\n    .dataframe tbody tr th {\n        vertical-align: top;\n    }\n\n    .dataframe thead th {\n        text-align: right;\n    }\n</style>\n<table border=\"1\" class=\"dataframe\">\n  <thead>\n    <tr style=\"text-align: right;\">\n      <th></th>\n      <th>reference</th>\n      <th>polymer_type</th>\n      <th>polymer_type_style</th>\n      <th>polymer_architecture</th>\n      <th>polymerisation_type</th>\n      <th>SMILES_start_group</th>\n      <th>SMILES_end_group</th>\n      <th>SMILES_repeating_unitA</th>\n      <th>molpercent_repeating_unitA</th>\n      <th>SMILES_repeating_unitB</th>\n      <th>...</th>\n      <th>additive2_concentration_molar</th>\n      <th>additive2_concentration_weight_percent</th>\n      <th>cloud_point</th>\n      <th>N/A</th>\n      <th>def_type</th>\n      <th>pH</th>\n      <th>identifier</th>\n      <th>comment</th>\n      <th>tacticity</th>\n      <th>rating</th>\n    </tr>\n  </thead>\n  <tbody>\n    <tr>\n      <th>0</th>\n      <td>10.1016/j.fuel.2016.10.075</td>\n      <td>random</td>\n      <td>NaN</td>\n      <td>linear</td>\n      <td>FRP</td>\n      <td>[C](C)(C)(C#N)</td>\n      <td>[C](C)(C)C#N</td>\n      <td>[CH2][CH](C(=O)NC(C)C)</td>\n      <td>0.8</td>\n      <td>[CH2][CH](C(=O)O)</td>\n      <td>...</td>\n      <td>NaN</td>\n      <td>NaN</td>\n      <td>32.1</td>\n      <td>NaN</td>\n      <td>A</td>\n      <td>NaN</td>\n      <td>PNIPAM-co-AA</td>\n      <td>NaN</td>\n      <td>NaN</td>\n      <td>NaN</td>\n    </tr>\n    <tr>\n      <th>1</th>\n      <td>10.1016/j.fuel.2016.10.075</td>\n      <td>random</td>\n      <td>NaN</td>\n      <td>linear</td>\n      <td>FRP</td>\n      <td>[C](C)(C)(C#N)</td>\n      <td>[C](C)(C)C#N</td>\n      <td>[CH2][CH](C(=O)NC(C)C)</td>\n      <td>0.8</td>\n      <td>[CH2][CH](C(=O)O)</td>\n      <td>...</td>\n      <td>NaN</td>\n      <td>NaN</td>\n      <td>43.0</td>\n      <td>NaN</td>\n      <td>A</td>\n      <td>NaN</td>\n      <td>PNIPAM-cycloprop-7.5</td>\n      <td>NaN</td>\n      <td>NaN</td>\n      <td>NaN</td>\n    </tr>\n    <tr>\n      <th>2</th>\n      <td>10.1016/j.fuel.2016.10.075</td>\n      <td>random</td>\n      <td>NaN</td>\n      <td>linear</td>\n      <td>FRP</td>\n      <td>[C](C)(C)(C#N)</td>\n      <td>[C](C)(C)C#N</td>\n      <td>[CH2][CH](C(=O)NC(C)C)</td>\n      <td>0.8</td>\n      <td>[CH2][CH](C(=O)O)</td>\n      <td>...</td>\n      <td>NaN</td>\n      <td>NaN</td>\n      <td>44.0</td>\n      <td>NaN</td>\n      <td>A</td>\n      <td>NaN</td>\n      <td>PNIPAM-cyclobut-7.5</td>\n      <td>NaN</td>\n      <td>NaN</td>\n      <td>NaN</td>\n    </tr>\n    <tr>\n      <th>3</th>\n      <td>10.1016/j.fuel.2016.10.075</td>\n      <td>random</td>\n      <td>NaN</td>\n      <td>linear</td>\n      <td>FRP</td>\n      <td>[C](C)(C)(C#N)</td>\n      <td>[C](C)(C)C#N</td>\n      <td>[CH2][CH](C(=O)NC(C)C)</td>\n      <td>0.8</td>\n      <td>[CH2][CH](C(=O)O)</td>\n      <td>...</td>\n      <td>NaN</td>\n      <td>NaN</td>\n      <td>45.5</td>\n      <td>NaN</td>\n      <td>A</td>\n      <td>NaN</td>\n      <td>PNIPAM-cyclopent-7.5</td>\n      <td>NaN</td>\n      <td>NaN</td>\n      <td>NaN</td>\n    </tr>\n    <tr>\n      <th>4</th>\n      <td>10.1016/j.fuel.2016.10.075</td>\n      <td>random</td>\n      <td>NaN</td>\n      <td>linear</td>\n      <td>FRP</td>\n      <td>[C](C)(C)(C#N)</td>\n      <td>[C](C)(C)C#N</td>\n      <td>[CH2][CH](C(=O)NC(C)C)</td>\n      <td>0.8</td>\n      <td>[CH2][CH](C(=O)O)</td>\n      <td>...</td>\n      <td>NaN</td>\n      <td>NaN</td>\n      <td>43.0</td>\n      <td>NaN</td>\n      <td>A</td>\n      <td>NaN</td>\n      <td>PNIPAM-cyclohept-7.5</td>\n      <td>NaN</td>\n      <td>NaN</td>\n      <td>NaN</td>\n    </tr>\n    <tr>\n      <th>...</th>\n      <td>...</td>\n      <td>...</td>\n      <td>...</td>\n      <td>...</td>\n      <td>...</td>\n      <td>...</td>\n      <td>...</td>\n      <td>...</td>\n      <td>...</td>\n      <td>...</td>\n      <td>...</td>\n      <td>...</td>\n      <td>...</td>\n      <td>...</td>\n      <td>...</td>\n      <td>...</td>\n      <td>...</td>\n      <td>...</td>\n      <td>...</td>\n      <td>...</td>\n      <td>...</td>\n    </tr>\n    <tr>\n      <th>906</th>\n      <td>10.1021/ma1005759</td>\n      <td>homo</td>\n      <td>NaN</td>\n      <td>graft</td>\n      <td>RAFT</td>\n      <td>[C](C)(C#N)(CCC(=O)NCC(F)(F)C(F)(F)C(F)(F)C(F)...</td>\n      <td>[CH2]CCCCCCCCCCCCCCC</td>\n      <td>[CH2][C](C)(C(=O)OCCOCCOCCOCCOC)</td>\n      <td>1.0</td>\n      <td>NaN</td>\n      <td>...</td>\n      <td>NaN</td>\n      <td>NaN</td>\n      <td>51.7</td>\n      <td>NaN</td>\n      <td>C</td>\n      <td>NaN</td>\n      <td>P15</td>\n      <td>632 nm</td>\n      <td>NaN</td>\n      <td>NaN</td>\n    </tr>\n    <tr>\n      <th>907</th>\n      <td>10.1021/ma1005759</td>\n      <td>homo</td>\n      <td>NaN</td>\n      <td>graft</td>\n      <td>RAFT</td>\n      <td>[C](C)(C#N)(CCC(=O)NCC(F)(F)C(F)(F)C(F)(F)C(F)...</td>\n      <td>[S](SCCC(F)(F)C(F)(F)C(F)(F)C(F)(F)C(F)(F)C(F)...</td>\n      <td>[CH2][C](C)(C(=O)OCCOCCOCCOCCOC)</td>\n      <td>1.0</td>\n      <td>NaN</td>\n      <td>...</td>\n      <td>NaN</td>\n      <td>NaN</td>\n      <td>50.3</td>\n      <td>NaN</td>\n      <td>C</td>\n      <td>NaN</td>\n      <td>P16</td>\n      <td>632 nm</td>\n      <td>NaN</td>\n      <td>NaN</td>\n    </tr>\n    <tr>\n      <th>908</th>\n      <td>10.1021/ma1005759</td>\n      <td>homo</td>\n      <td>NaN</td>\n      <td>graft</td>\n      <td>RAFT</td>\n      <td>[C](C)(C#N)(CCC(=O)N(CCCCCCCCCCCCCCCCCC)CCCCCC...</td>\n      <td>[S]SC</td>\n      <td>[CH2][C](C)(C(=O)OCCOCCOCCOCCOC)</td>\n      <td>1.0</td>\n      <td>NaN</td>\n      <td>...</td>\n      <td>NaN</td>\n      <td>NaN</td>\n      <td>48.9</td>\n      <td>NaN</td>\n      <td>C</td>\n      <td>NaN</td>\n      <td>P17</td>\n      <td>632 nm</td>\n      <td>NaN</td>\n      <td>NaN</td>\n    </tr>\n    <tr>\n      <th>909</th>\n      <td>10.1021/ma1005759</td>\n      <td>homo</td>\n      <td>NaN</td>\n      <td>graft</td>\n      <td>RAFT</td>\n      <td>[C](C)(C#N)(CCC(=O)N(CCCCCCCCCCCCCCCCCC)CCCCCC...</td>\n      <td>[S](SCCC(F)(F)C(F)(F)C(F)(F)C(F)(F)C(F)(F)C(F)...</td>\n      <td>[CH2][C](C)(C(=O)OCCOCCOCCOCCOC)</td>\n      <td>1.0</td>\n      <td>NaN</td>\n      <td>...</td>\n      <td>NaN</td>\n      <td>NaN</td>\n      <td>48.9</td>\n      <td>NaN</td>\n      <td>C</td>\n      <td>NaN</td>\n      <td>P18</td>\n      <td>632 nm</td>\n      <td>NaN</td>\n      <td>NaN</td>\n    </tr>\n    <tr>\n      <th>910</th>\n      <td>10.1021/ma1005759</td>\n      <td>homo</td>\n      <td>NaN</td>\n      <td>graft</td>\n      <td>RAFT</td>\n      <td>[C](C)(C#N)(CCC(=O)NCCNC(=O)c1ccc(N=Nc2ccccc2)...</td>\n      <td>[S]SC</td>\n      <td>[CH2][C](C)(C(=O)OCCOCCOCCOCCOC)</td>\n      <td>1.0</td>\n      <td>NaN</td>\n      <td>...</td>\n      <td>NaN</td>\n      <td>NaN</td>\n      <td>49.1</td>\n      <td>NaN</td>\n      <td>C</td>\n      <td>NaN</td>\n      <td>P19</td>\n      <td>632 nm</td>\n      <td>NaN</td>\n      <td>NaN</td>\n    </tr>\n  </tbody>\n</table>\n<p>911 rows × 38 columns</p>\n</div>"
     },
     "execution_count": 4,
     "metadata": {},
     "output_type": "execute_result"
    }
   ],
   "source": [
    "raw_df = pd.read_csv(RAW_CSV_PATH, sep=\";\", decimal=\",\")\n",
    "raw_df"
   ]
  },
  {
   "cell_type": "code",
   "execution_count": 5,
   "metadata": {
    "collapsed": false,
    "jupyter": {
     "outputs_hidden": false
    },
    "pycharm": {
     "name": "#%%\n"
    }
   },
   "outputs": [
    {
     "name": "stderr",
     "output_type": "stream",
     "text": [
      "[10:04:35] WARNING: not removing hydrogen atom without neighbors\n",
      "[10:04:35] WARNING: not removing hydrogen atom without neighbors\n",
      "[10:04:35] WARNING: not removing hydrogen atom without neighbors\n",
      "[10:04:35] WARNING: not removing hydrogen atom without neighbors\n"
     ]
    },
    {
     "data": {
      "text/plain": "                                    SMILES_start_group  \\\n0                                       [C](C)(C)(C#N)   \n1                                       [C](C)(C)(C#N)   \n2                                       [C](C)(C)(C#N)   \n3                                       [C](C)(C)(C#N)   \n4                                       [C](C)(C)(C#N)   \n..                                                 ...   \n906  [C](C)(C#N)(CCC(=O)NCC(F)(F)C(F)(F)C(F)(F)C(F)...   \n907  [C](C)(C#N)(CCC(=O)NCC(F)(F)C(F)(F)C(F)(F)C(F)...   \n908  [C](C)(C#N)(CCC(=O)N(CCCCCCCCCCCCCCCCCC)CCCCCC...   \n909  [C](C)(C#N)(CCC(=O)N(CCCCCCCCCCCCCCCCCC)CCCCCC...   \n910  [C](C)(C#N)(CCC(=O)NCCNC(=O)c1ccc(N=Nc2ccccc2)...   \n\n                                      SMILES_end_group  \\\n0                                         [C](C)(C)C#N   \n1                                         [C](C)(C)C#N   \n2                                         [C](C)(C)C#N   \n3                                         [C](C)(C)C#N   \n4                                         [C](C)(C)C#N   \n..                                                 ...   \n906                               [CH2]CCCCCCCCCCCCCCC   \n907  [S](SCCC(F)(F)C(F)(F)C(F)(F)C(F)(F)C(F)(F)C(F)...   \n908                                              [S]SC   \n909  [S](SCCC(F)(F)C(F)(F)C(F)(F)C(F)(F)C(F)(F)C(F)...   \n910                                              [S]SC   \n\n               SMILES_repeating_unitA  molpercent_repeating_unitA  \\\n0              [CH2][CH](C(=O)NC(C)C)                         0.8   \n1              [CH2][CH](C(=O)NC(C)C)                         0.8   \n2              [CH2][CH](C(=O)NC(C)C)                         0.8   \n3              [CH2][CH](C(=O)NC(C)C)                         0.8   \n4              [CH2][CH](C(=O)NC(C)C)                         0.8   \n..                                ...                         ...   \n906  [CH2][C](C)(C(=O)OCCOCCOCCOCCOC)                         1.0   \n907  [CH2][C](C)(C(=O)OCCOCCOCCOCCOC)                         1.0   \n908  [CH2][C](C)(C(=O)OCCOCCOCCOCCOC)                         1.0   \n909  [CH2][C](C)(C(=O)OCCOCCOCCOCCOC)                         1.0   \n910  [CH2][C](C)(C(=O)OCCOCCOCCOCCOC)                         1.0   \n\n    SMILES_repeating_unitB  molpercent_repeating_unitB  \\\n0        [CH2][CH](C(=O)O)                       0.200   \n1        [CH2][CH](C(=O)O)                       0.125   \n2        [CH2][CH](C(=O)O)                       0.125   \n3        [CH2][CH](C(=O)O)                       0.125   \n4        [CH2][CH](C(=O)O)                       0.125   \n..                     ...                         ...   \n906                    NaN                         NaN   \n907                    NaN                         NaN   \n908                    NaN                         NaN   \n909                    NaN                         NaN   \n910                    NaN                         NaN   \n\n         SMILES_repeating_unitC  molpercent_repeating_unitC  \\\n0                           NaN                         NaN   \n1        [CH2][CH](C(=O)NC1CC1)                       0.075   \n2       [CH2][CH](C(=O)NC1CCC1)                       0.075   \n3      [CH2][CH](C(=O)NC1CCCC1)                       0.075   \n4    [CH2][CH](C(=O)NC1CCCCCC1)                       0.075   \n..                          ...                         ...   \n906                         NaN                         NaN   \n907                         NaN                         NaN   \n908                         NaN                         NaN   \n909                         NaN                         NaN   \n910                         NaN                         NaN   \n\n     SMILES_repeating_unitD  molpercent_repeating_unitD  ...  additive_24  \\\n0                       NaN                         NaN  ...          0.0   \n1                       NaN                         NaN  ...          0.0   \n2                       NaN                         NaN  ...          0.0   \n3                       NaN                         NaN  ...          0.0   \n4                       NaN                         NaN  ...          0.0   \n..                      ...                         ...  ...          ...   \n906                     NaN                         NaN  ...          0.0   \n907                     NaN                         NaN  ...          0.0   \n908                     NaN                         NaN  ...          0.0   \n909                     NaN                         NaN  ...          0.0   \n910                     NaN                         NaN  ...          0.0   \n\n     additive_25  additive_26  additive_27  additive_28  additive_29  \\\n0            0.0          0.0          0.0          0.0          0.0   \n1            0.0          0.0          0.0          0.0          0.0   \n2            0.0          0.0          0.0          0.0          0.0   \n3            0.0          0.0          0.0          0.0          0.0   \n4            0.0          0.0          0.0          0.0          0.0   \n..           ...          ...          ...          ...          ...   \n906          0.0          0.0          0.0          0.0          0.0   \n907          0.0          0.0          0.0          0.0          0.0   \n908          0.0          0.0          0.0          0.0          0.0   \n909          0.0          0.0          0.0          0.0          0.0   \n910          0.0          0.0          0.0          0.0          0.0   \n\n     additive_30  additive_31  additive_32  additive_33  \n0            0.0          0.0          0.0          0.0  \n1            0.0          0.0          0.0          0.0  \n2            0.0          0.0          0.0          0.0  \n3            0.0          0.0          0.0          0.0  \n4            0.0          0.0          0.0          0.0  \n..           ...          ...          ...          ...  \n906          0.0          0.0          0.0          0.0  \n907          0.0          0.0          0.0          0.0  \n908          0.0          0.0          0.0          0.0  \n909          0.0          0.0          0.0          0.0  \n910          0.0          0.0          0.0          0.0  \n\n[858 rows x 51 columns]",
      "text/html": "<div>\n<style scoped>\n    .dataframe tbody tr th:only-of-type {\n        vertical-align: middle;\n    }\n\n    .dataframe tbody tr th {\n        vertical-align: top;\n    }\n\n    .dataframe thead th {\n        text-align: right;\n    }\n</style>\n<table border=\"1\" class=\"dataframe\">\n  <thead>\n    <tr style=\"text-align: right;\">\n      <th></th>\n      <th>SMILES_start_group</th>\n      <th>SMILES_end_group</th>\n      <th>SMILES_repeating_unitA</th>\n      <th>molpercent_repeating_unitA</th>\n      <th>SMILES_repeating_unitB</th>\n      <th>molpercent_repeating_unitB</th>\n      <th>SMILES_repeating_unitC</th>\n      <th>molpercent_repeating_unitC</th>\n      <th>SMILES_repeating_unitD</th>\n      <th>molpercent_repeating_unitD</th>\n      <th>...</th>\n      <th>additive_24</th>\n      <th>additive_25</th>\n      <th>additive_26</th>\n      <th>additive_27</th>\n      <th>additive_28</th>\n      <th>additive_29</th>\n      <th>additive_30</th>\n      <th>additive_31</th>\n      <th>additive_32</th>\n      <th>additive_33</th>\n    </tr>\n  </thead>\n  <tbody>\n    <tr>\n      <th>0</th>\n      <td>[C](C)(C)(C#N)</td>\n      <td>[C](C)(C)C#N</td>\n      <td>[CH2][CH](C(=O)NC(C)C)</td>\n      <td>0.8</td>\n      <td>[CH2][CH](C(=O)O)</td>\n      <td>0.200</td>\n      <td>NaN</td>\n      <td>NaN</td>\n      <td>NaN</td>\n      <td>NaN</td>\n      <td>...</td>\n      <td>0.0</td>\n      <td>0.0</td>\n      <td>0.0</td>\n      <td>0.0</td>\n      <td>0.0</td>\n      <td>0.0</td>\n      <td>0.0</td>\n      <td>0.0</td>\n      <td>0.0</td>\n      <td>0.0</td>\n    </tr>\n    <tr>\n      <th>1</th>\n      <td>[C](C)(C)(C#N)</td>\n      <td>[C](C)(C)C#N</td>\n      <td>[CH2][CH](C(=O)NC(C)C)</td>\n      <td>0.8</td>\n      <td>[CH2][CH](C(=O)O)</td>\n      <td>0.125</td>\n      <td>[CH2][CH](C(=O)NC1CC1)</td>\n      <td>0.075</td>\n      <td>NaN</td>\n      <td>NaN</td>\n      <td>...</td>\n      <td>0.0</td>\n      <td>0.0</td>\n      <td>0.0</td>\n      <td>0.0</td>\n      <td>0.0</td>\n      <td>0.0</td>\n      <td>0.0</td>\n      <td>0.0</td>\n      <td>0.0</td>\n      <td>0.0</td>\n    </tr>\n    <tr>\n      <th>2</th>\n      <td>[C](C)(C)(C#N)</td>\n      <td>[C](C)(C)C#N</td>\n      <td>[CH2][CH](C(=O)NC(C)C)</td>\n      <td>0.8</td>\n      <td>[CH2][CH](C(=O)O)</td>\n      <td>0.125</td>\n      <td>[CH2][CH](C(=O)NC1CCC1)</td>\n      <td>0.075</td>\n      <td>NaN</td>\n      <td>NaN</td>\n      <td>...</td>\n      <td>0.0</td>\n      <td>0.0</td>\n      <td>0.0</td>\n      <td>0.0</td>\n      <td>0.0</td>\n      <td>0.0</td>\n      <td>0.0</td>\n      <td>0.0</td>\n      <td>0.0</td>\n      <td>0.0</td>\n    </tr>\n    <tr>\n      <th>3</th>\n      <td>[C](C)(C)(C#N)</td>\n      <td>[C](C)(C)C#N</td>\n      <td>[CH2][CH](C(=O)NC(C)C)</td>\n      <td>0.8</td>\n      <td>[CH2][CH](C(=O)O)</td>\n      <td>0.125</td>\n      <td>[CH2][CH](C(=O)NC1CCCC1)</td>\n      <td>0.075</td>\n      <td>NaN</td>\n      <td>NaN</td>\n      <td>...</td>\n      <td>0.0</td>\n      <td>0.0</td>\n      <td>0.0</td>\n      <td>0.0</td>\n      <td>0.0</td>\n      <td>0.0</td>\n      <td>0.0</td>\n      <td>0.0</td>\n      <td>0.0</td>\n      <td>0.0</td>\n    </tr>\n    <tr>\n      <th>4</th>\n      <td>[C](C)(C)(C#N)</td>\n      <td>[C](C)(C)C#N</td>\n      <td>[CH2][CH](C(=O)NC(C)C)</td>\n      <td>0.8</td>\n      <td>[CH2][CH](C(=O)O)</td>\n      <td>0.125</td>\n      <td>[CH2][CH](C(=O)NC1CCCCCC1)</td>\n      <td>0.075</td>\n      <td>NaN</td>\n      <td>NaN</td>\n      <td>...</td>\n      <td>0.0</td>\n      <td>0.0</td>\n      <td>0.0</td>\n      <td>0.0</td>\n      <td>0.0</td>\n      <td>0.0</td>\n      <td>0.0</td>\n      <td>0.0</td>\n      <td>0.0</td>\n      <td>0.0</td>\n    </tr>\n    <tr>\n      <th>...</th>\n      <td>...</td>\n      <td>...</td>\n      <td>...</td>\n      <td>...</td>\n      <td>...</td>\n      <td>...</td>\n      <td>...</td>\n      <td>...</td>\n      <td>...</td>\n      <td>...</td>\n      <td>...</td>\n      <td>...</td>\n      <td>...</td>\n      <td>...</td>\n      <td>...</td>\n      <td>...</td>\n      <td>...</td>\n      <td>...</td>\n      <td>...</td>\n      <td>...</td>\n      <td>...</td>\n    </tr>\n    <tr>\n      <th>906</th>\n      <td>[C](C)(C#N)(CCC(=O)NCC(F)(F)C(F)(F)C(F)(F)C(F)...</td>\n      <td>[CH2]CCCCCCCCCCCCCCC</td>\n      <td>[CH2][C](C)(C(=O)OCCOCCOCCOCCOC)</td>\n      <td>1.0</td>\n      <td>NaN</td>\n      <td>NaN</td>\n      <td>NaN</td>\n      <td>NaN</td>\n      <td>NaN</td>\n      <td>NaN</td>\n      <td>...</td>\n      <td>0.0</td>\n      <td>0.0</td>\n      <td>0.0</td>\n      <td>0.0</td>\n      <td>0.0</td>\n      <td>0.0</td>\n      <td>0.0</td>\n      <td>0.0</td>\n      <td>0.0</td>\n      <td>0.0</td>\n    </tr>\n    <tr>\n      <th>907</th>\n      <td>[C](C)(C#N)(CCC(=O)NCC(F)(F)C(F)(F)C(F)(F)C(F)...</td>\n      <td>[S](SCCC(F)(F)C(F)(F)C(F)(F)C(F)(F)C(F)(F)C(F)...</td>\n      <td>[CH2][C](C)(C(=O)OCCOCCOCCOCCOC)</td>\n      <td>1.0</td>\n      <td>NaN</td>\n      <td>NaN</td>\n      <td>NaN</td>\n      <td>NaN</td>\n      <td>NaN</td>\n      <td>NaN</td>\n      <td>...</td>\n      <td>0.0</td>\n      <td>0.0</td>\n      <td>0.0</td>\n      <td>0.0</td>\n      <td>0.0</td>\n      <td>0.0</td>\n      <td>0.0</td>\n      <td>0.0</td>\n      <td>0.0</td>\n      <td>0.0</td>\n    </tr>\n    <tr>\n      <th>908</th>\n      <td>[C](C)(C#N)(CCC(=O)N(CCCCCCCCCCCCCCCCCC)CCCCCC...</td>\n      <td>[S]SC</td>\n      <td>[CH2][C](C)(C(=O)OCCOCCOCCOCCOC)</td>\n      <td>1.0</td>\n      <td>NaN</td>\n      <td>NaN</td>\n      <td>NaN</td>\n      <td>NaN</td>\n      <td>NaN</td>\n      <td>NaN</td>\n      <td>...</td>\n      <td>0.0</td>\n      <td>0.0</td>\n      <td>0.0</td>\n      <td>0.0</td>\n      <td>0.0</td>\n      <td>0.0</td>\n      <td>0.0</td>\n      <td>0.0</td>\n      <td>0.0</td>\n      <td>0.0</td>\n    </tr>\n    <tr>\n      <th>909</th>\n      <td>[C](C)(C#N)(CCC(=O)N(CCCCCCCCCCCCCCCCCC)CCCCCC...</td>\n      <td>[S](SCCC(F)(F)C(F)(F)C(F)(F)C(F)(F)C(F)(F)C(F)...</td>\n      <td>[CH2][C](C)(C(=O)OCCOCCOCCOCCOC)</td>\n      <td>1.0</td>\n      <td>NaN</td>\n      <td>NaN</td>\n      <td>NaN</td>\n      <td>NaN</td>\n      <td>NaN</td>\n      <td>NaN</td>\n      <td>...</td>\n      <td>0.0</td>\n      <td>0.0</td>\n      <td>0.0</td>\n      <td>0.0</td>\n      <td>0.0</td>\n      <td>0.0</td>\n      <td>0.0</td>\n      <td>0.0</td>\n      <td>0.0</td>\n      <td>0.0</td>\n    </tr>\n    <tr>\n      <th>910</th>\n      <td>[C](C)(C#N)(CCC(=O)NCCNC(=O)c1ccc(N=Nc2ccccc2)...</td>\n      <td>[S]SC</td>\n      <td>[CH2][C](C)(C(=O)OCCOCCOCCOCCOC)</td>\n      <td>1.0</td>\n      <td>NaN</td>\n      <td>NaN</td>\n      <td>NaN</td>\n      <td>NaN</td>\n      <td>NaN</td>\n      <td>NaN</td>\n      <td>...</td>\n      <td>0.0</td>\n      <td>0.0</td>\n      <td>0.0</td>\n      <td>0.0</td>\n      <td>0.0</td>\n      <td>0.0</td>\n      <td>0.0</td>\n      <td>0.0</td>\n      <td>0.0</td>\n      <td>0.0</td>\n    </tr>\n  </tbody>\n</table>\n<p>858 rows × 51 columns</p>\n</div>"
     },
     "execution_count": 5,
     "metadata": {},
     "output_type": "execute_result"
    }
   ],
   "source": [
    "raw_df[\"pH\"] = raw_df[\"pH\"].fillna(7)\n",
    "DEF_TYPE_MAP = {\n",
    "        \"A\": 0.1,\n",
    "        \"B\": 0.2,\n",
    "        \"C\": 0.5,\n",
    "        \"DSC\": 0.01,\n",
    "    }\n",
    "raw_df[\"def_type\"] = raw_df[\"def_type\"].fillna(\"0.1\")\n",
    "raw_df[\"def_type\"] = raw_df[\"def_type\"].apply(\n",
    "    lambda x: float(\n",
    "        (DEF_TYPE_MAP[x] if x in DEF_TYPE_MAP else str(x).replace(\",\", \".\"))\n",
    "    ),\n",
    ")\n",
    "\n",
    "# set poly_conc to polymer_concentration_mass_conc where it is NaN\n",
    "if \"polymer_concentration_mass_conc\" in raw_df.columns:\n",
    "    raw_df[\"polymer_concentration_wpercent\"] = raw_df[\"polymer_concentration_wpercent\"].fillna(raw_df[\"polymer_concentration_mass_conc\"])\n",
    "    raw_df= raw_df.drop(\n",
    "        [\"polymer_concentration_mass_conc\"], axis=1\n",
    "    )\n",
    "\n",
    "df,info = pfp.datareader.expand_data(\n",
    "    raw_df,\n",
    "    ignored_columns=[\"reference\",\n",
    "        \"polymer_type\",\n",
    "        \"polymer_type_style\",\n",
    "        \"polymer_architecture\",\n",
    "        \"polymerisation_type\",\n",
    "        \"Mw\",\n",
    "        \"PDI\",\n",
    "        \"mass_characterisation_method\",\n",
    "        \"mass_characterisation_standart\",\n",
    "        \"N/A\",\n",
    "        \"identifier\",\n",
    "        \"comment\",\n",
    "        \"tacticity\",\n",
    "        \"rating\",],\n",
    "    density=1,\n",
    "additive_wp_column_postfix = \"_concentration_weight_percent\",\n",
    "    additive_conc_column_postfix=\"_concentration_molar\"\n",
    "\n",
    "\n",
    ")\n",
    "\n",
    "df.to_csv(\"expanded_data.csv\")\n",
    "infofile = YAMLWrapConfig(\"expanded_info.yml\")\n",
    "infofile.set_data(info)\n",
    "infofile.save()\n",
    "df"
   ]
  },
  {
   "cell_type": "code",
   "execution_count": 12,
   "metadata": {
    "collapsed": false,
    "jupyter": {
     "outputs_hidden": false
    },
    "pycharm": {
     "name": "#%%\n"
    }
   },
   "outputs": [],
   "source": [
    "# Dataanalysis with matplotlib, seaborn and plotly - dash\n",
    "import matplotlib.pyplot as plt\n",
    "import seaborn as sns\n",
    "from dash import Dash, dcc, html, Input, Output\n",
    "import plotly.graph_objs as go\n",
    "import plotly.express as px"
   ]
  },
  {
   "cell_type": "code",
   "execution_count": 7,
   "metadata": {
    "pycharm": {
     "name": "#%%\n"
    }
   },
   "outputs": [],
   "source": [
    "# app = Dash(__name__)\n",
    "# app.layout = html.Div([\n",
    "#     html.H4('Interactive color selection with simple Dash example'),\n",
    "#     html.P(\"Select color:\"),\n",
    "#     dcc.Dropdown(\n",
    "#         id=\"dropdown\",\n",
    "#         options=['Gold', 'MediumTurquoise', 'LightGreen'],\n",
    "#         value='Gold',\n",
    "#         clearable=False,\n",
    "#     ),\n",
    "#     dcc.Graph(id=\"graph\"),\n",
    "# ])\n",
    "#\n",
    "#\n",
    "# @app.callback(\n",
    "#     Output(\"graph\", \"figure\"),\n",
    "#     Input(\"dropdown\", \"value\"))\n",
    "# def display_color(color):\n",
    "#     fig = go.Figure(\n",
    "#         data=go.Bar(y=[2, 3, 1], # replace with your own data source\n",
    "#                     marker_color=color))\n",
    "#     return fig\n",
    "#\n",
    "# app.run_server(debug=True) # set keyword argument reloader off if inside Jupyter"
   ]
  },
  {
   "cell_type": "code",
   "execution_count": 245,
   "outputs": [
    {
     "name": "stdout",
     "output_type": "stream",
     "text": [
      "number or different constitutional/repeating units: 47\n"
     ]
    },
    {
     "data": {
      "application/vnd.plotly.v1+json": {
       "data": [
        {
         "alignmentgroup": "True",
         "hovertemplate": "SMILES string=%{x}<br>Number of entries [%]=%{y}<br>text=%{text}<extra></extra>",
         "legendgroup": "",
         "marker": {
          "color": "#636efa",
          "pattern": {
           "shape": ""
          }
         },
         "name": "",
         "offsetgroup": "",
         "orientation": "v",
         "showlegend": false,
         "text": [
          "23.5",
          "11.4",
          "8.2",
          "7.6",
          "5.9",
          "5.7",
          "4.0",
          "3.4",
          "3.4",
          "2.6",
          "2.4",
          "2.3",
          "2.3",
          "2.3",
          "1.9",
          "1.6",
          "1.5",
          "1.4",
          "1.2",
          "1.2",
          "0.7",
          "0.6"
         ],
         "textposition": "auto",
         "x": [
          "[CH2][CH](C(=O)NC(C)C)",
          "[CH2][CH](C(=O)N(CC)CC)",
          "[CH2][C](C)(C(=O)OCCOCCOC)",
          "[N]=[P](Cl)(Cl)",
          "[N](C(=O)CCC)C[CH2]",
          "[N](C(=O)C(C)C)C[CH2]",
          "[CH2][C](C)(C(=O)[O][N](C(=O)CC)C[CH2][N](C(=O)CC)C[CH2][N](C(=O)CC)C[CH2][N](C(=O)CC)C[CH2][N](C(=O)CC)CC)",
          "[N](C(=O)CC)C[CH2]",
          "[CH2][C](C)(C(=O)OCC[N+](C)(C)CCCS(=O)(=O)[O-])",
          "[CH2][CH](N1C(=O)CCCCC1)",
          "[CH2][CH](OCCOC)",
          "[CH2][CH](C(=O)OCCOCCOC)",
          "[CH2][C](C)(C(=O)OCCOCCOCCOCCOC)",
          "[CH2][CH](C(=O)NCC(OC1(C)(C))CO1)",
          "[CH2][CH](C(=O)OCCN(C)C)",
          "[CH2][CH](C(=O)OCCOCCOCCOC)",
          "[CH2][C](C)(CC(=O)OCCOCCOC)",
          "[CH2][CH](c1ccc(COCCOCCOCCOCCO)cc1)",
          "[O]C[CH](C)",
          "[CH2][CH](c1ccc(COCCOCCOCCO)cc1)",
          "[CH2][C](C)(C(=O)OCCOCCOCCOC)",
          "[CH2][C](C)(CC(=O)OCCOCCOCCOC)"
         ],
         "xaxis": "x",
         "y": [
          0.23543123543123542,
          0.11421911421911422,
          0.08158508158508158,
          0.07575757575757576,
          0.05944055944055944,
          0.05710955710955711,
          0.039627039627039624,
          0.0337995337995338,
          0.0337995337995338,
          0.02564102564102564,
          0.024475524475524476,
          0.023310023310023312,
          0.023310023310023312,
          0.023310023310023312,
          0.018648018648018648,
          0.016317016317016316,
          0.015151515151515152,
          0.013986013986013986,
          0.011655011655011656,
          0.011655011655011656,
          0.006993006993006993,
          0.005827505827505828
         ],
         "yaxis": "y",
         "type": "bar",
         "textangle": -70
        }
       ],
       "layout": {
        "template": {
         "data": {
          "histogram2dcontour": [
           {
            "type": "histogram2dcontour",
            "colorbar": {
             "outlinewidth": 0,
             "ticks": ""
            },
            "colorscale": [
             [
              0.0,
              "#0d0887"
             ],
             [
              0.1111111111111111,
              "#46039f"
             ],
             [
              0.2222222222222222,
              "#7201a8"
             ],
             [
              0.3333333333333333,
              "#9c179e"
             ],
             [
              0.4444444444444444,
              "#bd3786"
             ],
             [
              0.5555555555555556,
              "#d8576b"
             ],
             [
              0.6666666666666666,
              "#ed7953"
             ],
             [
              0.7777777777777778,
              "#fb9f3a"
             ],
             [
              0.8888888888888888,
              "#fdca26"
             ],
             [
              1.0,
              "#f0f921"
             ]
            ]
           }
          ],
          "choropleth": [
           {
            "type": "choropleth",
            "colorbar": {
             "outlinewidth": 0,
             "ticks": ""
            }
           }
          ],
          "histogram2d": [
           {
            "type": "histogram2d",
            "colorbar": {
             "outlinewidth": 0,
             "ticks": ""
            },
            "colorscale": [
             [
              0.0,
              "#0d0887"
             ],
             [
              0.1111111111111111,
              "#46039f"
             ],
             [
              0.2222222222222222,
              "#7201a8"
             ],
             [
              0.3333333333333333,
              "#9c179e"
             ],
             [
              0.4444444444444444,
              "#bd3786"
             ],
             [
              0.5555555555555556,
              "#d8576b"
             ],
             [
              0.6666666666666666,
              "#ed7953"
             ],
             [
              0.7777777777777778,
              "#fb9f3a"
             ],
             [
              0.8888888888888888,
              "#fdca26"
             ],
             [
              1.0,
              "#f0f921"
             ]
            ]
           }
          ],
          "heatmap": [
           {
            "type": "heatmap",
            "colorbar": {
             "outlinewidth": 0,
             "ticks": ""
            },
            "colorscale": [
             [
              0.0,
              "#0d0887"
             ],
             [
              0.1111111111111111,
              "#46039f"
             ],
             [
              0.2222222222222222,
              "#7201a8"
             ],
             [
              0.3333333333333333,
              "#9c179e"
             ],
             [
              0.4444444444444444,
              "#bd3786"
             ],
             [
              0.5555555555555556,
              "#d8576b"
             ],
             [
              0.6666666666666666,
              "#ed7953"
             ],
             [
              0.7777777777777778,
              "#fb9f3a"
             ],
             [
              0.8888888888888888,
              "#fdca26"
             ],
             [
              1.0,
              "#f0f921"
             ]
            ]
           }
          ],
          "heatmapgl": [
           {
            "type": "heatmapgl",
            "colorbar": {
             "outlinewidth": 0,
             "ticks": ""
            },
            "colorscale": [
             [
              0.0,
              "#0d0887"
             ],
             [
              0.1111111111111111,
              "#46039f"
             ],
             [
              0.2222222222222222,
              "#7201a8"
             ],
             [
              0.3333333333333333,
              "#9c179e"
             ],
             [
              0.4444444444444444,
              "#bd3786"
             ],
             [
              0.5555555555555556,
              "#d8576b"
             ],
             [
              0.6666666666666666,
              "#ed7953"
             ],
             [
              0.7777777777777778,
              "#fb9f3a"
             ],
             [
              0.8888888888888888,
              "#fdca26"
             ],
             [
              1.0,
              "#f0f921"
             ]
            ]
           }
          ],
          "contourcarpet": [
           {
            "type": "contourcarpet",
            "colorbar": {
             "outlinewidth": 0,
             "ticks": ""
            }
           }
          ],
          "contour": [
           {
            "type": "contour",
            "colorbar": {
             "outlinewidth": 0,
             "ticks": ""
            },
            "colorscale": [
             [
              0.0,
              "#0d0887"
             ],
             [
              0.1111111111111111,
              "#46039f"
             ],
             [
              0.2222222222222222,
              "#7201a8"
             ],
             [
              0.3333333333333333,
              "#9c179e"
             ],
             [
              0.4444444444444444,
              "#bd3786"
             ],
             [
              0.5555555555555556,
              "#d8576b"
             ],
             [
              0.6666666666666666,
              "#ed7953"
             ],
             [
              0.7777777777777778,
              "#fb9f3a"
             ],
             [
              0.8888888888888888,
              "#fdca26"
             ],
             [
              1.0,
              "#f0f921"
             ]
            ]
           }
          ],
          "surface": [
           {
            "type": "surface",
            "colorbar": {
             "outlinewidth": 0,
             "ticks": ""
            },
            "colorscale": [
             [
              0.0,
              "#0d0887"
             ],
             [
              0.1111111111111111,
              "#46039f"
             ],
             [
              0.2222222222222222,
              "#7201a8"
             ],
             [
              0.3333333333333333,
              "#9c179e"
             ],
             [
              0.4444444444444444,
              "#bd3786"
             ],
             [
              0.5555555555555556,
              "#d8576b"
             ],
             [
              0.6666666666666666,
              "#ed7953"
             ],
             [
              0.7777777777777778,
              "#fb9f3a"
             ],
             [
              0.8888888888888888,
              "#fdca26"
             ],
             [
              1.0,
              "#f0f921"
             ]
            ]
           }
          ],
          "mesh3d": [
           {
            "type": "mesh3d",
            "colorbar": {
             "outlinewidth": 0,
             "ticks": ""
            }
           }
          ],
          "scatter": [
           {
            "fillpattern": {
             "fillmode": "overlay",
             "size": 10,
             "solidity": 0.2
            },
            "type": "scatter"
           }
          ],
          "parcoords": [
           {
            "type": "parcoords",
            "line": {
             "colorbar": {
              "outlinewidth": 0,
              "ticks": ""
             }
            }
           }
          ],
          "scatterpolargl": [
           {
            "type": "scatterpolargl",
            "marker": {
             "colorbar": {
              "outlinewidth": 0,
              "ticks": ""
             }
            }
           }
          ],
          "bar": [
           {
            "error_x": {
             "color": "#2a3f5f"
            },
            "error_y": {
             "color": "#2a3f5f"
            },
            "marker": {
             "line": {
              "color": "#E5ECF6",
              "width": 0.5
             },
             "pattern": {
              "fillmode": "overlay",
              "size": 10,
              "solidity": 0.2
             }
            },
            "type": "bar"
           }
          ],
          "scattergeo": [
           {
            "type": "scattergeo",
            "marker": {
             "colorbar": {
              "outlinewidth": 0,
              "ticks": ""
             }
            }
           }
          ],
          "scatterpolar": [
           {
            "type": "scatterpolar",
            "marker": {
             "colorbar": {
              "outlinewidth": 0,
              "ticks": ""
             }
            }
           }
          ],
          "histogram": [
           {
            "marker": {
             "pattern": {
              "fillmode": "overlay",
              "size": 10,
              "solidity": 0.2
             }
            },
            "type": "histogram"
           }
          ],
          "scattergl": [
           {
            "type": "scattergl",
            "marker": {
             "colorbar": {
              "outlinewidth": 0,
              "ticks": ""
             }
            }
           }
          ],
          "scatter3d": [
           {
            "type": "scatter3d",
            "line": {
             "colorbar": {
              "outlinewidth": 0,
              "ticks": ""
             }
            },
            "marker": {
             "colorbar": {
              "outlinewidth": 0,
              "ticks": ""
             }
            }
           }
          ],
          "scattermapbox": [
           {
            "type": "scattermapbox",
            "marker": {
             "colorbar": {
              "outlinewidth": 0,
              "ticks": ""
             }
            }
           }
          ],
          "scatterternary": [
           {
            "type": "scatterternary",
            "marker": {
             "colorbar": {
              "outlinewidth": 0,
              "ticks": ""
             }
            }
           }
          ],
          "scattercarpet": [
           {
            "type": "scattercarpet",
            "marker": {
             "colorbar": {
              "outlinewidth": 0,
              "ticks": ""
             }
            }
           }
          ],
          "carpet": [
           {
            "aaxis": {
             "endlinecolor": "#2a3f5f",
             "gridcolor": "white",
             "linecolor": "white",
             "minorgridcolor": "white",
             "startlinecolor": "#2a3f5f"
            },
            "baxis": {
             "endlinecolor": "#2a3f5f",
             "gridcolor": "white",
             "linecolor": "white",
             "minorgridcolor": "white",
             "startlinecolor": "#2a3f5f"
            },
            "type": "carpet"
           }
          ],
          "table": [
           {
            "cells": {
             "fill": {
              "color": "#EBF0F8"
             },
             "line": {
              "color": "white"
             }
            },
            "header": {
             "fill": {
              "color": "#C8D4E3"
             },
             "line": {
              "color": "white"
             }
            },
            "type": "table"
           }
          ],
          "barpolar": [
           {
            "marker": {
             "line": {
              "color": "#E5ECF6",
              "width": 0.5
             },
             "pattern": {
              "fillmode": "overlay",
              "size": 10,
              "solidity": 0.2
             }
            },
            "type": "barpolar"
           }
          ],
          "pie": [
           {
            "automargin": true,
            "type": "pie"
           }
          ]
         },
         "layout": {
          "autotypenumbers": "strict",
          "colorway": [
           "#636efa",
           "#EF553B",
           "#00cc96",
           "#ab63fa",
           "#FFA15A",
           "#19d3f3",
           "#FF6692",
           "#B6E880",
           "#FF97FF",
           "#FECB52"
          ],
          "font": {
           "color": "#2a3f5f"
          },
          "hovermode": "closest",
          "hoverlabel": {
           "align": "left"
          },
          "paper_bgcolor": "white",
          "plot_bgcolor": "#E5ECF6",
          "polar": {
           "bgcolor": "#E5ECF6",
           "angularaxis": {
            "gridcolor": "white",
            "linecolor": "white",
            "ticks": ""
           },
           "radialaxis": {
            "gridcolor": "white",
            "linecolor": "white",
            "ticks": ""
           }
          },
          "ternary": {
           "bgcolor": "#E5ECF6",
           "aaxis": {
            "gridcolor": "white",
            "linecolor": "white",
            "ticks": ""
           },
           "baxis": {
            "gridcolor": "white",
            "linecolor": "white",
            "ticks": ""
           },
           "caxis": {
            "gridcolor": "white",
            "linecolor": "white",
            "ticks": ""
           }
          },
          "coloraxis": {
           "colorbar": {
            "outlinewidth": 0,
            "ticks": ""
           }
          },
          "colorscale": {
           "sequential": [
            [
             0.0,
             "#0d0887"
            ],
            [
             0.1111111111111111,
             "#46039f"
            ],
            [
             0.2222222222222222,
             "#7201a8"
            ],
            [
             0.3333333333333333,
             "#9c179e"
            ],
            [
             0.4444444444444444,
             "#bd3786"
            ],
            [
             0.5555555555555556,
             "#d8576b"
            ],
            [
             0.6666666666666666,
             "#ed7953"
            ],
            [
             0.7777777777777778,
             "#fb9f3a"
            ],
            [
             0.8888888888888888,
             "#fdca26"
            ],
            [
             1.0,
             "#f0f921"
            ]
           ],
           "sequentialminus": [
            [
             0.0,
             "#0d0887"
            ],
            [
             0.1111111111111111,
             "#46039f"
            ],
            [
             0.2222222222222222,
             "#7201a8"
            ],
            [
             0.3333333333333333,
             "#9c179e"
            ],
            [
             0.4444444444444444,
             "#bd3786"
            ],
            [
             0.5555555555555556,
             "#d8576b"
            ],
            [
             0.6666666666666666,
             "#ed7953"
            ],
            [
             0.7777777777777778,
             "#fb9f3a"
            ],
            [
             0.8888888888888888,
             "#fdca26"
            ],
            [
             1.0,
             "#f0f921"
            ]
           ],
           "diverging": [
            [
             0,
             "#8e0152"
            ],
            [
             0.1,
             "#c51b7d"
            ],
            [
             0.2,
             "#de77ae"
            ],
            [
             0.3,
             "#f1b6da"
            ],
            [
             0.4,
             "#fde0ef"
            ],
            [
             0.5,
             "#f7f7f7"
            ],
            [
             0.6,
             "#e6f5d0"
            ],
            [
             0.7,
             "#b8e186"
            ],
            [
             0.8,
             "#7fbc41"
            ],
            [
             0.9,
             "#4d9221"
            ],
            [
             1,
             "#276419"
            ]
           ]
          },
          "xaxis": {
           "gridcolor": "white",
           "linecolor": "white",
           "ticks": "",
           "title": {
            "standoff": 15
           },
           "zerolinecolor": "white",
           "automargin": true,
           "zerolinewidth": 2
          },
          "yaxis": {
           "gridcolor": "white",
           "linecolor": "white",
           "ticks": "",
           "title": {
            "standoff": 15
           },
           "zerolinecolor": "white",
           "automargin": true,
           "zerolinewidth": 2
          },
          "scene": {
           "xaxis": {
            "backgroundcolor": "#E5ECF6",
            "gridcolor": "white",
            "linecolor": "white",
            "showbackground": true,
            "ticks": "",
            "zerolinecolor": "white",
            "gridwidth": 2
           },
           "yaxis": {
            "backgroundcolor": "#E5ECF6",
            "gridcolor": "white",
            "linecolor": "white",
            "showbackground": true,
            "ticks": "",
            "zerolinecolor": "white",
            "gridwidth": 2
           },
           "zaxis": {
            "backgroundcolor": "#E5ECF6",
            "gridcolor": "white",
            "linecolor": "white",
            "showbackground": true,
            "ticks": "",
            "zerolinecolor": "white",
            "gridwidth": 2
           }
          },
          "shapedefaults": {
           "line": {
            "color": "#2a3f5f"
           }
          },
          "annotationdefaults": {
           "arrowcolor": "#2a3f5f",
           "arrowhead": 0,
           "arrowwidth": 1
          },
          "geo": {
           "bgcolor": "white",
           "landcolor": "#E5ECF6",
           "subunitcolor": "white",
           "showland": true,
           "showlakes": true,
           "lakecolor": "white"
          },
          "title": {
           "x": 0.05
          },
          "mapbox": {
           "style": "light"
          }
         }
        },
        "xaxis": {
         "anchor": "y",
         "domain": [
          0.0,
          1.0
         ],
         "title": {
          "text": "SMILES string"
         },
         "tickangle": -70
        },
        "yaxis": {
         "anchor": "x",
         "domain": [
          0.0,
          1.0
         ],
         "title": {
          "text": "Number of entries [%]"
         }
        },
        "legend": {
         "tracegroupgap": 0
        },
        "title": {
         "text": "Distribution of constitutional/repeating units"
        },
        "barmode": "relative",
        "height": 900,
        "font": {
         "family": "Calibri"
        },
        "annotations": [
         {
          "bgcolor": "lightblue",
          "showarrow": false,
          "text": "Minority share = 4.90% <br> (showing 95.10% of all structures)",
          "x": 1,
          "xanchor": "left",
          "y": 0.2
         }
        ]
       },
       "config": {
        "plotlyServerURL": "https://plot.ly"
       }
      },
      "text/html": "<div>                            <div id=\"16b66309-12b5-4a0e-b688-e0f59cfd5ae9\" class=\"plotly-graph-div\" style=\"height:900px; width:100%;\"></div>            <script type=\"text/javascript\">                require([\"plotly\"], function(Plotly) {                    window.PLOTLYENV=window.PLOTLYENV || {};                                    if (document.getElementById(\"16b66309-12b5-4a0e-b688-e0f59cfd5ae9\")) {                    Plotly.newPlot(                        \"16b66309-12b5-4a0e-b688-e0f59cfd5ae9\",                        [{\"alignmentgroup\":\"True\",\"hovertemplate\":\"SMILES string=%{x}\\u003cbr\\u003eNumber of entries [%]=%{y}\\u003cbr\\u003etext=%{text}\\u003cextra\\u003e\\u003c\\u002fextra\\u003e\",\"legendgroup\":\"\",\"marker\":{\"color\":\"#636efa\",\"pattern\":{\"shape\":\"\"}},\"name\":\"\",\"offsetgroup\":\"\",\"orientation\":\"v\",\"showlegend\":false,\"text\":[\"23.5\",\"11.4\",\"8.2\",\"7.6\",\"5.9\",\"5.7\",\"4.0\",\"3.4\",\"3.4\",\"2.6\",\"2.4\",\"2.3\",\"2.3\",\"2.3\",\"1.9\",\"1.6\",\"1.5\",\"1.4\",\"1.2\",\"1.2\",\"0.7\",\"0.6\"],\"textposition\":\"auto\",\"x\":[\"[CH2][CH](C(=O)NC(C)C)\",\"[CH2][CH](C(=O)N(CC)CC)\",\"[CH2][C](C)(C(=O)OCCOCCOC)\",\"[N]=[P](Cl)(Cl)\",\"[N](C(=O)CCC)C[CH2]\",\"[N](C(=O)C(C)C)C[CH2]\",\"[CH2][C](C)(C(=O)[O][N](C(=O)CC)C[CH2][N](C(=O)CC)C[CH2][N](C(=O)CC)C[CH2][N](C(=O)CC)C[CH2][N](C(=O)CC)CC)\",\"[N](C(=O)CC)C[CH2]\",\"[CH2][C](C)(C(=O)OCC[N+](C)(C)CCCS(=O)(=O)[O-])\",\"[CH2][CH](N1C(=O)CCCCC1)\",\"[CH2][CH](OCCOC)\",\"[CH2][CH](C(=O)OCCOCCOC)\",\"[CH2][C](C)(C(=O)OCCOCCOCCOCCOC)\",\"[CH2][CH](C(=O)NCC(OC1(C)(C))CO1)\",\"[CH2][CH](C(=O)OCCN(C)C)\",\"[CH2][CH](C(=O)OCCOCCOCCOC)\",\"[CH2][C](C)(CC(=O)OCCOCCOC)\",\"[CH2][CH](c1ccc(COCCOCCOCCOCCO)cc1)\",\"[O]C[CH](C)\",\"[CH2][CH](c1ccc(COCCOCCOCCO)cc1)\",\"[CH2][C](C)(C(=O)OCCOCCOCCOC)\",\"[CH2][C](C)(CC(=O)OCCOCCOCCOC)\"],\"xaxis\":\"x\",\"y\":[0.23543123543123542,0.11421911421911422,0.08158508158508158,0.07575757575757576,0.05944055944055944,0.05710955710955711,0.039627039627039624,0.0337995337995338,0.0337995337995338,0.02564102564102564,0.024475524475524476,0.023310023310023312,0.023310023310023312,0.023310023310023312,0.018648018648018648,0.016317016317016316,0.015151515151515152,0.013986013986013986,0.011655011655011656,0.011655011655011656,0.006993006993006993,0.005827505827505828],\"yaxis\":\"y\",\"type\":\"bar\",\"textangle\":-70}],                        {\"template\":{\"data\":{\"histogram2dcontour\":[{\"type\":\"histogram2dcontour\",\"colorbar\":{\"outlinewidth\":0,\"ticks\":\"\"},\"colorscale\":[[0.0,\"#0d0887\"],[0.1111111111111111,\"#46039f\"],[0.2222222222222222,\"#7201a8\"],[0.3333333333333333,\"#9c179e\"],[0.4444444444444444,\"#bd3786\"],[0.5555555555555556,\"#d8576b\"],[0.6666666666666666,\"#ed7953\"],[0.7777777777777778,\"#fb9f3a\"],[0.8888888888888888,\"#fdca26\"],[1.0,\"#f0f921\"]]}],\"choropleth\":[{\"type\":\"choropleth\",\"colorbar\":{\"outlinewidth\":0,\"ticks\":\"\"}}],\"histogram2d\":[{\"type\":\"histogram2d\",\"colorbar\":{\"outlinewidth\":0,\"ticks\":\"\"},\"colorscale\":[[0.0,\"#0d0887\"],[0.1111111111111111,\"#46039f\"],[0.2222222222222222,\"#7201a8\"],[0.3333333333333333,\"#9c179e\"],[0.4444444444444444,\"#bd3786\"],[0.5555555555555556,\"#d8576b\"],[0.6666666666666666,\"#ed7953\"],[0.7777777777777778,\"#fb9f3a\"],[0.8888888888888888,\"#fdca26\"],[1.0,\"#f0f921\"]]}],\"heatmap\":[{\"type\":\"heatmap\",\"colorbar\":{\"outlinewidth\":0,\"ticks\":\"\"},\"colorscale\":[[0.0,\"#0d0887\"],[0.1111111111111111,\"#46039f\"],[0.2222222222222222,\"#7201a8\"],[0.3333333333333333,\"#9c179e\"],[0.4444444444444444,\"#bd3786\"],[0.5555555555555556,\"#d8576b\"],[0.6666666666666666,\"#ed7953\"],[0.7777777777777778,\"#fb9f3a\"],[0.8888888888888888,\"#fdca26\"],[1.0,\"#f0f921\"]]}],\"heatmapgl\":[{\"type\":\"heatmapgl\",\"colorbar\":{\"outlinewidth\":0,\"ticks\":\"\"},\"colorscale\":[[0.0,\"#0d0887\"],[0.1111111111111111,\"#46039f\"],[0.2222222222222222,\"#7201a8\"],[0.3333333333333333,\"#9c179e\"],[0.4444444444444444,\"#bd3786\"],[0.5555555555555556,\"#d8576b\"],[0.6666666666666666,\"#ed7953\"],[0.7777777777777778,\"#fb9f3a\"],[0.8888888888888888,\"#fdca26\"],[1.0,\"#f0f921\"]]}],\"contourcarpet\":[{\"type\":\"contourcarpet\",\"colorbar\":{\"outlinewidth\":0,\"ticks\":\"\"}}],\"contour\":[{\"type\":\"contour\",\"colorbar\":{\"outlinewidth\":0,\"ticks\":\"\"},\"colorscale\":[[0.0,\"#0d0887\"],[0.1111111111111111,\"#46039f\"],[0.2222222222222222,\"#7201a8\"],[0.3333333333333333,\"#9c179e\"],[0.4444444444444444,\"#bd3786\"],[0.5555555555555556,\"#d8576b\"],[0.6666666666666666,\"#ed7953\"],[0.7777777777777778,\"#fb9f3a\"],[0.8888888888888888,\"#fdca26\"],[1.0,\"#f0f921\"]]}],\"surface\":[{\"type\":\"surface\",\"colorbar\":{\"outlinewidth\":0,\"ticks\":\"\"},\"colorscale\":[[0.0,\"#0d0887\"],[0.1111111111111111,\"#46039f\"],[0.2222222222222222,\"#7201a8\"],[0.3333333333333333,\"#9c179e\"],[0.4444444444444444,\"#bd3786\"],[0.5555555555555556,\"#d8576b\"],[0.6666666666666666,\"#ed7953\"],[0.7777777777777778,\"#fb9f3a\"],[0.8888888888888888,\"#fdca26\"],[1.0,\"#f0f921\"]]}],\"mesh3d\":[{\"type\":\"mesh3d\",\"colorbar\":{\"outlinewidth\":0,\"ticks\":\"\"}}],\"scatter\":[{\"fillpattern\":{\"fillmode\":\"overlay\",\"size\":10,\"solidity\":0.2},\"type\":\"scatter\"}],\"parcoords\":[{\"type\":\"parcoords\",\"line\":{\"colorbar\":{\"outlinewidth\":0,\"ticks\":\"\"}}}],\"scatterpolargl\":[{\"type\":\"scatterpolargl\",\"marker\":{\"colorbar\":{\"outlinewidth\":0,\"ticks\":\"\"}}}],\"bar\":[{\"error_x\":{\"color\":\"#2a3f5f\"},\"error_y\":{\"color\":\"#2a3f5f\"},\"marker\":{\"line\":{\"color\":\"#E5ECF6\",\"width\":0.5},\"pattern\":{\"fillmode\":\"overlay\",\"size\":10,\"solidity\":0.2}},\"type\":\"bar\"}],\"scattergeo\":[{\"type\":\"scattergeo\",\"marker\":{\"colorbar\":{\"outlinewidth\":0,\"ticks\":\"\"}}}],\"scatterpolar\":[{\"type\":\"scatterpolar\",\"marker\":{\"colorbar\":{\"outlinewidth\":0,\"ticks\":\"\"}}}],\"histogram\":[{\"marker\":{\"pattern\":{\"fillmode\":\"overlay\",\"size\":10,\"solidity\":0.2}},\"type\":\"histogram\"}],\"scattergl\":[{\"type\":\"scattergl\",\"marker\":{\"colorbar\":{\"outlinewidth\":0,\"ticks\":\"\"}}}],\"scatter3d\":[{\"type\":\"scatter3d\",\"line\":{\"colorbar\":{\"outlinewidth\":0,\"ticks\":\"\"}},\"marker\":{\"colorbar\":{\"outlinewidth\":0,\"ticks\":\"\"}}}],\"scattermapbox\":[{\"type\":\"scattermapbox\",\"marker\":{\"colorbar\":{\"outlinewidth\":0,\"ticks\":\"\"}}}],\"scatterternary\":[{\"type\":\"scatterternary\",\"marker\":{\"colorbar\":{\"outlinewidth\":0,\"ticks\":\"\"}}}],\"scattercarpet\":[{\"type\":\"scattercarpet\",\"marker\":{\"colorbar\":{\"outlinewidth\":0,\"ticks\":\"\"}}}],\"carpet\":[{\"aaxis\":{\"endlinecolor\":\"#2a3f5f\",\"gridcolor\":\"white\",\"linecolor\":\"white\",\"minorgridcolor\":\"white\",\"startlinecolor\":\"#2a3f5f\"},\"baxis\":{\"endlinecolor\":\"#2a3f5f\",\"gridcolor\":\"white\",\"linecolor\":\"white\",\"minorgridcolor\":\"white\",\"startlinecolor\":\"#2a3f5f\"},\"type\":\"carpet\"}],\"table\":[{\"cells\":{\"fill\":{\"color\":\"#EBF0F8\"},\"line\":{\"color\":\"white\"}},\"header\":{\"fill\":{\"color\":\"#C8D4E3\"},\"line\":{\"color\":\"white\"}},\"type\":\"table\"}],\"barpolar\":[{\"marker\":{\"line\":{\"color\":\"#E5ECF6\",\"width\":0.5},\"pattern\":{\"fillmode\":\"overlay\",\"size\":10,\"solidity\":0.2}},\"type\":\"barpolar\"}],\"pie\":[{\"automargin\":true,\"type\":\"pie\"}]},\"layout\":{\"autotypenumbers\":\"strict\",\"colorway\":[\"#636efa\",\"#EF553B\",\"#00cc96\",\"#ab63fa\",\"#FFA15A\",\"#19d3f3\",\"#FF6692\",\"#B6E880\",\"#FF97FF\",\"#FECB52\"],\"font\":{\"color\":\"#2a3f5f\"},\"hovermode\":\"closest\",\"hoverlabel\":{\"align\":\"left\"},\"paper_bgcolor\":\"white\",\"plot_bgcolor\":\"#E5ECF6\",\"polar\":{\"bgcolor\":\"#E5ECF6\",\"angularaxis\":{\"gridcolor\":\"white\",\"linecolor\":\"white\",\"ticks\":\"\"},\"radialaxis\":{\"gridcolor\":\"white\",\"linecolor\":\"white\",\"ticks\":\"\"}},\"ternary\":{\"bgcolor\":\"#E5ECF6\",\"aaxis\":{\"gridcolor\":\"white\",\"linecolor\":\"white\",\"ticks\":\"\"},\"baxis\":{\"gridcolor\":\"white\",\"linecolor\":\"white\",\"ticks\":\"\"},\"caxis\":{\"gridcolor\":\"white\",\"linecolor\":\"white\",\"ticks\":\"\"}},\"coloraxis\":{\"colorbar\":{\"outlinewidth\":0,\"ticks\":\"\"}},\"colorscale\":{\"sequential\":[[0.0,\"#0d0887\"],[0.1111111111111111,\"#46039f\"],[0.2222222222222222,\"#7201a8\"],[0.3333333333333333,\"#9c179e\"],[0.4444444444444444,\"#bd3786\"],[0.5555555555555556,\"#d8576b\"],[0.6666666666666666,\"#ed7953\"],[0.7777777777777778,\"#fb9f3a\"],[0.8888888888888888,\"#fdca26\"],[1.0,\"#f0f921\"]],\"sequentialminus\":[[0.0,\"#0d0887\"],[0.1111111111111111,\"#46039f\"],[0.2222222222222222,\"#7201a8\"],[0.3333333333333333,\"#9c179e\"],[0.4444444444444444,\"#bd3786\"],[0.5555555555555556,\"#d8576b\"],[0.6666666666666666,\"#ed7953\"],[0.7777777777777778,\"#fb9f3a\"],[0.8888888888888888,\"#fdca26\"],[1.0,\"#f0f921\"]],\"diverging\":[[0,\"#8e0152\"],[0.1,\"#c51b7d\"],[0.2,\"#de77ae\"],[0.3,\"#f1b6da\"],[0.4,\"#fde0ef\"],[0.5,\"#f7f7f7\"],[0.6,\"#e6f5d0\"],[0.7,\"#b8e186\"],[0.8,\"#7fbc41\"],[0.9,\"#4d9221\"],[1,\"#276419\"]]},\"xaxis\":{\"gridcolor\":\"white\",\"linecolor\":\"white\",\"ticks\":\"\",\"title\":{\"standoff\":15},\"zerolinecolor\":\"white\",\"automargin\":true,\"zerolinewidth\":2},\"yaxis\":{\"gridcolor\":\"white\",\"linecolor\":\"white\",\"ticks\":\"\",\"title\":{\"standoff\":15},\"zerolinecolor\":\"white\",\"automargin\":true,\"zerolinewidth\":2},\"scene\":{\"xaxis\":{\"backgroundcolor\":\"#E5ECF6\",\"gridcolor\":\"white\",\"linecolor\":\"white\",\"showbackground\":true,\"ticks\":\"\",\"zerolinecolor\":\"white\",\"gridwidth\":2},\"yaxis\":{\"backgroundcolor\":\"#E5ECF6\",\"gridcolor\":\"white\",\"linecolor\":\"white\",\"showbackground\":true,\"ticks\":\"\",\"zerolinecolor\":\"white\",\"gridwidth\":2},\"zaxis\":{\"backgroundcolor\":\"#E5ECF6\",\"gridcolor\":\"white\",\"linecolor\":\"white\",\"showbackground\":true,\"ticks\":\"\",\"zerolinecolor\":\"white\",\"gridwidth\":2}},\"shapedefaults\":{\"line\":{\"color\":\"#2a3f5f\"}},\"annotationdefaults\":{\"arrowcolor\":\"#2a3f5f\",\"arrowhead\":0,\"arrowwidth\":1},\"geo\":{\"bgcolor\":\"white\",\"landcolor\":\"#E5ECF6\",\"subunitcolor\":\"white\",\"showland\":true,\"showlakes\":true,\"lakecolor\":\"white\"},\"title\":{\"x\":0.05},\"mapbox\":{\"style\":\"light\"}}},\"xaxis\":{\"anchor\":\"y\",\"domain\":[0.0,1.0],\"title\":{\"text\":\"SMILES string\"},\"tickangle\":-70},\"yaxis\":{\"anchor\":\"x\",\"domain\":[0.0,1.0],\"title\":{\"text\":\"Number of entries [%]\"}},\"legend\":{\"tracegroupgap\":0},\"title\":{\"text\":\"Distribution of constitutional\\u002frepeating units\"},\"barmode\":\"relative\",\"height\":900,\"font\":{\"family\":\"Calibri\"},\"annotations\":[{\"bgcolor\":\"lightblue\",\"showarrow\":false,\"text\":\"Minority share = 4.90% \\u003cbr\\u003e (showing 95.10% of all structures)\",\"x\":1,\"xanchor\":\"left\",\"y\":0.2}]},                        {\"responsive\": true}                    ).then(function(){\n                            \nvar gd = document.getElementById('16b66309-12b5-4a0e-b688-e0f59cfd5ae9');\nvar x = new MutationObserver(function (mutations, observer) {{\n        var display = window.getComputedStyle(gd).display;\n        if (!display || display === 'none') {{\n            console.log([gd, 'removed!']);\n            Plotly.purge(gd);\n            observer.disconnect();\n        }}\n}});\n\n// Listen for the removal of the full notebook cells\nvar notebookContainer = gd.closest('#notebook-container');\nif (notebookContainer) {{\n    x.observe(notebookContainer, {childList: true});\n}}\n\n// Listen for the clearing of the current output cell\nvar outputEl = gd.closest('.output');\nif (outputEl) {{\n    x.observe(outputEl, {childList: true});\n}}\n\n                        })                };                });            </script>        </div>"
     },
     "metadata": {},
     "output_type": "display_data"
    }
   ],
   "source": [
    "# create a depiction of all the amount of all smiles strings\n",
    "c = df[\"SMILES_repeating_unitA\"].value_counts(normalize=True)\n",
    "print(\"number or different constitutional/repeating units: {}\".format(len(c)))\n",
    "# threshold for strings which are only present in less than a specific percentage of the data\n",
    "frequent_strings = []\n",
    "perc = 0\n",
    "for s,p in zip(c.index,c.values):\n",
    "    if perc < 0.95:\n",
    "        perc += p\n",
    "        frequent_strings.append(s)\n",
    "    else:\n",
    "        break\n",
    "c = c.head(len(frequent_strings))\n",
    "\n",
    "# create a list of percentages strings for each SMILES string\n",
    "percentage_list = [str(perc_num) for perc_num in (np.around(c.values*100, decimals=1))]\n",
    "\n",
    "figure = px.bar(\n",
    "    x=c.index,\n",
    "    y=c.values,\n",
    "    title=\"Distribution of constitutional/repeating units\",\n",
    "    labels={\"x\": \"SMILES string\", \"y\": \"Number of entries [%]\"},\n",
    "    height=900,\n",
    "    text=percentage_list, # annotates each bar with its\n",
    "\n",
    ")\n",
    "# set lable angles diagonally\n",
    "figure.update_traces(textangle=-70)\n",
    "figure.update_layout(font_family = \"Calibri\")\n",
    "figure.update_xaxes(tickangle=-70)\n",
    "\n",
    "#creating a string for the information that was left out for better visibility\n",
    "information = \"Minority share = %.2f%% <br> (showing %.2f%% of all structures)\"  %((1-perc)*100, perc*100)\n",
    "figure.add_annotation(text=information,\n",
    "                      showarrow=False,\n",
    "                      bgcolor=\"lightblue\",\n",
    "                      xanchor=\"left\",\n",
    "                      y=0.2,\n",
    "                      x=1\n",
    "                      )\n",
    "\n",
    "figure.show()"
   ],
   "metadata": {
    "collapsed": false,
    "pycharm": {
     "name": "#%%\n"
    }
   }
  },
  {
   "cell_type": "code",
   "execution_count": 252,
   "outputs": [
    {
     "data": {
      "application/vnd.plotly.v1+json": {
       "data": [
        {
         "alignmentgroup": "True",
         "bingroup": "x",
         "hovertemplate": "Cloud point [°C]=%{x}<br>count=%{y}<extra></extra>",
         "legendgroup": "",
         "marker": {
          "color": "#636efa",
          "pattern": {
           "shape": ""
          }
         },
         "name": "",
         "nbinsx": 100,
         "offsetgroup": "",
         "orientation": "v",
         "showlegend": false,
         "x": [
          32.1,
          43.0,
          44.0,
          45.5,
          43.0,
          42.0,
          48.0,
          43.0,
          47.0,
          41.0,
          36.0,
          26.6,
          33.0,
          45.0,
          45.5,
          47.0,
          45.5,
          44.0,
          51.0,
          44.5,
          49.0,
          42.0,
          38.0,
          34.5,
          23.5,
          22.55,
          21.63,
          22.35,
          24.5,
          25.11,
          28.2,
          29.5,
          21.9,
          18.9,
          16.1,
          24.5,
          27.0,
          29.2,
          32.0,
          34.8,
          35.2,
          40.3,
          45.6,
          50.4,
          17.8,
          20.0,
          23.3,
          34.45,
          22.3,
          27.5,
          31.4,
          40.0,
          18.8,
          17.62,
          17.0,
          16.53,
          19.1,
          17.9,
          16.68,
          15.81,
          80.5,
          81.8,
          35.7,
          32.2,
          33.2,
          33.9,
          34.2,
          34.3,
          72.5,
          62.8,
          51.3,
          48.1,
          32.7,
          25.0,
          18.0,
          21.25,
          10.8,
          21.0,
          9.2,
          20.0,
          8.16,
          20.0,
          8.16,
          34.01,
          21.3,
          24.95,
          15.67,
          19.69,
          8.09,
          9.47,
          9.47,
          15.13,
          9.21,
          7.78,
          9.21,
          20.68,
          21.0,
          23.89,
          21.0,
          19.93,
          21.0,
          31.8,
          30.2,
          29.4,
          28.8,
          23.2,
          30.3,
          25.6,
          31.7,
          30.6,
          32.7,
          32.5,
          39.9,
          40.8,
          41.5,
          30.5,
          30.7,
          31.2,
          31.1,
          30.8,
          30.4,
          33.2,
          33.4,
          27.5,
          25.3,
          22.9,
          20.9,
          27.4,
          25.0,
          22.6,
          20.8,
          39.5,
          37.9,
          36.4,
          34.7,
          38.1,
          34.5,
          31.95,
          28.8,
          31.25,
          29.25,
          27.5,
          25.6,
          29.5,
          26.0,
          23.0,
          18.8,
          33.5,
          35.0,
          38.4,
          42.9,
          43.0,
          43.7,
          42.0,
          32.6,
          30.3,
          39.0,
          32.7,
          32.8,
          29.84,
          27.87,
          22.62,
          18.36,
          12.13,
          29.62,
          26.89,
          19.45,
          11.91,
          6.99,
          30.93,
          25.46,
          21.97,
          24.15,
          27.76,
          32.02,
          33.55,
          32.24,
          23.28,
          31.8,
          32.02,
          36.83,
          49.62,
          54.64,
          51.8,
          37.27,
          39.45,
          40.66,
          45.03,
          75.08,
          76.07,
          73.99,
          33.84,
          33.49,
          34.52,
          37.31,
          39.62,
          40.77,
          32.59,
          32.79,
          33.4,
          34.62,
          35.77,
          37.89,
          33.76,
          33.94,
          35.7,
          34.67,
          36.05,
          37.97,
          38.26,
          39.84,
          37.54,
          36.53,
          34.75,
          32.46,
          28.81,
          26.19,
          21.53,
          37.37,
          37.71,
          38.39,
          41.36,
          46.19,
          38.98,
          45.08,
          50.85,
          50.93,
          48.14,
          39.92,
          41.1,
          45.68,
          54.66,
          51.86,
          40.08,
          43.05,
          44.92,
          46.95,
          48.47,
          77.29,
          34.11,
          33.61,
          33.58,
          33.45,
          33.01,
          32.56,
          32.25,
          31.68,
          31.93,
          33.32,
          32.66,
          32.28,
          32.25,
          31.68,
          31.93,
          35.22,
          37.75,
          39.78,
          41.28,
          28.84,
          21.02,
          19.42,
          16.27,
          11.69,
          30.0,
          28.4,
          31.5,
          32.5,
          38.3,
          28.8,
          31.6,
          48.0,
          26.8,
          32.6,
          19.0,
          23.0,
          7.0,
          18.0,
          18.0,
          11.0,
          7.0,
          8.0,
          7.0,
          7.0,
          35.01,
          34.58,
          34.0,
          32.81,
          31.73,
          31.55,
          51.68,
          39.34,
          38.15,
          32.56,
          32.63,
          35.72,
          36.48,
          38.88,
          39.7,
          40.39,
          58.0,
          64.5,
          77.5,
          83.7,
          93.2,
          88.5,
          49.5,
          98.5,
          67.0,
          65.5,
          60.2,
          84.3,
          75.0,
          66.5,
          53.6,
          96.19,
          84.08,
          78.58,
          77.56,
          77.04,
          77.26,
          77.33,
          78.07,
          78.73,
          79.61,
          80.05,
          81.0,
          85.11,
          79.1,
          71.1,
          68.53,
          67.07,
          66.77,
          67.07,
          67.21,
          67.65,
          68.83,
          69.05,
          70.59,
          71.1,
          76.16,
          74.11,
          67.07,
          66.11,
          65.09,
          65.09,
          66.04,
          66.63,
          67.51,
          68.53,
          69.78,
          70.07,
          75.5,
          66.99,
          62.0,
          60.54,
          58.56,
          59.07,
          59.07,
          59.58,
          60.1,
          60.54,
          61.56,
          62.52,
          63.55,
          33.15,
          33.21,
          34.49,
          32.52,
          32.22,
          32.44,
          33.14,
          33.98,
          35.28,
          36.73,
          39.0,
          44.0,
          65.0,
          32.0,
          60.0,
          35.0,
          66.0,
          46.0,
          33.0,
          34.0,
          48.0,
          37.0,
          64.0,
          33.0,
          21.4,
          25.5,
          27.4,
          31.0,
          50.0,
          42.0,
          34.0,
          31.0,
          28.0,
          28.89,
          36.09,
          28.89,
          23.39,
          35.91,
          29.06,
          24.43,
          28.46,
          36.05,
          22.53,
          28.22,
          28.22,
          22.98,
          26.93,
          30.01,
          34.0,
          31.92,
          32.14,
          22.98,
          28.04,
          28.49,
          28.01,
          26.0,
          43.0,
          77.0,
          94.0,
          70.9,
          54.5,
          39.0,
          27.4,
          26.5,
          79.8,
          66.6,
          58.1,
          41.6,
          87.3,
          81.3,
          78.5,
          74.3,
          71.2,
          87.9,
          85.6,
          82.6,
          82.2,
          78.5,
          91.0,
          88.8,
          85.3,
          83.1,
          78.7,
          19.9,
          15.5,
          11.6,
          9.9,
          10.4,
          21.5,
          17.8,
          14.5,
          12.0,
          11.5,
          22.7,
          20.3,
          18.5,
          18.3,
          16.4,
          23.9,
          22.4,
          22.2,
          21.5,
          20.3,
          24.3,
          23.4,
          22.4,
          21.3,
          20.6,
          30.3,
          32.3,
          33.6,
          35.3,
          35.5,
          29.7,
          32.0,
          33.9,
          34.1,
          38.4,
          29.9,
          32.7,
          34.7,
          37.2,
          38.5,
          32.4,
          35.6,
          37.2,
          39.9,
          40.0,
          31.8,
          35.9,
          39.6,
          41.5,
          43.3,
          50.8,
          55.3,
          58.1,
          62.4,
          65.1,
          52.7,
          56.3,
          58.8,
          60.1,
          60.3,
          50.6,
          53.7,
          56.6,
          57.9,
          59.3,
          48.2,
          51.5,
          54.7,
          56.5,
          57.2,
          49.0,
          51.7,
          54.6,
          58.0,
          58.5,
          41.8,
          40.3,
          38.5,
          37.6,
          36.0,
          40.4,
          37.9,
          35.9,
          34.2,
          32.9,
          40.8,
          39.1,
          37.5,
          37.0,
          35.0,
          36.7,
          31.5,
          26.0,
          35.2,
          28.6,
          21.6,
          15.4,
          11.1,
          48.6,
          42.1,
          36.1,
          23.6,
          16.3,
          66.7,
          55.2,
          47.3,
          29.2,
          30.2,
          72.5,
          70.7,
          64.7,
          64.8,
          61.4,
          67.9,
          66.0,
          62.5,
          56.6,
          51.4,
          72.3,
          70.4,
          67.8,
          62.9,
          57.1,
          94.1,
          95.4,
          102.3,
          89.4,
          94.4,
          102.7,
          102.6,
          105.0,
          78.03,
          77.45,
          75.54,
          72.7,
          72.01,
          71.66,
          70.73,
          68.53,
          68.65,
          68.01,
          68.71,
          68.01,
          67.95,
          66.97,
          73.63,
          73.98,
          71.54,
          69.52,
          69.05,
          69.05,
          20.39,
          45.28,
          59.44,
          30.04,
          70.39,
          81.76,
          99.14,
          28.36,
          59.87,
          44.0,
          25.9,
          26.51,
          27.25,
          48.98,
          51.44,
          52.85,
          26.0,
          37.0,
          52.0,
          68.0,
          4.0,
          15.0,
          27.0,
          42.0,
          37.0,
          15.0,
          83.0,
          93.0,
          51.0,
          46.0,
          61.0,
          30.0,
          41.0,
          17.9,
          20.93,
          21.43,
          21.89,
          21.89,
          21.35,
          22.94,
          26.35,
          27.44,
          27.9,
          27.35,
          26.43,
          23.91,
          28.87,
          29.88,
          29.92,
          29.37,
          27.86,
          24.92,
          29.96,
          30.46,
          29.96,
          28.87,
          24.96,
          29.92,
          31.89,
          31.89,
          31.39,
          30.38,
          23.94,
          19.9,
          16.36,
          13.08,
          10.81,
          9.55,
          46.67,
          44.14,
          41.36,
          39.09,
          38.33,
          37.32,
          36.31,
          35.56,
          65.35,
          61.31,
          59.55,
          57.27,
          56.01,
          55.25,
          55.25,
          55.0,
          76.46,
          71.41,
          66.62,
          63.84,
          60.81,
          59.8,
          59.55,
          36.67,
          38.78,
          39.51,
          40.57,
          41.54,
          42.03,
          44.07,
          46.02,
          46.02,
          46.5,
          46.5,
          46.02,
          56.18,
          56.59,
          57.15,
          58.54,
          59.02,
          60.98,
          13.14,
          15.69,
          17.18,
          18.68,
          56.98,
          58.63,
          62.67,
          63.72,
          65.51,
          29.0,
          25.0,
          19.0,
          28.0,
          45.0,
          13.0,
          39.0,
          55.0,
          19.0,
          37.0,
          27.73,
          26.36,
          25.82,
          25.27,
          26.0,
          25.5,
          25.15,
          24.0,
          50.0,
          47.5,
          47.5,
          47.0,
          50.13,
          39.74,
          46.3,
          35.06,
          35.06,
          35.06,
          36.9,
          37.68292683,
          39.9,
          43.53658537,
          32.41463415,
          33.3902439,
          33.8,
          34.1,
          37.1,
          36.32,
          35.73,
          35.34,
          34.95,
          34.56,
          34.07,
          32.51,
          32.32,
          31.54,
          31.15,
          30.76,
          30.27,
          29.88,
          34.85,
          32.51,
          32.12,
          31.15,
          37.98,
          37.0,
          36.02,
          35.15,
          90.0,
          59.0,
          49.0,
          44.0,
          39.0,
          37.0,
          32.0,
          28.0,
          40.52,
          38.97,
          38.77,
          36.84,
          36.45,
          61.03,
          59.1,
          57.16,
          56.0,
          55.42,
          25.3,
          25.3,
          25.5,
          25.2,
          27.7,
          26.5,
          28.3,
          34.7,
          29.7,
          28.6,
          30.7,
          33.5,
          39.3,
          39.0,
          39.2,
          39.6,
          29.6,
          27.3,
          30.0,
          40.5,
          36.0,
          35.5,
          36.5,
          45.0,
          61.5,
          61.0,
          61.3,
          63.5,
          19.5,
          21.2,
          21.5,
          25.5,
          32.78,
          34.17,
          35.28,
          39.44,
          42.22,
          46.67,
          53.61,
          28.33,
          26.67,
          25.0,
          23.06,
          17.78,
          13.33,
          8.89,
          4.17,
          42.8,
          62.7,
          62.4,
          62.1,
          58.3,
          50.1,
          49.7,
          53.6,
          45.8,
          44.7,
          66.3,
          62.5,
          62.1,
          50.9,
          51.7,
          50.3,
          48.9,
          48.9,
          49.1
         ],
         "xaxis": "x",
         "yaxis": "y",
         "type": "histogram"
        }
       ],
       "layout": {
        "template": {
         "data": {
          "histogram2dcontour": [
           {
            "type": "histogram2dcontour",
            "colorbar": {
             "outlinewidth": 0,
             "ticks": ""
            },
            "colorscale": [
             [
              0.0,
              "#0d0887"
             ],
             [
              0.1111111111111111,
              "#46039f"
             ],
             [
              0.2222222222222222,
              "#7201a8"
             ],
             [
              0.3333333333333333,
              "#9c179e"
             ],
             [
              0.4444444444444444,
              "#bd3786"
             ],
             [
              0.5555555555555556,
              "#d8576b"
             ],
             [
              0.6666666666666666,
              "#ed7953"
             ],
             [
              0.7777777777777778,
              "#fb9f3a"
             ],
             [
              0.8888888888888888,
              "#fdca26"
             ],
             [
              1.0,
              "#f0f921"
             ]
            ]
           }
          ],
          "choropleth": [
           {
            "type": "choropleth",
            "colorbar": {
             "outlinewidth": 0,
             "ticks": ""
            }
           }
          ],
          "histogram2d": [
           {
            "type": "histogram2d",
            "colorbar": {
             "outlinewidth": 0,
             "ticks": ""
            },
            "colorscale": [
             [
              0.0,
              "#0d0887"
             ],
             [
              0.1111111111111111,
              "#46039f"
             ],
             [
              0.2222222222222222,
              "#7201a8"
             ],
             [
              0.3333333333333333,
              "#9c179e"
             ],
             [
              0.4444444444444444,
              "#bd3786"
             ],
             [
              0.5555555555555556,
              "#d8576b"
             ],
             [
              0.6666666666666666,
              "#ed7953"
             ],
             [
              0.7777777777777778,
              "#fb9f3a"
             ],
             [
              0.8888888888888888,
              "#fdca26"
             ],
             [
              1.0,
              "#f0f921"
             ]
            ]
           }
          ],
          "heatmap": [
           {
            "type": "heatmap",
            "colorbar": {
             "outlinewidth": 0,
             "ticks": ""
            },
            "colorscale": [
             [
              0.0,
              "#0d0887"
             ],
             [
              0.1111111111111111,
              "#46039f"
             ],
             [
              0.2222222222222222,
              "#7201a8"
             ],
             [
              0.3333333333333333,
              "#9c179e"
             ],
             [
              0.4444444444444444,
              "#bd3786"
             ],
             [
              0.5555555555555556,
              "#d8576b"
             ],
             [
              0.6666666666666666,
              "#ed7953"
             ],
             [
              0.7777777777777778,
              "#fb9f3a"
             ],
             [
              0.8888888888888888,
              "#fdca26"
             ],
             [
              1.0,
              "#f0f921"
             ]
            ]
           }
          ],
          "heatmapgl": [
           {
            "type": "heatmapgl",
            "colorbar": {
             "outlinewidth": 0,
             "ticks": ""
            },
            "colorscale": [
             [
              0.0,
              "#0d0887"
             ],
             [
              0.1111111111111111,
              "#46039f"
             ],
             [
              0.2222222222222222,
              "#7201a8"
             ],
             [
              0.3333333333333333,
              "#9c179e"
             ],
             [
              0.4444444444444444,
              "#bd3786"
             ],
             [
              0.5555555555555556,
              "#d8576b"
             ],
             [
              0.6666666666666666,
              "#ed7953"
             ],
             [
              0.7777777777777778,
              "#fb9f3a"
             ],
             [
              0.8888888888888888,
              "#fdca26"
             ],
             [
              1.0,
              "#f0f921"
             ]
            ]
           }
          ],
          "contourcarpet": [
           {
            "type": "contourcarpet",
            "colorbar": {
             "outlinewidth": 0,
             "ticks": ""
            }
           }
          ],
          "contour": [
           {
            "type": "contour",
            "colorbar": {
             "outlinewidth": 0,
             "ticks": ""
            },
            "colorscale": [
             [
              0.0,
              "#0d0887"
             ],
             [
              0.1111111111111111,
              "#46039f"
             ],
             [
              0.2222222222222222,
              "#7201a8"
             ],
             [
              0.3333333333333333,
              "#9c179e"
             ],
             [
              0.4444444444444444,
              "#bd3786"
             ],
             [
              0.5555555555555556,
              "#d8576b"
             ],
             [
              0.6666666666666666,
              "#ed7953"
             ],
             [
              0.7777777777777778,
              "#fb9f3a"
             ],
             [
              0.8888888888888888,
              "#fdca26"
             ],
             [
              1.0,
              "#f0f921"
             ]
            ]
           }
          ],
          "surface": [
           {
            "type": "surface",
            "colorbar": {
             "outlinewidth": 0,
             "ticks": ""
            },
            "colorscale": [
             [
              0.0,
              "#0d0887"
             ],
             [
              0.1111111111111111,
              "#46039f"
             ],
             [
              0.2222222222222222,
              "#7201a8"
             ],
             [
              0.3333333333333333,
              "#9c179e"
             ],
             [
              0.4444444444444444,
              "#bd3786"
             ],
             [
              0.5555555555555556,
              "#d8576b"
             ],
             [
              0.6666666666666666,
              "#ed7953"
             ],
             [
              0.7777777777777778,
              "#fb9f3a"
             ],
             [
              0.8888888888888888,
              "#fdca26"
             ],
             [
              1.0,
              "#f0f921"
             ]
            ]
           }
          ],
          "mesh3d": [
           {
            "type": "mesh3d",
            "colorbar": {
             "outlinewidth": 0,
             "ticks": ""
            }
           }
          ],
          "scatter": [
           {
            "fillpattern": {
             "fillmode": "overlay",
             "size": 10,
             "solidity": 0.2
            },
            "type": "scatter"
           }
          ],
          "parcoords": [
           {
            "type": "parcoords",
            "line": {
             "colorbar": {
              "outlinewidth": 0,
              "ticks": ""
             }
            }
           }
          ],
          "scatterpolargl": [
           {
            "type": "scatterpolargl",
            "marker": {
             "colorbar": {
              "outlinewidth": 0,
              "ticks": ""
             }
            }
           }
          ],
          "bar": [
           {
            "error_x": {
             "color": "#2a3f5f"
            },
            "error_y": {
             "color": "#2a3f5f"
            },
            "marker": {
             "line": {
              "color": "#E5ECF6",
              "width": 0.5
             },
             "pattern": {
              "fillmode": "overlay",
              "size": 10,
              "solidity": 0.2
             }
            },
            "type": "bar"
           }
          ],
          "scattergeo": [
           {
            "type": "scattergeo",
            "marker": {
             "colorbar": {
              "outlinewidth": 0,
              "ticks": ""
             }
            }
           }
          ],
          "scatterpolar": [
           {
            "type": "scatterpolar",
            "marker": {
             "colorbar": {
              "outlinewidth": 0,
              "ticks": ""
             }
            }
           }
          ],
          "histogram": [
           {
            "marker": {
             "pattern": {
              "fillmode": "overlay",
              "size": 10,
              "solidity": 0.2
             }
            },
            "type": "histogram"
           }
          ],
          "scattergl": [
           {
            "type": "scattergl",
            "marker": {
             "colorbar": {
              "outlinewidth": 0,
              "ticks": ""
             }
            }
           }
          ],
          "scatter3d": [
           {
            "type": "scatter3d",
            "line": {
             "colorbar": {
              "outlinewidth": 0,
              "ticks": ""
             }
            },
            "marker": {
             "colorbar": {
              "outlinewidth": 0,
              "ticks": ""
             }
            }
           }
          ],
          "scattermapbox": [
           {
            "type": "scattermapbox",
            "marker": {
             "colorbar": {
              "outlinewidth": 0,
              "ticks": ""
             }
            }
           }
          ],
          "scatterternary": [
           {
            "type": "scatterternary",
            "marker": {
             "colorbar": {
              "outlinewidth": 0,
              "ticks": ""
             }
            }
           }
          ],
          "scattercarpet": [
           {
            "type": "scattercarpet",
            "marker": {
             "colorbar": {
              "outlinewidth": 0,
              "ticks": ""
             }
            }
           }
          ],
          "carpet": [
           {
            "aaxis": {
             "endlinecolor": "#2a3f5f",
             "gridcolor": "white",
             "linecolor": "white",
             "minorgridcolor": "white",
             "startlinecolor": "#2a3f5f"
            },
            "baxis": {
             "endlinecolor": "#2a3f5f",
             "gridcolor": "white",
             "linecolor": "white",
             "minorgridcolor": "white",
             "startlinecolor": "#2a3f5f"
            },
            "type": "carpet"
           }
          ],
          "table": [
           {
            "cells": {
             "fill": {
              "color": "#EBF0F8"
             },
             "line": {
              "color": "white"
             }
            },
            "header": {
             "fill": {
              "color": "#C8D4E3"
             },
             "line": {
              "color": "white"
             }
            },
            "type": "table"
           }
          ],
          "barpolar": [
           {
            "marker": {
             "line": {
              "color": "#E5ECF6",
              "width": 0.5
             },
             "pattern": {
              "fillmode": "overlay",
              "size": 10,
              "solidity": 0.2
             }
            },
            "type": "barpolar"
           }
          ],
          "pie": [
           {
            "automargin": true,
            "type": "pie"
           }
          ]
         },
         "layout": {
          "autotypenumbers": "strict",
          "colorway": [
           "#636efa",
           "#EF553B",
           "#00cc96",
           "#ab63fa",
           "#FFA15A",
           "#19d3f3",
           "#FF6692",
           "#B6E880",
           "#FF97FF",
           "#FECB52"
          ],
          "font": {
           "color": "#2a3f5f"
          },
          "hovermode": "closest",
          "hoverlabel": {
           "align": "left"
          },
          "paper_bgcolor": "white",
          "plot_bgcolor": "#E5ECF6",
          "polar": {
           "bgcolor": "#E5ECF6",
           "angularaxis": {
            "gridcolor": "white",
            "linecolor": "white",
            "ticks": ""
           },
           "radialaxis": {
            "gridcolor": "white",
            "linecolor": "white",
            "ticks": ""
           }
          },
          "ternary": {
           "bgcolor": "#E5ECF6",
           "aaxis": {
            "gridcolor": "white",
            "linecolor": "white",
            "ticks": ""
           },
           "baxis": {
            "gridcolor": "white",
            "linecolor": "white",
            "ticks": ""
           },
           "caxis": {
            "gridcolor": "white",
            "linecolor": "white",
            "ticks": ""
           }
          },
          "coloraxis": {
           "colorbar": {
            "outlinewidth": 0,
            "ticks": ""
           }
          },
          "colorscale": {
           "sequential": [
            [
             0.0,
             "#0d0887"
            ],
            [
             0.1111111111111111,
             "#46039f"
            ],
            [
             0.2222222222222222,
             "#7201a8"
            ],
            [
             0.3333333333333333,
             "#9c179e"
            ],
            [
             0.4444444444444444,
             "#bd3786"
            ],
            [
             0.5555555555555556,
             "#d8576b"
            ],
            [
             0.6666666666666666,
             "#ed7953"
            ],
            [
             0.7777777777777778,
             "#fb9f3a"
            ],
            [
             0.8888888888888888,
             "#fdca26"
            ],
            [
             1.0,
             "#f0f921"
            ]
           ],
           "sequentialminus": [
            [
             0.0,
             "#0d0887"
            ],
            [
             0.1111111111111111,
             "#46039f"
            ],
            [
             0.2222222222222222,
             "#7201a8"
            ],
            [
             0.3333333333333333,
             "#9c179e"
            ],
            [
             0.4444444444444444,
             "#bd3786"
            ],
            [
             0.5555555555555556,
             "#d8576b"
            ],
            [
             0.6666666666666666,
             "#ed7953"
            ],
            [
             0.7777777777777778,
             "#fb9f3a"
            ],
            [
             0.8888888888888888,
             "#fdca26"
            ],
            [
             1.0,
             "#f0f921"
            ]
           ],
           "diverging": [
            [
             0,
             "#8e0152"
            ],
            [
             0.1,
             "#c51b7d"
            ],
            [
             0.2,
             "#de77ae"
            ],
            [
             0.3,
             "#f1b6da"
            ],
            [
             0.4,
             "#fde0ef"
            ],
            [
             0.5,
             "#f7f7f7"
            ],
            [
             0.6,
             "#e6f5d0"
            ],
            [
             0.7,
             "#b8e186"
            ],
            [
             0.8,
             "#7fbc41"
            ],
            [
             0.9,
             "#4d9221"
            ],
            [
             1,
             "#276419"
            ]
           ]
          },
          "xaxis": {
           "gridcolor": "white",
           "linecolor": "white",
           "ticks": "",
           "title": {
            "standoff": 15
           },
           "zerolinecolor": "white",
           "automargin": true,
           "zerolinewidth": 2
          },
          "yaxis": {
           "gridcolor": "white",
           "linecolor": "white",
           "ticks": "",
           "title": {
            "standoff": 15
           },
           "zerolinecolor": "white",
           "automargin": true,
           "zerolinewidth": 2
          },
          "scene": {
           "xaxis": {
            "backgroundcolor": "#E5ECF6",
            "gridcolor": "white",
            "linecolor": "white",
            "showbackground": true,
            "ticks": "",
            "zerolinecolor": "white",
            "gridwidth": 2
           },
           "yaxis": {
            "backgroundcolor": "#E5ECF6",
            "gridcolor": "white",
            "linecolor": "white",
            "showbackground": true,
            "ticks": "",
            "zerolinecolor": "white",
            "gridwidth": 2
           },
           "zaxis": {
            "backgroundcolor": "#E5ECF6",
            "gridcolor": "white",
            "linecolor": "white",
            "showbackground": true,
            "ticks": "",
            "zerolinecolor": "white",
            "gridwidth": 2
           }
          },
          "shapedefaults": {
           "line": {
            "color": "#2a3f5f"
           }
          },
          "annotationdefaults": {
           "arrowcolor": "#2a3f5f",
           "arrowhead": 0,
           "arrowwidth": 1
          },
          "geo": {
           "bgcolor": "white",
           "landcolor": "#E5ECF6",
           "subunitcolor": "white",
           "showland": true,
           "showlakes": true,
           "lakecolor": "white"
          },
          "title": {
           "x": 0.05
          },
          "mapbox": {
           "style": "light"
          }
         }
        },
        "xaxis": {
         "anchor": "y",
         "domain": [
          0.0,
          1.0
         ],
         "title": {
          "text": "Cloud point [°C]"
         }
        },
        "yaxis": {
         "anchor": "x",
         "domain": [
          0.0,
          1.0
         ],
         "title": {
          "text": "count"
         }
        },
        "legend": {
         "tracegroupgap": 0
        },
        "title": {
         "text": "Distribution of cloud points"
        },
        "barmode": "relative",
        "font": {
         "family": "Calibri"
        }
       },
       "config": {
        "plotlyServerURL": "https://plot.ly"
       }
      },
      "text/html": "<div>                            <div id=\"a3e21912-43a1-4856-848c-47bedfa71861\" class=\"plotly-graph-div\" style=\"height:525px; width:100%;\"></div>            <script type=\"text/javascript\">                require([\"plotly\"], function(Plotly) {                    window.PLOTLYENV=window.PLOTLYENV || {};                                    if (document.getElementById(\"a3e21912-43a1-4856-848c-47bedfa71861\")) {                    Plotly.newPlot(                        \"a3e21912-43a1-4856-848c-47bedfa71861\",                        [{\"alignmentgroup\":\"True\",\"bingroup\":\"x\",\"hovertemplate\":\"Cloud point [\\u00b0C]=%{x}\\u003cbr\\u003ecount=%{y}\\u003cextra\\u003e\\u003c\\u002fextra\\u003e\",\"legendgroup\":\"\",\"marker\":{\"color\":\"#636efa\",\"pattern\":{\"shape\":\"\"}},\"name\":\"\",\"nbinsx\":100,\"offsetgroup\":\"\",\"orientation\":\"v\",\"showlegend\":false,\"x\":[32.1,43.0,44.0,45.5,43.0,42.0,48.0,43.0,47.0,41.0,36.0,26.6,33.0,45.0,45.5,47.0,45.5,44.0,51.0,44.5,49.0,42.0,38.0,34.5,23.5,22.55,21.63,22.35,24.5,25.11,28.2,29.5,21.9,18.9,16.1,24.5,27.0,29.2,32.0,34.8,35.2,40.3,45.6,50.4,17.8,20.0,23.3,34.45,22.3,27.5,31.4,40.0,18.8,17.62,17.0,16.53,19.1,17.9,16.68,15.81,80.5,81.8,35.7,32.2,33.2,33.9,34.2,34.3,72.5,62.8,51.3,48.1,32.7,25.0,18.0,21.25,10.8,21.0,9.2,20.0,8.16,20.0,8.16,34.01,21.3,24.95,15.67,19.69,8.09,9.47,9.47,15.13,9.21,7.78,9.21,20.68,21.0,23.89,21.0,19.93,21.0,31.8,30.2,29.4,28.8,23.2,30.3,25.6,31.7,30.6,32.7,32.5,39.9,40.8,41.5,30.5,30.7,31.2,31.1,30.8,30.4,33.2,33.4,27.5,25.3,22.9,20.9,27.4,25.0,22.6,20.8,39.5,37.9,36.4,34.7,38.1,34.5,31.95,28.8,31.25,29.25,27.5,25.6,29.5,26.0,23.0,18.8,33.5,35.0,38.4,42.9,43.0,43.7,42.0,32.6,30.3,39.0,32.7,32.8,29.84,27.87,22.62,18.36,12.13,29.62,26.89,19.45,11.91,6.99,30.93,25.46,21.97,24.15,27.76,32.02,33.55,32.24,23.28,31.8,32.02,36.83,49.62,54.64,51.8,37.27,39.45,40.66,45.03,75.08,76.07,73.99,33.84,33.49,34.52,37.31,39.62,40.77,32.59,32.79,33.4,34.62,35.77,37.89,33.76,33.94,35.7,34.67,36.05,37.97,38.26,39.84,37.54,36.53,34.75,32.46,28.81,26.19,21.53,37.37,37.71,38.39,41.36,46.19,38.98,45.08,50.85,50.93,48.14,39.92,41.1,45.68,54.66,51.86,40.08,43.05,44.92,46.95,48.47,77.29,34.11,33.61,33.58,33.45,33.01,32.56,32.25,31.68,31.93,33.32,32.66,32.28,32.25,31.68,31.93,35.22,37.75,39.78,41.28,28.84,21.02,19.42,16.27,11.69,30.0,28.4,31.5,32.5,38.3,28.8,31.6,48.0,26.8,32.6,19.0,23.0,7.0,18.0,18.0,11.0,7.0,8.0,7.0,7.0,35.01,34.58,34.0,32.81,31.73,31.55,51.68,39.34,38.15,32.56,32.63,35.72,36.48,38.88,39.7,40.39,58.0,64.5,77.5,83.7,93.2,88.5,49.5,98.5,67.0,65.5,60.2,84.3,75.0,66.5,53.6,96.19,84.08,78.58,77.56,77.04,77.26,77.33,78.07,78.73,79.61,80.05,81.0,85.11,79.1,71.1,68.53,67.07,66.77,67.07,67.21,67.65,68.83,69.05,70.59,71.1,76.16,74.11,67.07,66.11,65.09,65.09,66.04,66.63,67.51,68.53,69.78,70.07,75.5,66.99,62.0,60.54,58.56,59.07,59.07,59.58,60.1,60.54,61.56,62.52,63.55,33.15,33.21,34.49,32.52,32.22,32.44,33.14,33.98,35.28,36.73,39.0,44.0,65.0,32.0,60.0,35.0,66.0,46.0,33.0,34.0,48.0,37.0,64.0,33.0,21.4,25.5,27.4,31.0,50.0,42.0,34.0,31.0,28.0,28.89,36.09,28.89,23.39,35.91,29.06,24.43,28.46,36.05,22.53,28.22,28.22,22.98,26.93,30.01,34.0,31.92,32.14,22.98,28.04,28.49,28.01,26.0,43.0,77.0,94.0,70.9,54.5,39.0,27.4,26.5,79.8,66.6,58.1,41.6,87.3,81.3,78.5,74.3,71.2,87.9,85.6,82.6,82.2,78.5,91.0,88.8,85.3,83.1,78.7,19.9,15.5,11.6,9.9,10.4,21.5,17.8,14.5,12.0,11.5,22.7,20.3,18.5,18.3,16.4,23.9,22.4,22.2,21.5,20.3,24.3,23.4,22.4,21.3,20.6,30.3,32.3,33.6,35.3,35.5,29.7,32.0,33.9,34.1,38.4,29.9,32.7,34.7,37.2,38.5,32.4,35.6,37.2,39.9,40.0,31.8,35.9,39.6,41.5,43.3,50.8,55.3,58.1,62.4,65.1,52.7,56.3,58.8,60.1,60.3,50.6,53.7,56.6,57.9,59.3,48.2,51.5,54.7,56.5,57.2,49.0,51.7,54.6,58.0,58.5,41.8,40.3,38.5,37.6,36.0,40.4,37.9,35.9,34.2,32.9,40.8,39.1,37.5,37.0,35.0,36.7,31.5,26.0,35.2,28.6,21.6,15.4,11.1,48.6,42.1,36.1,23.6,16.3,66.7,55.2,47.3,29.2,30.2,72.5,70.7,64.7,64.8,61.4,67.9,66.0,62.5,56.6,51.4,72.3,70.4,67.8,62.9,57.1,94.1,95.4,102.3,89.4,94.4,102.7,102.6,105.0,78.03,77.45,75.54,72.7,72.01,71.66,70.73,68.53,68.65,68.01,68.71,68.01,67.95,66.97,73.63,73.98,71.54,69.52,69.05,69.05,20.39,45.28,59.44,30.04,70.39,81.76,99.14,28.36,59.87,44.0,25.9,26.51,27.25,48.98,51.44,52.85,26.0,37.0,52.0,68.0,4.0,15.0,27.0,42.0,37.0,15.0,83.0,93.0,51.0,46.0,61.0,30.0,41.0,17.9,20.93,21.43,21.89,21.89,21.35,22.94,26.35,27.44,27.9,27.35,26.43,23.91,28.87,29.88,29.92,29.37,27.86,24.92,29.96,30.46,29.96,28.87,24.96,29.92,31.89,31.89,31.39,30.38,23.94,19.9,16.36,13.08,10.81,9.55,46.67,44.14,41.36,39.09,38.33,37.32,36.31,35.56,65.35,61.31,59.55,57.27,56.01,55.25,55.25,55.0,76.46,71.41,66.62,63.84,60.81,59.8,59.55,36.67,38.78,39.51,40.57,41.54,42.03,44.07,46.02,46.02,46.5,46.5,46.02,56.18,56.59,57.15,58.54,59.02,60.98,13.14,15.69,17.18,18.68,56.98,58.63,62.67,63.72,65.51,29.0,25.0,19.0,28.0,45.0,13.0,39.0,55.0,19.0,37.0,27.73,26.36,25.82,25.27,26.0,25.5,25.15,24.0,50.0,47.5,47.5,47.0,50.13,39.74,46.3,35.06,35.06,35.06,36.9,37.68292683,39.9,43.53658537,32.41463415,33.3902439,33.8,34.1,37.1,36.32,35.73,35.34,34.95,34.56,34.07,32.51,32.32,31.54,31.15,30.76,30.27,29.88,34.85,32.51,32.12,31.15,37.98,37.0,36.02,35.15,90.0,59.0,49.0,44.0,39.0,37.0,32.0,28.0,40.52,38.97,38.77,36.84,36.45,61.03,59.1,57.16,56.0,55.42,25.3,25.3,25.5,25.2,27.7,26.5,28.3,34.7,29.7,28.6,30.7,33.5,39.3,39.0,39.2,39.6,29.6,27.3,30.0,40.5,36.0,35.5,36.5,45.0,61.5,61.0,61.3,63.5,19.5,21.2,21.5,25.5,32.78,34.17,35.28,39.44,42.22,46.67,53.61,28.33,26.67,25.0,23.06,17.78,13.33,8.89,4.17,42.8,62.7,62.4,62.1,58.3,50.1,49.7,53.6,45.8,44.7,66.3,62.5,62.1,50.9,51.7,50.3,48.9,48.9,49.1],\"xaxis\":\"x\",\"yaxis\":\"y\",\"type\":\"histogram\"}],                        {\"template\":{\"data\":{\"histogram2dcontour\":[{\"type\":\"histogram2dcontour\",\"colorbar\":{\"outlinewidth\":0,\"ticks\":\"\"},\"colorscale\":[[0.0,\"#0d0887\"],[0.1111111111111111,\"#46039f\"],[0.2222222222222222,\"#7201a8\"],[0.3333333333333333,\"#9c179e\"],[0.4444444444444444,\"#bd3786\"],[0.5555555555555556,\"#d8576b\"],[0.6666666666666666,\"#ed7953\"],[0.7777777777777778,\"#fb9f3a\"],[0.8888888888888888,\"#fdca26\"],[1.0,\"#f0f921\"]]}],\"choropleth\":[{\"type\":\"choropleth\",\"colorbar\":{\"outlinewidth\":0,\"ticks\":\"\"}}],\"histogram2d\":[{\"type\":\"histogram2d\",\"colorbar\":{\"outlinewidth\":0,\"ticks\":\"\"},\"colorscale\":[[0.0,\"#0d0887\"],[0.1111111111111111,\"#46039f\"],[0.2222222222222222,\"#7201a8\"],[0.3333333333333333,\"#9c179e\"],[0.4444444444444444,\"#bd3786\"],[0.5555555555555556,\"#d8576b\"],[0.6666666666666666,\"#ed7953\"],[0.7777777777777778,\"#fb9f3a\"],[0.8888888888888888,\"#fdca26\"],[1.0,\"#f0f921\"]]}],\"heatmap\":[{\"type\":\"heatmap\",\"colorbar\":{\"outlinewidth\":0,\"ticks\":\"\"},\"colorscale\":[[0.0,\"#0d0887\"],[0.1111111111111111,\"#46039f\"],[0.2222222222222222,\"#7201a8\"],[0.3333333333333333,\"#9c179e\"],[0.4444444444444444,\"#bd3786\"],[0.5555555555555556,\"#d8576b\"],[0.6666666666666666,\"#ed7953\"],[0.7777777777777778,\"#fb9f3a\"],[0.8888888888888888,\"#fdca26\"],[1.0,\"#f0f921\"]]}],\"heatmapgl\":[{\"type\":\"heatmapgl\",\"colorbar\":{\"outlinewidth\":0,\"ticks\":\"\"},\"colorscale\":[[0.0,\"#0d0887\"],[0.1111111111111111,\"#46039f\"],[0.2222222222222222,\"#7201a8\"],[0.3333333333333333,\"#9c179e\"],[0.4444444444444444,\"#bd3786\"],[0.5555555555555556,\"#d8576b\"],[0.6666666666666666,\"#ed7953\"],[0.7777777777777778,\"#fb9f3a\"],[0.8888888888888888,\"#fdca26\"],[1.0,\"#f0f921\"]]}],\"contourcarpet\":[{\"type\":\"contourcarpet\",\"colorbar\":{\"outlinewidth\":0,\"ticks\":\"\"}}],\"contour\":[{\"type\":\"contour\",\"colorbar\":{\"outlinewidth\":0,\"ticks\":\"\"},\"colorscale\":[[0.0,\"#0d0887\"],[0.1111111111111111,\"#46039f\"],[0.2222222222222222,\"#7201a8\"],[0.3333333333333333,\"#9c179e\"],[0.4444444444444444,\"#bd3786\"],[0.5555555555555556,\"#d8576b\"],[0.6666666666666666,\"#ed7953\"],[0.7777777777777778,\"#fb9f3a\"],[0.8888888888888888,\"#fdca26\"],[1.0,\"#f0f921\"]]}],\"surface\":[{\"type\":\"surface\",\"colorbar\":{\"outlinewidth\":0,\"ticks\":\"\"},\"colorscale\":[[0.0,\"#0d0887\"],[0.1111111111111111,\"#46039f\"],[0.2222222222222222,\"#7201a8\"],[0.3333333333333333,\"#9c179e\"],[0.4444444444444444,\"#bd3786\"],[0.5555555555555556,\"#d8576b\"],[0.6666666666666666,\"#ed7953\"],[0.7777777777777778,\"#fb9f3a\"],[0.8888888888888888,\"#fdca26\"],[1.0,\"#f0f921\"]]}],\"mesh3d\":[{\"type\":\"mesh3d\",\"colorbar\":{\"outlinewidth\":0,\"ticks\":\"\"}}],\"scatter\":[{\"fillpattern\":{\"fillmode\":\"overlay\",\"size\":10,\"solidity\":0.2},\"type\":\"scatter\"}],\"parcoords\":[{\"type\":\"parcoords\",\"line\":{\"colorbar\":{\"outlinewidth\":0,\"ticks\":\"\"}}}],\"scatterpolargl\":[{\"type\":\"scatterpolargl\",\"marker\":{\"colorbar\":{\"outlinewidth\":0,\"ticks\":\"\"}}}],\"bar\":[{\"error_x\":{\"color\":\"#2a3f5f\"},\"error_y\":{\"color\":\"#2a3f5f\"},\"marker\":{\"line\":{\"color\":\"#E5ECF6\",\"width\":0.5},\"pattern\":{\"fillmode\":\"overlay\",\"size\":10,\"solidity\":0.2}},\"type\":\"bar\"}],\"scattergeo\":[{\"type\":\"scattergeo\",\"marker\":{\"colorbar\":{\"outlinewidth\":0,\"ticks\":\"\"}}}],\"scatterpolar\":[{\"type\":\"scatterpolar\",\"marker\":{\"colorbar\":{\"outlinewidth\":0,\"ticks\":\"\"}}}],\"histogram\":[{\"marker\":{\"pattern\":{\"fillmode\":\"overlay\",\"size\":10,\"solidity\":0.2}},\"type\":\"histogram\"}],\"scattergl\":[{\"type\":\"scattergl\",\"marker\":{\"colorbar\":{\"outlinewidth\":0,\"ticks\":\"\"}}}],\"scatter3d\":[{\"type\":\"scatter3d\",\"line\":{\"colorbar\":{\"outlinewidth\":0,\"ticks\":\"\"}},\"marker\":{\"colorbar\":{\"outlinewidth\":0,\"ticks\":\"\"}}}],\"scattermapbox\":[{\"type\":\"scattermapbox\",\"marker\":{\"colorbar\":{\"outlinewidth\":0,\"ticks\":\"\"}}}],\"scatterternary\":[{\"type\":\"scatterternary\",\"marker\":{\"colorbar\":{\"outlinewidth\":0,\"ticks\":\"\"}}}],\"scattercarpet\":[{\"type\":\"scattercarpet\",\"marker\":{\"colorbar\":{\"outlinewidth\":0,\"ticks\":\"\"}}}],\"carpet\":[{\"aaxis\":{\"endlinecolor\":\"#2a3f5f\",\"gridcolor\":\"white\",\"linecolor\":\"white\",\"minorgridcolor\":\"white\",\"startlinecolor\":\"#2a3f5f\"},\"baxis\":{\"endlinecolor\":\"#2a3f5f\",\"gridcolor\":\"white\",\"linecolor\":\"white\",\"minorgridcolor\":\"white\",\"startlinecolor\":\"#2a3f5f\"},\"type\":\"carpet\"}],\"table\":[{\"cells\":{\"fill\":{\"color\":\"#EBF0F8\"},\"line\":{\"color\":\"white\"}},\"header\":{\"fill\":{\"color\":\"#C8D4E3\"},\"line\":{\"color\":\"white\"}},\"type\":\"table\"}],\"barpolar\":[{\"marker\":{\"line\":{\"color\":\"#E5ECF6\",\"width\":0.5},\"pattern\":{\"fillmode\":\"overlay\",\"size\":10,\"solidity\":0.2}},\"type\":\"barpolar\"}],\"pie\":[{\"automargin\":true,\"type\":\"pie\"}]},\"layout\":{\"autotypenumbers\":\"strict\",\"colorway\":[\"#636efa\",\"#EF553B\",\"#00cc96\",\"#ab63fa\",\"#FFA15A\",\"#19d3f3\",\"#FF6692\",\"#B6E880\",\"#FF97FF\",\"#FECB52\"],\"font\":{\"color\":\"#2a3f5f\"},\"hovermode\":\"closest\",\"hoverlabel\":{\"align\":\"left\"},\"paper_bgcolor\":\"white\",\"plot_bgcolor\":\"#E5ECF6\",\"polar\":{\"bgcolor\":\"#E5ECF6\",\"angularaxis\":{\"gridcolor\":\"white\",\"linecolor\":\"white\",\"ticks\":\"\"},\"radialaxis\":{\"gridcolor\":\"white\",\"linecolor\":\"white\",\"ticks\":\"\"}},\"ternary\":{\"bgcolor\":\"#E5ECF6\",\"aaxis\":{\"gridcolor\":\"white\",\"linecolor\":\"white\",\"ticks\":\"\"},\"baxis\":{\"gridcolor\":\"white\",\"linecolor\":\"white\",\"ticks\":\"\"},\"caxis\":{\"gridcolor\":\"white\",\"linecolor\":\"white\",\"ticks\":\"\"}},\"coloraxis\":{\"colorbar\":{\"outlinewidth\":0,\"ticks\":\"\"}},\"colorscale\":{\"sequential\":[[0.0,\"#0d0887\"],[0.1111111111111111,\"#46039f\"],[0.2222222222222222,\"#7201a8\"],[0.3333333333333333,\"#9c179e\"],[0.4444444444444444,\"#bd3786\"],[0.5555555555555556,\"#d8576b\"],[0.6666666666666666,\"#ed7953\"],[0.7777777777777778,\"#fb9f3a\"],[0.8888888888888888,\"#fdca26\"],[1.0,\"#f0f921\"]],\"sequentialminus\":[[0.0,\"#0d0887\"],[0.1111111111111111,\"#46039f\"],[0.2222222222222222,\"#7201a8\"],[0.3333333333333333,\"#9c179e\"],[0.4444444444444444,\"#bd3786\"],[0.5555555555555556,\"#d8576b\"],[0.6666666666666666,\"#ed7953\"],[0.7777777777777778,\"#fb9f3a\"],[0.8888888888888888,\"#fdca26\"],[1.0,\"#f0f921\"]],\"diverging\":[[0,\"#8e0152\"],[0.1,\"#c51b7d\"],[0.2,\"#de77ae\"],[0.3,\"#f1b6da\"],[0.4,\"#fde0ef\"],[0.5,\"#f7f7f7\"],[0.6,\"#e6f5d0\"],[0.7,\"#b8e186\"],[0.8,\"#7fbc41\"],[0.9,\"#4d9221\"],[1,\"#276419\"]]},\"xaxis\":{\"gridcolor\":\"white\",\"linecolor\":\"white\",\"ticks\":\"\",\"title\":{\"standoff\":15},\"zerolinecolor\":\"white\",\"automargin\":true,\"zerolinewidth\":2},\"yaxis\":{\"gridcolor\":\"white\",\"linecolor\":\"white\",\"ticks\":\"\",\"title\":{\"standoff\":15},\"zerolinecolor\":\"white\",\"automargin\":true,\"zerolinewidth\":2},\"scene\":{\"xaxis\":{\"backgroundcolor\":\"#E5ECF6\",\"gridcolor\":\"white\",\"linecolor\":\"white\",\"showbackground\":true,\"ticks\":\"\",\"zerolinecolor\":\"white\",\"gridwidth\":2},\"yaxis\":{\"backgroundcolor\":\"#E5ECF6\",\"gridcolor\":\"white\",\"linecolor\":\"white\",\"showbackground\":true,\"ticks\":\"\",\"zerolinecolor\":\"white\",\"gridwidth\":2},\"zaxis\":{\"backgroundcolor\":\"#E5ECF6\",\"gridcolor\":\"white\",\"linecolor\":\"white\",\"showbackground\":true,\"ticks\":\"\",\"zerolinecolor\":\"white\",\"gridwidth\":2}},\"shapedefaults\":{\"line\":{\"color\":\"#2a3f5f\"}},\"annotationdefaults\":{\"arrowcolor\":\"#2a3f5f\",\"arrowhead\":0,\"arrowwidth\":1},\"geo\":{\"bgcolor\":\"white\",\"landcolor\":\"#E5ECF6\",\"subunitcolor\":\"white\",\"showland\":true,\"showlakes\":true,\"lakecolor\":\"white\"},\"title\":{\"x\":0.05},\"mapbox\":{\"style\":\"light\"}}},\"xaxis\":{\"anchor\":\"y\",\"domain\":[0.0,1.0],\"title\":{\"text\":\"Cloud point [\\u00b0C]\"}},\"yaxis\":{\"anchor\":\"x\",\"domain\":[0.0,1.0],\"title\":{\"text\":\"count\"}},\"legend\":{\"tracegroupgap\":0},\"title\":{\"text\":\"Distribution of cloud points\"},\"barmode\":\"relative\",\"font\":{\"family\":\"Calibri\"}},                        {\"responsive\": true}                    ).then(function(){\n                            \nvar gd = document.getElementById('a3e21912-43a1-4856-848c-47bedfa71861');\nvar x = new MutationObserver(function (mutations, observer) {{\n        var display = window.getComputedStyle(gd).display;\n        if (!display || display === 'none') {{\n            console.log([gd, 'removed!']);\n            Plotly.purge(gd);\n            observer.disconnect();\n        }}\n}});\n\n// Listen for the removal of the full notebook cells\nvar notebookContainer = gd.closest('#notebook-container');\nif (notebookContainer) {{\n    x.observe(notebookContainer, {childList: true});\n}}\n\n// Listen for the clearing of the current output cell\nvar outputEl = gd.closest('.output');\nif (outputEl) {{\n    x.observe(outputEl, {childList: true});\n}}\n\n                        })                };                });            </script>        </div>"
     },
     "metadata": {},
     "output_type": "display_data"
    }
   ],
   "source": [
    "# plot the distribution of the important polymer property - here the cloud point\n",
    "figure = px.histogram(\n",
    "    x=df[\"cloud_point\"],\n",
    "    title=\"Distribution of cloud points\",\n",
    "    labels={\"x\": \"Cloud point [°C]\", \"y\": \"Number of entries\"},\n",
    "    nbins=100,\n",
    ")\n",
    "figure.update_layout(font_family = \"Calibri\")\n",
    "\n",
    "figure.show()"
   ],
   "metadata": {
    "collapsed": false,
    "pycharm": {
     "name": "#%%\n"
    }
   }
  },
  {
   "cell_type": "code",
   "execution_count": null,
   "outputs": [],
   "source": [],
   "metadata": {
    "collapsed": false,
    "pycharm": {
     "name": "#%%\n"
    }
   }
  }
 ],
 "metadata": {
  "kernelspec": {
   "display_name": "Python 3 (ipykernel)",
   "language": "python",
   "name": "python3"
  },
  "language_info": {
   "codemirror_mode": {
    "name": "ipython",
    "version": 3
   },
   "file_extension": ".py",
   "mimetype": "text/x-python",
   "name": "python",
   "nbconvert_exporter": "python",
   "pygments_lexer": "ipython3",
   "version": "3.11.6"
  }
 },
 "nbformat": 4,
 "nbformat_minor": 4
}