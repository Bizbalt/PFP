{
 "cells": [
  {
   "cell_type": "code",
   "source": [
    "# Explanatory notebook to convert this database with specific (radical) repetition units and end groups to the PSMILES of the Ramprasad-Group\n",
    "import pandas as pd\n",
    "import re\n",
    "import warnings"
   ],
   "metadata": {
    "collapsed": false,
    "pycharm": {
     "name": "#%%\n"
    }
   },
   "outputs": [],
   "execution_count": null
  },
  {
   "cell_type": "code",
   "metadata": {
    "collapsed": true,
    "pycharm": {
     "name": "#%%\n"
    }
   },
   "source": [
    "RAW_CSV_PATH = \"./glass_transition_temperature_data.csv\"\n",
    "\n",
    "raw_df = pd.read_csv(RAW_CSV_PATH, sep=\";\", decimal=\",\")\n",
    "raw_df"
   ],
   "outputs": [],
   "execution_count": null
  },
  {
   "cell_type": "code",
   "source": [
    "# transform every monomer \"[atoms and numbers]\" string-part to \"*atoms and numbers\" e.g.:\n",
    "# [CH2][CH](C(=O)NC1CCCCCC1) -> [*]CC[*](C(=O)NC1CCCCCC1)\n",
    "# therefore all \"[content]\" must be searched then\n",
    "    # the first must be replaced with \"[*]content-H and following numbers\"\n",
    "    # the second must be replaced with \"content-h and following numbers[*]\"\n",
    "def convert_explicit_SMILES_to_PSMILES(explicit_SMILES: str, chain_pos: str = \"monomer\"):\n",
    "    all_explicits = re.findall(r\"\\[[^\\]\\*]*\\]\", explicit_SMILES)\n",
    "    replacements = [radical.replace(\"[\", \"\").replace(\"]\", \"\") for radical in all_explicits]\n",
    "    replacements = [re.sub(\"H[0-9]?\", \"\", radical) for radical in replacements]\n",
    "    if len(all_explicits) == 0:\n",
    "        return explicit_SMILES\n",
    "    PSMILES = explicit_SMILES\n",
    "    match chain_pos:\n",
    "        case \"monomer\":\n",
    "            replacements[0] = \"[*]\" + replacements[0]\n",
    "            replacements[1] = replacements[1] + \"[*]\"\n",
    "            PSMILES = PSMILES.replace(all_explicits[0], replacements[0], 1)\n",
    "            PSMILES = PSMILES.replace(all_explicits[1], replacements[1], 1)\n",
    "            if len(all_explicits) != 2:\n",
    "                warnings.warn(\"\\n\" + explicit_SMILES + \": \" + \"Too many OR little explicits found. Is there a radical in the monomer, or is this an end group?\" +\n",
    "                              \" Is \" + \"\\n\" + PSMILES + \" the right replacement?\")\n",
    "        case \"end\":\n",
    "            replacements[0] = \"[*]\" + replacements[0]\n",
    "            PSMILES = PSMILES.replace(all_explicits[0], replacements[0], 1)\n",
    "            if len(all_explicits) != 1:\n",
    "                warnings.warn(\"\\n\" + explicit_SMILES + \": \" + \"None or too many explicits found. Is there a radical in the end group, or is it a monomer?\" +\n",
    "                              \" Is \" + \"\\n\" + PSMILES + \" the right replacement?\")\n",
    "\n",
    "    return PSMILES\n",
    "convert_explicit_SMILES_to_PSMILES(\"[CH2][C](C)(C(=O)OCC[N+](C)(C)CCCS(=O)(=O)[O-]\",\"monomer\")"
   ],
   "metadata": {
    "collapsed": false,
    "pycharm": {
     "name": "#%%\n"
    }
   },
   "outputs": [],
   "execution_count": null
  },
  {
   "cell_type": "code",
   "source": [
    "# get all headers with SMILES and convert them to PSMILES, also split between SMILES + repeating and none\n",
    "# end_group_headers = [header for header in raw_df.columns if \"end\" and \"group\" in header]\n",
    "end_group_headers = [\"SMILES_start\", \"SMILES_end\"]\n",
    "# monomer_headers = [header for header in raw_df.columns if \"SMILES_repeating\" in header]\n",
    "monomer_headers = [header for header in raw_df.columns if \"SMILES_rep\" in header]\n",
    "print(end_group_headers, monomer_headers)\n",
    "for end_group in end_group_headers:\n",
    "    raw_df[end_group] = raw_df[end_group].apply(lambda x: convert_explicit_SMILES_to_PSMILES(x, \"end\") if type(x) == str else x)\n",
    "for monomer in monomer_headers:\n",
    "    raw_df[monomer] = raw_df[monomer].apply(lambda x: convert_explicit_SMILES_to_PSMILES(x, \"monomer\") if type(x) == str else x)\n",
    "raw_df"
   ],
   "metadata": {
    "collapsed": false,
    "pycharm": {
     "name": "#%%\n"
    }
   },
   "outputs": [],
   "execution_count": null
  },
  {
   "cell_type": "code",
   "source": [
    "# export converted table\n",
    "# pd.DataFrame.to_csv(raw_df, \"./PSMILES_converted_cloud_point_data.csv\", sep=\";\", decimal=\",\", index=False)\n",
    "pd.DataFrame.to_csv(raw_df, \"./PSMILES_converted_tg_temp_data.csv\", sep=\";\", decimal=\",\", index=False)\n",
    "\n"
   ],
   "metadata": {
    "collapsed": false,
    "pycharm": {
     "name": "#%%\n"
    }
   },
   "outputs": [],
   "execution_count": null
  }
 ],
 "metadata": {
  "kernelspec": {
   "display_name": "Python 3",
   "language": "python",
   "name": "python3"
  },
  "language_info": {
   "codemirror_mode": {
    "name": "ipython",
    "version": 2
   },
   "file_extension": ".py",
   "mimetype": "text/x-python",
   "name": "python",
   "nbconvert_exporter": "python",
   "pygments_lexer": "ipython2",
   "version": "2.7.6"
  }
 },
 "nbformat": 4,
 "nbformat_minor": 0
}
