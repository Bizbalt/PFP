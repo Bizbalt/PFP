{
 "cells": [
  {
   "cell_type": "code",
   "execution_count": 1,
   "outputs": [],
   "source": [
    "# Explanatory notebook to convert this database with specific (radical) repetition units and end groups to the PSMILES of the Ramprasad-Group\n",
    "import os\n",
    "import pandas as pd\n",
    "import re\n",
    "import warnings"
   ],
   "metadata": {
    "collapsed": false,
    "pycharm": {
     "name": "#%%\n"
    }
   }
  },
  {
   "cell_type": "code",
   "execution_count": 2,
   "metadata": {
    "collapsed": true,
    "pycharm": {
     "name": "#%%\n"
    }
   },
   "outputs": [
    {
     "data": {
      "text/plain": "                      reference polymer_type polymer_type_style  \\\n0    10.1016/j.fuel.2016.10.075       random                NaN   \n1    10.1016/j.fuel.2016.10.075       random                NaN   \n2    10.1016/j.fuel.2016.10.075       random                NaN   \n3    10.1016/j.fuel.2016.10.075       random                NaN   \n4    10.1016/j.fuel.2016.10.075       random                NaN   \n..                          ...          ...                ...   \n906           10.1021/ma1005759         homo                NaN   \n907           10.1021/ma1005759         homo                NaN   \n908           10.1021/ma1005759         homo                NaN   \n909           10.1021/ma1005759         homo                NaN   \n910           10.1021/ma1005759         homo                NaN   \n\n    polymer_architecture polymerisation_type  \\\n0                 linear                 FRP   \n1                 linear                 FRP   \n2                 linear                 FRP   \n3                 linear                 FRP   \n4                 linear                 FRP   \n..                   ...                 ...   \n906                graft                RAFT   \n907                graft                RAFT   \n908                graft                RAFT   \n909                graft                RAFT   \n910                graft                RAFT   \n\n                                    SMILES_start_group  \\\n0                                       [C](C)(C)(C#N)   \n1                                       [C](C)(C)(C#N)   \n2                                       [C](C)(C)(C#N)   \n3                                       [C](C)(C)(C#N)   \n4                                       [C](C)(C)(C#N)   \n..                                                 ...   \n906  [C](C)(C#N)(CCC(=O)NCC(F)(F)C(F)(F)C(F)(F)C(F)...   \n907  [C](C)(C#N)(CCC(=O)NCC(F)(F)C(F)(F)C(F)(F)C(F)...   \n908  [C](C)(C#N)(CCC(=O)N(CCCCCCCCCCCCCCCCCC)CCCCCC...   \n909  [C](C)(C#N)(CCC(=O)N(CCCCCCCCCCCCCCCCCC)CCCCCC...   \n910  [C](C)(C#N)(CCC(=O)NCCNC(=O)c1ccc(N=Nc2ccccc2)...   \n\n                                      SMILES_end_group  \\\n0                                         [C](C)(C)C#N   \n1                                         [C](C)(C)C#N   \n2                                         [C](C)(C)C#N   \n3                                         [C](C)(C)C#N   \n4                                         [C](C)(C)C#N   \n..                                                 ...   \n906                               [CH2]CCCCCCCCCCCCCCC   \n907  [S](SCCC(F)(F)C(F)(F)C(F)(F)C(F)(F)C(F)(F)C(F)...   \n908                                              [S]SC   \n909  [S](SCCC(F)(F)C(F)(F)C(F)(F)C(F)(F)C(F)(F)C(F)...   \n910                                              [S]SC   \n\n               SMILES_repeating_unitA  molpercent_repeating_unitA  \\\n0              [CH2][CH](C(=O)NC(C)C)                         0.8   \n1              [CH2][CH](C(=O)NC(C)C)                         0.8   \n2              [CH2][CH](C(=O)NC(C)C)                         0.8   \n3              [CH2][CH](C(=O)NC(C)C)                         0.8   \n4              [CH2][CH](C(=O)NC(C)C)                         0.8   \n..                                ...                         ...   \n906  [CH2][C](C)(C(=O)OCCOCCOCCOCCOC)                         1.0   \n907  [CH2][C](C)(C(=O)OCCOCCOCCOCCOC)                         1.0   \n908  [CH2][C](C)(C(=O)OCCOCCOCCOCCOC)                         1.0   \n909  [CH2][C](C)(C(=O)OCCOCCOCCOCCOC)                         1.0   \n910  [CH2][C](C)(C(=O)OCCOCCOCCOCCOC)                         1.0   \n\n    SMILES_repeating_unitB  ...  additive2_concentration_molar  \\\n0        [CH2][CH](C(=O)O)  ...                            NaN   \n1        [CH2][CH](C(=O)O)  ...                            NaN   \n2        [CH2][CH](C(=O)O)  ...                            NaN   \n3        [CH2][CH](C(=O)O)  ...                            NaN   \n4        [CH2][CH](C(=O)O)  ...                            NaN   \n..                     ...  ...                            ...   \n906                    NaN  ...                            NaN   \n907                    NaN  ...                            NaN   \n908                    NaN  ...                            NaN   \n909                    NaN  ...                            NaN   \n910                    NaN  ...                            NaN   \n\n    additive2_concentration_weight_percent  cloud_point  N/A  def_type  pH  \\\n0                                      NaN         32.1  NaN         A NaN   \n1                                      NaN         43.0  NaN         A NaN   \n2                                      NaN         44.0  NaN         A NaN   \n3                                      NaN         45.5  NaN         A NaN   \n4                                      NaN         43.0  NaN         A NaN   \n..                                     ...          ...  ...       ...  ..   \n906                                    NaN         51.7  NaN         C NaN   \n907                                    NaN         50.3  NaN         C NaN   \n908                                    NaN         48.9  NaN         C NaN   \n909                                    NaN         48.9  NaN         C NaN   \n910                                    NaN         49.1  NaN         C NaN   \n\n               identifier  comment  tacticity  rating  \n0            PNIPAM-co-AA      NaN        NaN     NaN  \n1    PNIPAM-cycloprop-7.5      NaN        NaN     NaN  \n2     PNIPAM-cyclobut-7.5      NaN        NaN     NaN  \n3    PNIPAM-cyclopent-7.5      NaN        NaN     NaN  \n4    PNIPAM-cyclohept-7.5      NaN        NaN     NaN  \n..                    ...      ...        ...     ...  \n906                   P15   632 nm        NaN     NaN  \n907                   P16   632 nm        NaN     NaN  \n908                   P17   632 nm        NaN     NaN  \n909                   P18   632 nm        NaN     NaN  \n910                   P19   632 nm        NaN     NaN  \n\n[911 rows x 38 columns]",
      "text/html": "<div>\n<style scoped>\n    .dataframe tbody tr th:only-of-type {\n        vertical-align: middle;\n    }\n\n    .dataframe tbody tr th {\n        vertical-align: top;\n    }\n\n    .dataframe thead th {\n        text-align: right;\n    }\n</style>\n<table border=\"1\" class=\"dataframe\">\n  <thead>\n    <tr style=\"text-align: right;\">\n      <th></th>\n      <th>reference</th>\n      <th>polymer_type</th>\n      <th>polymer_type_style</th>\n      <th>polymer_architecture</th>\n      <th>polymerisation_type</th>\n      <th>SMILES_start_group</th>\n      <th>SMILES_end_group</th>\n      <th>SMILES_repeating_unitA</th>\n      <th>molpercent_repeating_unitA</th>\n      <th>SMILES_repeating_unitB</th>\n      <th>...</th>\n      <th>additive2_concentration_molar</th>\n      <th>additive2_concentration_weight_percent</th>\n      <th>cloud_point</th>\n      <th>N/A</th>\n      <th>def_type</th>\n      <th>pH</th>\n      <th>identifier</th>\n      <th>comment</th>\n      <th>tacticity</th>\n      <th>rating</th>\n    </tr>\n  </thead>\n  <tbody>\n    <tr>\n      <th>0</th>\n      <td>10.1016/j.fuel.2016.10.075</td>\n      <td>random</td>\n      <td>NaN</td>\n      <td>linear</td>\n      <td>FRP</td>\n      <td>[C](C)(C)(C#N)</td>\n      <td>[C](C)(C)C#N</td>\n      <td>[CH2][CH](C(=O)NC(C)C)</td>\n      <td>0.8</td>\n      <td>[CH2][CH](C(=O)O)</td>\n      <td>...</td>\n      <td>NaN</td>\n      <td>NaN</td>\n      <td>32.1</td>\n      <td>NaN</td>\n      <td>A</td>\n      <td>NaN</td>\n      <td>PNIPAM-co-AA</td>\n      <td>NaN</td>\n      <td>NaN</td>\n      <td>NaN</td>\n    </tr>\n    <tr>\n      <th>1</th>\n      <td>10.1016/j.fuel.2016.10.075</td>\n      <td>random</td>\n      <td>NaN</td>\n      <td>linear</td>\n      <td>FRP</td>\n      <td>[C](C)(C)(C#N)</td>\n      <td>[C](C)(C)C#N</td>\n      <td>[CH2][CH](C(=O)NC(C)C)</td>\n      <td>0.8</td>\n      <td>[CH2][CH](C(=O)O)</td>\n      <td>...</td>\n      <td>NaN</td>\n      <td>NaN</td>\n      <td>43.0</td>\n      <td>NaN</td>\n      <td>A</td>\n      <td>NaN</td>\n      <td>PNIPAM-cycloprop-7.5</td>\n      <td>NaN</td>\n      <td>NaN</td>\n      <td>NaN</td>\n    </tr>\n    <tr>\n      <th>2</th>\n      <td>10.1016/j.fuel.2016.10.075</td>\n      <td>random</td>\n      <td>NaN</td>\n      <td>linear</td>\n      <td>FRP</td>\n      <td>[C](C)(C)(C#N)</td>\n      <td>[C](C)(C)C#N</td>\n      <td>[CH2][CH](C(=O)NC(C)C)</td>\n      <td>0.8</td>\n      <td>[CH2][CH](C(=O)O)</td>\n      <td>...</td>\n      <td>NaN</td>\n      <td>NaN</td>\n      <td>44.0</td>\n      <td>NaN</td>\n      <td>A</td>\n      <td>NaN</td>\n      <td>PNIPAM-cyclobut-7.5</td>\n      <td>NaN</td>\n      <td>NaN</td>\n      <td>NaN</td>\n    </tr>\n    <tr>\n      <th>3</th>\n      <td>10.1016/j.fuel.2016.10.075</td>\n      <td>random</td>\n      <td>NaN</td>\n      <td>linear</td>\n      <td>FRP</td>\n      <td>[C](C)(C)(C#N)</td>\n      <td>[C](C)(C)C#N</td>\n      <td>[CH2][CH](C(=O)NC(C)C)</td>\n      <td>0.8</td>\n      <td>[CH2][CH](C(=O)O)</td>\n      <td>...</td>\n      <td>NaN</td>\n      <td>NaN</td>\n      <td>45.5</td>\n      <td>NaN</td>\n      <td>A</td>\n      <td>NaN</td>\n      <td>PNIPAM-cyclopent-7.5</td>\n      <td>NaN</td>\n      <td>NaN</td>\n      <td>NaN</td>\n    </tr>\n    <tr>\n      <th>4</th>\n      <td>10.1016/j.fuel.2016.10.075</td>\n      <td>random</td>\n      <td>NaN</td>\n      <td>linear</td>\n      <td>FRP</td>\n      <td>[C](C)(C)(C#N)</td>\n      <td>[C](C)(C)C#N</td>\n      <td>[CH2][CH](C(=O)NC(C)C)</td>\n      <td>0.8</td>\n      <td>[CH2][CH](C(=O)O)</td>\n      <td>...</td>\n      <td>NaN</td>\n      <td>NaN</td>\n      <td>43.0</td>\n      <td>NaN</td>\n      <td>A</td>\n      <td>NaN</td>\n      <td>PNIPAM-cyclohept-7.5</td>\n      <td>NaN</td>\n      <td>NaN</td>\n      <td>NaN</td>\n    </tr>\n    <tr>\n      <th>...</th>\n      <td>...</td>\n      <td>...</td>\n      <td>...</td>\n      <td>...</td>\n      <td>...</td>\n      <td>...</td>\n      <td>...</td>\n      <td>...</td>\n      <td>...</td>\n      <td>...</td>\n      <td>...</td>\n      <td>...</td>\n      <td>...</td>\n      <td>...</td>\n      <td>...</td>\n      <td>...</td>\n      <td>...</td>\n      <td>...</td>\n      <td>...</td>\n      <td>...</td>\n      <td>...</td>\n    </tr>\n    <tr>\n      <th>906</th>\n      <td>10.1021/ma1005759</td>\n      <td>homo</td>\n      <td>NaN</td>\n      <td>graft</td>\n      <td>RAFT</td>\n      <td>[C](C)(C#N)(CCC(=O)NCC(F)(F)C(F)(F)C(F)(F)C(F)...</td>\n      <td>[CH2]CCCCCCCCCCCCCCC</td>\n      <td>[CH2][C](C)(C(=O)OCCOCCOCCOCCOC)</td>\n      <td>1.0</td>\n      <td>NaN</td>\n      <td>...</td>\n      <td>NaN</td>\n      <td>NaN</td>\n      <td>51.7</td>\n      <td>NaN</td>\n      <td>C</td>\n      <td>NaN</td>\n      <td>P15</td>\n      <td>632 nm</td>\n      <td>NaN</td>\n      <td>NaN</td>\n    </tr>\n    <tr>\n      <th>907</th>\n      <td>10.1021/ma1005759</td>\n      <td>homo</td>\n      <td>NaN</td>\n      <td>graft</td>\n      <td>RAFT</td>\n      <td>[C](C)(C#N)(CCC(=O)NCC(F)(F)C(F)(F)C(F)(F)C(F)...</td>\n      <td>[S](SCCC(F)(F)C(F)(F)C(F)(F)C(F)(F)C(F)(F)C(F)...</td>\n      <td>[CH2][C](C)(C(=O)OCCOCCOCCOCCOC)</td>\n      <td>1.0</td>\n      <td>NaN</td>\n      <td>...</td>\n      <td>NaN</td>\n      <td>NaN</td>\n      <td>50.3</td>\n      <td>NaN</td>\n      <td>C</td>\n      <td>NaN</td>\n      <td>P16</td>\n      <td>632 nm</td>\n      <td>NaN</td>\n      <td>NaN</td>\n    </tr>\n    <tr>\n      <th>908</th>\n      <td>10.1021/ma1005759</td>\n      <td>homo</td>\n      <td>NaN</td>\n      <td>graft</td>\n      <td>RAFT</td>\n      <td>[C](C)(C#N)(CCC(=O)N(CCCCCCCCCCCCCCCCCC)CCCCCC...</td>\n      <td>[S]SC</td>\n      <td>[CH2][C](C)(C(=O)OCCOCCOCCOCCOC)</td>\n      <td>1.0</td>\n      <td>NaN</td>\n      <td>...</td>\n      <td>NaN</td>\n      <td>NaN</td>\n      <td>48.9</td>\n      <td>NaN</td>\n      <td>C</td>\n      <td>NaN</td>\n      <td>P17</td>\n      <td>632 nm</td>\n      <td>NaN</td>\n      <td>NaN</td>\n    </tr>\n    <tr>\n      <th>909</th>\n      <td>10.1021/ma1005759</td>\n      <td>homo</td>\n      <td>NaN</td>\n      <td>graft</td>\n      <td>RAFT</td>\n      <td>[C](C)(C#N)(CCC(=O)N(CCCCCCCCCCCCCCCCCC)CCCCCC...</td>\n      <td>[S](SCCC(F)(F)C(F)(F)C(F)(F)C(F)(F)C(F)(F)C(F)...</td>\n      <td>[CH2][C](C)(C(=O)OCCOCCOCCOCCOC)</td>\n      <td>1.0</td>\n      <td>NaN</td>\n      <td>...</td>\n      <td>NaN</td>\n      <td>NaN</td>\n      <td>48.9</td>\n      <td>NaN</td>\n      <td>C</td>\n      <td>NaN</td>\n      <td>P18</td>\n      <td>632 nm</td>\n      <td>NaN</td>\n      <td>NaN</td>\n    </tr>\n    <tr>\n      <th>910</th>\n      <td>10.1021/ma1005759</td>\n      <td>homo</td>\n      <td>NaN</td>\n      <td>graft</td>\n      <td>RAFT</td>\n      <td>[C](C)(C#N)(CCC(=O)NCCNC(=O)c1ccc(N=Nc2ccccc2)...</td>\n      <td>[S]SC</td>\n      <td>[CH2][C](C)(C(=O)OCCOCCOCCOCCOC)</td>\n      <td>1.0</td>\n      <td>NaN</td>\n      <td>...</td>\n      <td>NaN</td>\n      <td>NaN</td>\n      <td>49.1</td>\n      <td>NaN</td>\n      <td>C</td>\n      <td>NaN</td>\n      <td>P19</td>\n      <td>632 nm</td>\n      <td>NaN</td>\n      <td>NaN</td>\n    </tr>\n  </tbody>\n</table>\n<p>911 rows × 38 columns</p>\n</div>"
     },
     "execution_count": 2,
     "metadata": {},
     "output_type": "execute_result"
    }
   ],
   "source": [
    "RAW_CSV_PATH = os.path.join(\"../\" + \"cloud_point\" + \"./cloud_points_data.csv\")\n",
    "# RAW_CSV_PATH = \"./glass_transition_temperature_data.csv\"\n",
    "\n",
    "raw_df = pd.read_csv(RAW_CSV_PATH, sep=\";\", decimal=\",\")\n",
    "raw_df"
   ]
  },
  {
   "cell_type": "code",
   "execution_count": 3,
   "outputs": [
    {
     "name": "stderr",
     "output_type": "stream",
     "text": [
      "C:\\Users\\Nex\\AppData\\Local\\Temp\\ipykernel_15544\\2758066532.py:20: UserWarning: \n",
      "[CH2][C](C)(C(=O)OCC[N+](C)(C)CCCS(=O)(=O)[O-]: Too many OR little explicits found. Is there a radical in the monomer, or is this an end group? Is \n",
      "[*]CC[*](C)(C(=O)OCC[N+](C)(C)CCCS(=O)(=O)[O-] the right replacement?\n",
      "  warnings.warn(\"\\n\" + explicit_SMILES + \": \" + \"Too many OR little explicits found. Is there a radical in the monomer, or is this an end group?\" +\n"
     ]
    },
    {
     "data": {
      "text/plain": "'[*]CC[*](C)(C(=O)OCC[N+](C)(C)CCCS(=O)(=O)[O-]'"
     },
     "execution_count": 3,
     "metadata": {},
     "output_type": "execute_result"
    }
   ],
   "source": [
    "# transform every monomers  \"[atoms and numbers]\" string-part to \"*atoms and numbers\" e.g.:\n",
    "# [CH2][CH](C(=O)NC1CCCCCC1) -> [*]CC[*](C(=O)NC1CCCCCC1)\n",
    "# therefore all \"[content]\" must be searched then\n",
    "    # the first must be replaced with \"[*]content-H and following numbers\"\n",
    "    # the second must be replaced with \"content-h and following numbers[*]\"\n",
    "def convert_explicit_SMILES_to_PSMILES(explicit_SMILES: str, chain_pos: str = \"monomer\"):\n",
    "    all_explicits = re.findall(r\"\\[[^\\]\\*]*\\]\", explicit_SMILES)\n",
    "    replacements = [radical.replace(\"[\", \"\").replace(\"]\", \"\") for radical in all_explicits]\n",
    "    replacements = [re.sub(\"H[0-9]?\", \"\", radical) for radical in replacements]\n",
    "    if len(all_explicits) == 0:\n",
    "        return explicit_SMILES\n",
    "    PSMILES = explicit_SMILES\n",
    "    match chain_pos:\n",
    "        case \"monomer\":\n",
    "            replacements[0] = \"[*]\" + replacements[0]\n",
    "            replacements[1] = replacements[1] + \"[*]\"\n",
    "            PSMILES = PSMILES.replace(all_explicits[0], replacements[0], 1)\n",
    "            PSMILES = PSMILES.replace(all_explicits[1], replacements[1], 1)\n",
    "            if len(all_explicits) != 2:\n",
    "                warnings.warn(\"\\n\" + explicit_SMILES + \": \" + \"Too many OR little explicits found. Is there a radical in the monomer, or is this an end group?\" +\n",
    "                              \" Is \" + \"\\n\" + PSMILES + \" the right replacement?\")\n",
    "        case \"end\":\n",
    "            replacements[0] = \"[*]\" + replacements[0]\n",
    "            PSMILES = PSMILES.replace(all_explicits[0], replacements[0], 1)\n",
    "            if len(all_explicits) != 1:\n",
    "                warnings.warn(\"\\n\" + explicit_SMILES + \": \" + \"None or too many explicits found. Is there a radical in the end group, or is it a monomer?\" +\n",
    "                              \" Is \" + \"\\n\" + PSMILES + \" the right replacement?\")\n",
    "\n",
    "    return PSMILES\n",
    "convert_explicit_SMILES_to_PSMILES(\"[CH2][C](C)(C(=O)OCC[N+](C)(C)CCCS(=O)(=O)[O-]\",\"monomer\")"
   ],
   "metadata": {
    "collapsed": false,
    "pycharm": {
     "name": "#%%\n"
    }
   }
  },
  {
   "cell_type": "code",
   "execution_count": 4,
   "outputs": [
    {
     "name": "stdout",
     "output_type": "stream",
     "text": [
      "['SMILES_start_group', 'SMILES_end_group'] ['SMILES_repeating_unitA', 'SMILES_repeating_unitB', 'SMILES_repeating_unitC', 'SMILES_repeating_unitD', 'SMILES_repeating_unitE']\n"
     ]
    },
    {
     "name": "stderr",
     "output_type": "stream",
     "text": [
      "C:\\Users\\Nex\\AppData\\Local\\Temp\\ipykernel_15544\\2758066532.py:26: UserWarning: \n",
      "[C](C)(C#N)(CCC(=O)NCC[N+](C)(C)C): None or too many explicits found. Is there a radical in the end group, or is it a monomer? Is \n",
      "[*]C(C)(C#N)(CCC(=O)NCC[N+](C)(C)C) the right replacement?\n",
      "  warnings.warn(\"\\n\" + explicit_SMILES + \": \" + \"None or too many explicits found. Is there a radical in the end group, or is it a monomer?\" +\n",
      "C:\\Users\\Nex\\AppData\\Local\\Temp\\ipykernel_15544\\2758066532.py:26: UserWarning: \n",
      "[CH2]C=C(O[Si](C)(C)C)N(CC)CC: None or too many explicits found. Is there a radical in the end group, or is it a monomer? Is \n",
      "[*]CC=C(O[Si](C)(C)C)N(CC)CC the right replacement?\n",
      "  warnings.warn(\"\\n\" + explicit_SMILES + \": \" + \"None or too many explicits found. Is there a radical in the end group, or is it a monomer?\" +\n",
      "C:\\Users\\Nex\\AppData\\Local\\Temp\\ipykernel_15544\\2758066532.py:20: UserWarning: \n",
      "[CH2][C](C)(C(=O)N[C@H](CC)CO): Too many OR little explicits found. Is there a radical in the monomer, or is this an end group? Is \n",
      "[*]CC[*](C)(C(=O)N[C@H](CC)CO) the right replacement?\n",
      "  warnings.warn(\"\\n\" + explicit_SMILES + \": \" + \"Too many OR little explicits found. Is there a radical in the monomer, or is this an end group?\" +\n",
      "C:\\Users\\Nex\\AppData\\Local\\Temp\\ipykernel_15544\\2758066532.py:20: UserWarning: \n",
      "[CH2][C](C)(C(=O)N[C@@H](CC)CO): Too many OR little explicits found. Is there a radical in the monomer, or is this an end group? Is \n",
      "[*]CC[*](C)(C(=O)N[C@@H](CC)CO) the right replacement?\n",
      "  warnings.warn(\"\\n\" + explicit_SMILES + \": \" + \"Too many OR little explicits found. Is there a radical in the monomer, or is this an end group?\" +\n",
      "C:\\Users\\Nex\\AppData\\Local\\Temp\\ipykernel_15544\\2758066532.py:20: UserWarning: \n",
      "[CH2][C](C)(C(=O)[O][N](C(=O)CC)C[CH2][N](C(=O)CC)C[CH2][N](C(=O)CC)C[CH2][N](C(=O)CC)C[CH2][N](C(=O)CC)CC): Too many OR little explicits found. Is there a radical in the monomer, or is this an end group? Is \n",
      "[*]CC[*](C)(C(=O)[O][N](C(=O)CC)C[CH2][N](C(=O)CC)C[CH2][N](C(=O)CC)C[CH2][N](C(=O)CC)C[CH2][N](C(=O)CC)CC) the right replacement?\n",
      "  warnings.warn(\"\\n\" + explicit_SMILES + \": \" + \"Too many OR little explicits found. Is there a radical in the monomer, or is this an end group?\" +\n",
      "C:\\Users\\Nex\\AppData\\Local\\Temp\\ipykernel_15544\\2758066532.py:20: UserWarning: \n",
      "[CH2][C](C)(C(=O)OCC[N+](C)(C)CCCS(=O)(=O)[O-]): Too many OR little explicits found. Is there a radical in the monomer, or is this an end group? Is \n",
      "[*]CC[*](C)(C(=O)OCC[N+](C)(C)CCCS(=O)(=O)[O-]) the right replacement?\n",
      "  warnings.warn(\"\\n\" + explicit_SMILES + \": \" + \"Too many OR little explicits found. Is there a radical in the monomer, or is this an end group?\" +\n",
      "C:\\Users\\Nex\\AppData\\Local\\Temp\\ipykernel_15544\\2758066532.py:20: UserWarning: \n",
      "[CH2][CH]C(=O)NCNC(=O)[CH][CH2]: Too many OR little explicits found. Is there a radical in the monomer, or is this an end group? Is \n",
      "[*]CC[*]C(=O)NCNC(=O)[CH][CH2] the right replacement?\n",
      "  warnings.warn(\"\\n\" + explicit_SMILES + \": \" + \"Too many OR little explicits found. Is there a radical in the monomer, or is this an end group?\" +\n",
      "C:\\Users\\Nex\\AppData\\Local\\Temp\\ipykernel_15544\\2758066532.py:20: UserWarning: \n",
      "[CH2][CH](C(=O)N[C@@H](C)CC): Too many OR little explicits found. Is there a radical in the monomer, or is this an end group? Is \n",
      "[*]CC[*](C(=O)N[C@@H](C)CC) the right replacement?\n",
      "  warnings.warn(\"\\n\" + explicit_SMILES + \": \" + \"Too many OR little explicits found. Is there a radical in the monomer, or is this an end group?\" +\n"
     ]
    },
    {
     "data": {
      "text/plain": "                      reference polymer_type polymer_type_style  \\\n0    10.1016/j.fuel.2016.10.075       random                NaN   \n1    10.1016/j.fuel.2016.10.075       random                NaN   \n2    10.1016/j.fuel.2016.10.075       random                NaN   \n3    10.1016/j.fuel.2016.10.075       random                NaN   \n4    10.1016/j.fuel.2016.10.075       random                NaN   \n..                          ...          ...                ...   \n906           10.1021/ma1005759         homo                NaN   \n907           10.1021/ma1005759         homo                NaN   \n908           10.1021/ma1005759         homo                NaN   \n909           10.1021/ma1005759         homo                NaN   \n910           10.1021/ma1005759         homo                NaN   \n\n    polymer_architecture polymerisation_type  \\\n0                 linear                 FRP   \n1                 linear                 FRP   \n2                 linear                 FRP   \n3                 linear                 FRP   \n4                 linear                 FRP   \n..                   ...                 ...   \n906                graft                RAFT   \n907                graft                RAFT   \n908                graft                RAFT   \n909                graft                RAFT   \n910                graft                RAFT   \n\n                                    SMILES_start_group  \\\n0                                      [*]C(C)(C)(C#N)   \n1                                      [*]C(C)(C)(C#N)   \n2                                      [*]C(C)(C)(C#N)   \n3                                      [*]C(C)(C)(C#N)   \n4                                      [*]C(C)(C)(C#N)   \n..                                                 ...   \n906  [*]C(C)(C#N)(CCC(=O)NCC(F)(F)C(F)(F)C(F)(F)C(F...   \n907  [*]C(C)(C#N)(CCC(=O)NCC(F)(F)C(F)(F)C(F)(F)C(F...   \n908  [*]C(C)(C#N)(CCC(=O)N(CCCCCCCCCCCCCCCCCC)CCCCC...   \n909  [*]C(C)(C#N)(CCC(=O)N(CCCCCCCCCCCCCCCCCC)CCCCC...   \n910  [*]C(C)(C#N)(CCC(=O)NCCNC(=O)c1ccc(N=Nc2ccccc2...   \n\n                                      SMILES_end_group  \\\n0                                        [*]C(C)(C)C#N   \n1                                        [*]C(C)(C)C#N   \n2                                        [*]C(C)(C)C#N   \n3                                        [*]C(C)(C)C#N   \n4                                        [*]C(C)(C)C#N   \n..                                                 ...   \n906                                [*]CCCCCCCCCCCCCCCC   \n907  [*]S(SCCC(F)(F)C(F)(F)C(F)(F)C(F)(F)C(F)(F)C(F...   \n908                                             [*]SSC   \n909  [*]S(SCCC(F)(F)C(F)(F)C(F)(F)C(F)(F)C(F)(F)C(F...   \n910                                             [*]SSC   \n\n               SMILES_repeating_unitA  molpercent_repeating_unitA  \\\n0               [*]CC[*](C(=O)NC(C)C)                         0.8   \n1               [*]CC[*](C(=O)NC(C)C)                         0.8   \n2               [*]CC[*](C(=O)NC(C)C)                         0.8   \n3               [*]CC[*](C(=O)NC(C)C)                         0.8   \n4               [*]CC[*](C(=O)NC(C)C)                         0.8   \n..                                ...                         ...   \n906  [*]CC[*](C)(C(=O)OCCOCCOCCOCCOC)                         1.0   \n907  [*]CC[*](C)(C(=O)OCCOCCOCCOCCOC)                         1.0   \n908  [*]CC[*](C)(C(=O)OCCOCCOCCOCCOC)                         1.0   \n909  [*]CC[*](C)(C(=O)OCCOCCOCCOCCOC)                         1.0   \n910  [*]CC[*](C)(C(=O)OCCOCCOCCOCCOC)                         1.0   \n\n    SMILES_repeating_unitB  ...  additive2_concentration_molar  \\\n0         [*]CC[*](C(=O)O)  ...                            NaN   \n1         [*]CC[*](C(=O)O)  ...                            NaN   \n2         [*]CC[*](C(=O)O)  ...                            NaN   \n3         [*]CC[*](C(=O)O)  ...                            NaN   \n4         [*]CC[*](C(=O)O)  ...                            NaN   \n..                     ...  ...                            ...   \n906                    NaN  ...                            NaN   \n907                    NaN  ...                            NaN   \n908                    NaN  ...                            NaN   \n909                    NaN  ...                            NaN   \n910                    NaN  ...                            NaN   \n\n    additive2_concentration_weight_percent  cloud_point  N/A  def_type  pH  \\\n0                                      NaN         32.1  NaN         A NaN   \n1                                      NaN         43.0  NaN         A NaN   \n2                                      NaN         44.0  NaN         A NaN   \n3                                      NaN         45.5  NaN         A NaN   \n4                                      NaN         43.0  NaN         A NaN   \n..                                     ...          ...  ...       ...  ..   \n906                                    NaN         51.7  NaN         C NaN   \n907                                    NaN         50.3  NaN         C NaN   \n908                                    NaN         48.9  NaN         C NaN   \n909                                    NaN         48.9  NaN         C NaN   \n910                                    NaN         49.1  NaN         C NaN   \n\n               identifier  comment  tacticity  rating  \n0            PNIPAM-co-AA      NaN        NaN     NaN  \n1    PNIPAM-cycloprop-7.5      NaN        NaN     NaN  \n2     PNIPAM-cyclobut-7.5      NaN        NaN     NaN  \n3    PNIPAM-cyclopent-7.5      NaN        NaN     NaN  \n4    PNIPAM-cyclohept-7.5      NaN        NaN     NaN  \n..                    ...      ...        ...     ...  \n906                   P15   632 nm        NaN     NaN  \n907                   P16   632 nm        NaN     NaN  \n908                   P17   632 nm        NaN     NaN  \n909                   P18   632 nm        NaN     NaN  \n910                   P19   632 nm        NaN     NaN  \n\n[911 rows x 38 columns]",
      "text/html": "<div>\n<style scoped>\n    .dataframe tbody tr th:only-of-type {\n        vertical-align: middle;\n    }\n\n    .dataframe tbody tr th {\n        vertical-align: top;\n    }\n\n    .dataframe thead th {\n        text-align: right;\n    }\n</style>\n<table border=\"1\" class=\"dataframe\">\n  <thead>\n    <tr style=\"text-align: right;\">\n      <th></th>\n      <th>reference</th>\n      <th>polymer_type</th>\n      <th>polymer_type_style</th>\n      <th>polymer_architecture</th>\n      <th>polymerisation_type</th>\n      <th>SMILES_start_group</th>\n      <th>SMILES_end_group</th>\n      <th>SMILES_repeating_unitA</th>\n      <th>molpercent_repeating_unitA</th>\n      <th>SMILES_repeating_unitB</th>\n      <th>...</th>\n      <th>additive2_concentration_molar</th>\n      <th>additive2_concentration_weight_percent</th>\n      <th>cloud_point</th>\n      <th>N/A</th>\n      <th>def_type</th>\n      <th>pH</th>\n      <th>identifier</th>\n      <th>comment</th>\n      <th>tacticity</th>\n      <th>rating</th>\n    </tr>\n  </thead>\n  <tbody>\n    <tr>\n      <th>0</th>\n      <td>10.1016/j.fuel.2016.10.075</td>\n      <td>random</td>\n      <td>NaN</td>\n      <td>linear</td>\n      <td>FRP</td>\n      <td>[*]C(C)(C)(C#N)</td>\n      <td>[*]C(C)(C)C#N</td>\n      <td>[*]CC[*](C(=O)NC(C)C)</td>\n      <td>0.8</td>\n      <td>[*]CC[*](C(=O)O)</td>\n      <td>...</td>\n      <td>NaN</td>\n      <td>NaN</td>\n      <td>32.1</td>\n      <td>NaN</td>\n      <td>A</td>\n      <td>NaN</td>\n      <td>PNIPAM-co-AA</td>\n      <td>NaN</td>\n      <td>NaN</td>\n      <td>NaN</td>\n    </tr>\n    <tr>\n      <th>1</th>\n      <td>10.1016/j.fuel.2016.10.075</td>\n      <td>random</td>\n      <td>NaN</td>\n      <td>linear</td>\n      <td>FRP</td>\n      <td>[*]C(C)(C)(C#N)</td>\n      <td>[*]C(C)(C)C#N</td>\n      <td>[*]CC[*](C(=O)NC(C)C)</td>\n      <td>0.8</td>\n      <td>[*]CC[*](C(=O)O)</td>\n      <td>...</td>\n      <td>NaN</td>\n      <td>NaN</td>\n      <td>43.0</td>\n      <td>NaN</td>\n      <td>A</td>\n      <td>NaN</td>\n      <td>PNIPAM-cycloprop-7.5</td>\n      <td>NaN</td>\n      <td>NaN</td>\n      <td>NaN</td>\n    </tr>\n    <tr>\n      <th>2</th>\n      <td>10.1016/j.fuel.2016.10.075</td>\n      <td>random</td>\n      <td>NaN</td>\n      <td>linear</td>\n      <td>FRP</td>\n      <td>[*]C(C)(C)(C#N)</td>\n      <td>[*]C(C)(C)C#N</td>\n      <td>[*]CC[*](C(=O)NC(C)C)</td>\n      <td>0.8</td>\n      <td>[*]CC[*](C(=O)O)</td>\n      <td>...</td>\n      <td>NaN</td>\n      <td>NaN</td>\n      <td>44.0</td>\n      <td>NaN</td>\n      <td>A</td>\n      <td>NaN</td>\n      <td>PNIPAM-cyclobut-7.5</td>\n      <td>NaN</td>\n      <td>NaN</td>\n      <td>NaN</td>\n    </tr>\n    <tr>\n      <th>3</th>\n      <td>10.1016/j.fuel.2016.10.075</td>\n      <td>random</td>\n      <td>NaN</td>\n      <td>linear</td>\n      <td>FRP</td>\n      <td>[*]C(C)(C)(C#N)</td>\n      <td>[*]C(C)(C)C#N</td>\n      <td>[*]CC[*](C(=O)NC(C)C)</td>\n      <td>0.8</td>\n      <td>[*]CC[*](C(=O)O)</td>\n      <td>...</td>\n      <td>NaN</td>\n      <td>NaN</td>\n      <td>45.5</td>\n      <td>NaN</td>\n      <td>A</td>\n      <td>NaN</td>\n      <td>PNIPAM-cyclopent-7.5</td>\n      <td>NaN</td>\n      <td>NaN</td>\n      <td>NaN</td>\n    </tr>\n    <tr>\n      <th>4</th>\n      <td>10.1016/j.fuel.2016.10.075</td>\n      <td>random</td>\n      <td>NaN</td>\n      <td>linear</td>\n      <td>FRP</td>\n      <td>[*]C(C)(C)(C#N)</td>\n      <td>[*]C(C)(C)C#N</td>\n      <td>[*]CC[*](C(=O)NC(C)C)</td>\n      <td>0.8</td>\n      <td>[*]CC[*](C(=O)O)</td>\n      <td>...</td>\n      <td>NaN</td>\n      <td>NaN</td>\n      <td>43.0</td>\n      <td>NaN</td>\n      <td>A</td>\n      <td>NaN</td>\n      <td>PNIPAM-cyclohept-7.5</td>\n      <td>NaN</td>\n      <td>NaN</td>\n      <td>NaN</td>\n    </tr>\n    <tr>\n      <th>...</th>\n      <td>...</td>\n      <td>...</td>\n      <td>...</td>\n      <td>...</td>\n      <td>...</td>\n      <td>...</td>\n      <td>...</td>\n      <td>...</td>\n      <td>...</td>\n      <td>...</td>\n      <td>...</td>\n      <td>...</td>\n      <td>...</td>\n      <td>...</td>\n      <td>...</td>\n      <td>...</td>\n      <td>...</td>\n      <td>...</td>\n      <td>...</td>\n      <td>...</td>\n      <td>...</td>\n    </tr>\n    <tr>\n      <th>906</th>\n      <td>10.1021/ma1005759</td>\n      <td>homo</td>\n      <td>NaN</td>\n      <td>graft</td>\n      <td>RAFT</td>\n      <td>[*]C(C)(C#N)(CCC(=O)NCC(F)(F)C(F)(F)C(F)(F)C(F...</td>\n      <td>[*]CCCCCCCCCCCCCCCC</td>\n      <td>[*]CC[*](C)(C(=O)OCCOCCOCCOCCOC)</td>\n      <td>1.0</td>\n      <td>NaN</td>\n      <td>...</td>\n      <td>NaN</td>\n      <td>NaN</td>\n      <td>51.7</td>\n      <td>NaN</td>\n      <td>C</td>\n      <td>NaN</td>\n      <td>P15</td>\n      <td>632 nm</td>\n      <td>NaN</td>\n      <td>NaN</td>\n    </tr>\n    <tr>\n      <th>907</th>\n      <td>10.1021/ma1005759</td>\n      <td>homo</td>\n      <td>NaN</td>\n      <td>graft</td>\n      <td>RAFT</td>\n      <td>[*]C(C)(C#N)(CCC(=O)NCC(F)(F)C(F)(F)C(F)(F)C(F...</td>\n      <td>[*]S(SCCC(F)(F)C(F)(F)C(F)(F)C(F)(F)C(F)(F)C(F...</td>\n      <td>[*]CC[*](C)(C(=O)OCCOCCOCCOCCOC)</td>\n      <td>1.0</td>\n      <td>NaN</td>\n      <td>...</td>\n      <td>NaN</td>\n      <td>NaN</td>\n      <td>50.3</td>\n      <td>NaN</td>\n      <td>C</td>\n      <td>NaN</td>\n      <td>P16</td>\n      <td>632 nm</td>\n      <td>NaN</td>\n      <td>NaN</td>\n    </tr>\n    <tr>\n      <th>908</th>\n      <td>10.1021/ma1005759</td>\n      <td>homo</td>\n      <td>NaN</td>\n      <td>graft</td>\n      <td>RAFT</td>\n      <td>[*]C(C)(C#N)(CCC(=O)N(CCCCCCCCCCCCCCCCCC)CCCCC...</td>\n      <td>[*]SSC</td>\n      <td>[*]CC[*](C)(C(=O)OCCOCCOCCOCCOC)</td>\n      <td>1.0</td>\n      <td>NaN</td>\n      <td>...</td>\n      <td>NaN</td>\n      <td>NaN</td>\n      <td>48.9</td>\n      <td>NaN</td>\n      <td>C</td>\n      <td>NaN</td>\n      <td>P17</td>\n      <td>632 nm</td>\n      <td>NaN</td>\n      <td>NaN</td>\n    </tr>\n    <tr>\n      <th>909</th>\n      <td>10.1021/ma1005759</td>\n      <td>homo</td>\n      <td>NaN</td>\n      <td>graft</td>\n      <td>RAFT</td>\n      <td>[*]C(C)(C#N)(CCC(=O)N(CCCCCCCCCCCCCCCCCC)CCCCC...</td>\n      <td>[*]S(SCCC(F)(F)C(F)(F)C(F)(F)C(F)(F)C(F)(F)C(F...</td>\n      <td>[*]CC[*](C)(C(=O)OCCOCCOCCOCCOC)</td>\n      <td>1.0</td>\n      <td>NaN</td>\n      <td>...</td>\n      <td>NaN</td>\n      <td>NaN</td>\n      <td>48.9</td>\n      <td>NaN</td>\n      <td>C</td>\n      <td>NaN</td>\n      <td>P18</td>\n      <td>632 nm</td>\n      <td>NaN</td>\n      <td>NaN</td>\n    </tr>\n    <tr>\n      <th>910</th>\n      <td>10.1021/ma1005759</td>\n      <td>homo</td>\n      <td>NaN</td>\n      <td>graft</td>\n      <td>RAFT</td>\n      <td>[*]C(C)(C#N)(CCC(=O)NCCNC(=O)c1ccc(N=Nc2ccccc2...</td>\n      <td>[*]SSC</td>\n      <td>[*]CC[*](C)(C(=O)OCCOCCOCCOCCOC)</td>\n      <td>1.0</td>\n      <td>NaN</td>\n      <td>...</td>\n      <td>NaN</td>\n      <td>NaN</td>\n      <td>49.1</td>\n      <td>NaN</td>\n      <td>C</td>\n      <td>NaN</td>\n      <td>P19</td>\n      <td>632 nm</td>\n      <td>NaN</td>\n      <td>NaN</td>\n    </tr>\n  </tbody>\n</table>\n<p>911 rows × 38 columns</p>\n</div>"
     },
     "execution_count": 4,
     "metadata": {},
     "output_type": "execute_result"
    }
   ],
   "source": [
    "# get all headers with SMILES and convert them to PSMILES, also split between SMILES + repeating and none\n",
    "end_group_headers = [header for header in raw_df.columns if \"end\" and \"group\" in header]\n",
    "monomer_headers = [header for header in raw_df.columns if \"SMILES_repeating\" in header]\n",
    "print(end_group_headers, monomer_headers)\n",
    "for end_group in end_group_headers:\n",
    "    raw_df[end_group] = raw_df[end_group].apply(lambda x: convert_explicit_SMILES_to_PSMILES(x, \"end\") if type(x) == str else x)\n",
    "for monomer in monomer_headers:\n",
    "    raw_df[monomer] = raw_df[monomer].apply(lambda x: convert_explicit_SMILES_to_PSMILES(x, \"monomer\") if type(x) == str else x)\n",
    "raw_df"
   ],
   "metadata": {
    "collapsed": false,
    "pycharm": {
     "name": "#%%\n"
    }
   }
  },
  {
   "cell_type": "code",
   "execution_count": 5,
   "outputs": [],
   "source": [
    "# export converted table\n",
    "pd.DataFrame.to_csv(raw_df, \"./PSMILES_converted_cloud_point_data.csv\", sep=\";\", decimal=\",\", index=False)\n",
    "# pd.DataFrame.to_csv(raw_df, \"./PSMILES_converted_tg_temp_data.csv\", sep=\";\", decimal=\",\", index=False)\n",
    "\n"
   ],
   "metadata": {
    "collapsed": false,
    "pycharm": {
     "name": "#%%\n"
    }
   }
  }
 ],
 "metadata": {
  "kernelspec": {
   "display_name": "Python 3",
   "language": "python",
   "name": "python3"
  },
  "language_info": {
   "codemirror_mode": {
    "name": "ipython",
    "version": 2
   },
   "file_extension": ".py",
   "mimetype": "text/x-python",
   "name": "python",
   "nbconvert_exporter": "python",
   "pygments_lexer": "ipython2",
   "version": "2.7.6"
  }
 },
 "nbformat": 4,
 "nbformat_minor": 0
}