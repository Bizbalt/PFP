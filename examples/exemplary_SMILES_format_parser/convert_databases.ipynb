{
 "cells": [
  {
   "cell_type": "code",
   "execution_count": 1,
   "outputs": [],
   "source": [
    "# Explanatory notebook to convert this database with specific (radical) repetition units and end groups to the PSMILES of the Ramprasad-Group\n",
    "import os\n",
    "import pandas as pd\n",
    "import re\n",
    "import warnings"
   ],
   "metadata": {
    "collapsed": false,
    "pycharm": {
     "name": "#%%\n"
    }
   }
  },
  {
   "cell_type": "code",
   "execution_count": 2,
   "metadata": {
    "collapsed": true,
    "pycharm": {
     "name": "#%%\n"
    }
   },
   "outputs": [
    {
     "data": {
      "text/plain": "                  reference      identifier polymer_type polymer_type_style  \\\n0    10.3390/polym14030361        TSU-075-A         Homo                NaN   \n1    10.3390/polym14030361       TSU-075-AB           Co                NaN   \n2    10.3390/polym14030361       TSU-075-AC           Co                NaN   \n3    10.3390/polym14030361       TSU-075-AD           Co                NaN   \n4    10.3390/polym14030361       TSU-075-AE           Co                NaN   \n..                      ...             ...          ...                ...   \n440      10.1039/C9PY00875F  P5 - LLa-EtGly           Co             random   \n441      10.1039/C9PY00875F  P6 - LLa-EtGly           Co             random   \n442      10.1039/C9PY00875F  P7 - DLa-EtGly           Co             random   \n443      10.1039/C9PY00875F  P8 - DLa-EtGly           Co             random   \n444      10.1039/C9PY00875F  P9 - DLa-EtGly           Co             random   \n\n    polymerization_type    SMILES_start        SMILES_end  \\\n0                  RAFT  [C](C)(C)(C#N)  [S]C(=S)c1ccccc1   \n1                  RAFT  [C](C)(C)(C#N)  [S]C(=S)c1ccccc1   \n2                  RAFT  [C](C)(C)(C#N)  [S]C(=S)c1ccccc1   \n3                  RAFT  [C](C)(C)(C#N)  [S]C(=S)c1ccccc1   \n4                  RAFT  [C](C)(C)(C#N)  [S]C(=S)c1ccccc1   \n..                  ...             ...               ...   \n440                 ROP      c1ccccc1CO               [H]   \n441                 ROP      c1ccccc1CO               [H]   \n442                 ROP      c1ccccc1CO               [H]   \n443                 ROP      c1ccccc1CO               [H]   \n444                 ROP      c1ccccc1CO               [H]   \n\n                SMILES_rep_u1  molpercent_rep_u1             SMILES_rep_u2  \\\n0        [CH2][C](C)(C(=O)OC)               1.00                       NaN   \n1        [CH2][C](C)(C(=O)OC)               0.50     [CH2][C](C)(C(=O)OCC)   \n2        [CH2][C](C)(C(=O)OC)               0.50    [CH2][C](C)(C(=O)OCCO)   \n3        [CH2][C](C)(C(=O)OC)               0.50    [CH2][C](C)(C(=O)OCCC)   \n4        [CH2][C](C)(C(=O)OC)               0.50  [CH2][C](C)(C(=O)OC(C)C)   \n..                        ...                ...                       ...   \n440  [C](=O)C(C)OC(=O)C(C)[O]               0.89    [C](=O)COC(=O)C(CC)[O]   \n441  [C](=O)C(C)OC(=O)C(C)[O]               0.78    [C](=O)COC(=O)C(CC)[O]   \n442  [C](=O)C(C)OC(=O)C(C)[O]               0.96    [C](=O)COC(=O)C(CC)[O]   \n443  [C](=O)C(C)OC(=O)C(C)[O]               0.91    [C](=O)COC(=O)C(CC)[O]   \n444  [C](=O)C(C)OC(=O)C(C)[O]               0.78    [C](=O)COC(=O)C(CC)[O]   \n\n     ...  add2  add2_percent  Glass_temperature  2nd_Glass_temperature  \\\n0    ...   NaN           NaN               90.9                    NaN   \n1    ...   NaN           NaN               72.2                    NaN   \n2    ...   NaN           NaN              106.2                    NaN   \n3    ...   NaN           NaN               72.4                    NaN   \n4    ...   NaN           NaN               76.4                    NaN   \n..   ...   ...           ...                ...                    ...   \n440  ...   NaN           NaN               52.0                    NaN   \n441  ...   NaN           NaN               48.0                    NaN   \n442  ...   NaN           NaN               53.0                    NaN   \n443  ...   NaN           NaN               51.0                    NaN   \n444  ...   NaN           NaN               48.0                    NaN   \n\n     tg_def_type  Decomposition temp td_def_type Unnamed: 29  Comment  rating  \n0              C                 NaN         NaN         NaN      NaN     NaN  \n1              C                 NaN         NaN         NaN      NaN     NaN  \n2              C                 NaN         NaN         NaN      NaN     NaN  \n3              C                 NaN         NaN         NaN      NaN     NaN  \n4              C                 NaN         NaN         NaN      NaN     NaN  \n..           ...                 ...         ...         ...      ...     ...  \n440            C                 NaN         NaN         NaN      NaN     NaN  \n441            C                 NaN         NaN         NaN      NaN     NaN  \n442            C                 NaN         NaN         NaN      NaN     NaN  \n443            C                 NaN         NaN         NaN      NaN     NaN  \n444            C                 NaN         NaN         NaN      NaN     NaN  \n\n[445 rows x 32 columns]",
      "text/html": "<div>\n<style scoped>\n    .dataframe tbody tr th:only-of-type {\n        vertical-align: middle;\n    }\n\n    .dataframe tbody tr th {\n        vertical-align: top;\n    }\n\n    .dataframe thead th {\n        text-align: right;\n    }\n</style>\n<table border=\"1\" class=\"dataframe\">\n  <thead>\n    <tr style=\"text-align: right;\">\n      <th></th>\n      <th>reference</th>\n      <th>identifier</th>\n      <th>polymer_type</th>\n      <th>polymer_type_style</th>\n      <th>polymerization_type</th>\n      <th>SMILES_start</th>\n      <th>SMILES_end</th>\n      <th>SMILES_rep_u1</th>\n      <th>molpercent_rep_u1</th>\n      <th>SMILES_rep_u2</th>\n      <th>...</th>\n      <th>add2</th>\n      <th>add2_percent</th>\n      <th>Glass_temperature</th>\n      <th>2nd_Glass_temperature</th>\n      <th>tg_def_type</th>\n      <th>Decomposition temp</th>\n      <th>td_def_type</th>\n      <th>Unnamed: 29</th>\n      <th>Comment</th>\n      <th>rating</th>\n    </tr>\n  </thead>\n  <tbody>\n    <tr>\n      <th>0</th>\n      <td>10.3390/polym14030361</td>\n      <td>TSU-075-A</td>\n      <td>Homo</td>\n      <td>NaN</td>\n      <td>RAFT</td>\n      <td>[C](C)(C)(C#N)</td>\n      <td>[S]C(=S)c1ccccc1</td>\n      <td>[CH2][C](C)(C(=O)OC)</td>\n      <td>1.00</td>\n      <td>NaN</td>\n      <td>...</td>\n      <td>NaN</td>\n      <td>NaN</td>\n      <td>90.9</td>\n      <td>NaN</td>\n      <td>C</td>\n      <td>NaN</td>\n      <td>NaN</td>\n      <td>NaN</td>\n      <td>NaN</td>\n      <td>NaN</td>\n    </tr>\n    <tr>\n      <th>1</th>\n      <td>10.3390/polym14030361</td>\n      <td>TSU-075-AB</td>\n      <td>Co</td>\n      <td>NaN</td>\n      <td>RAFT</td>\n      <td>[C](C)(C)(C#N)</td>\n      <td>[S]C(=S)c1ccccc1</td>\n      <td>[CH2][C](C)(C(=O)OC)</td>\n      <td>0.50</td>\n      <td>[CH2][C](C)(C(=O)OCC)</td>\n      <td>...</td>\n      <td>NaN</td>\n      <td>NaN</td>\n      <td>72.2</td>\n      <td>NaN</td>\n      <td>C</td>\n      <td>NaN</td>\n      <td>NaN</td>\n      <td>NaN</td>\n      <td>NaN</td>\n      <td>NaN</td>\n    </tr>\n    <tr>\n      <th>2</th>\n      <td>10.3390/polym14030361</td>\n      <td>TSU-075-AC</td>\n      <td>Co</td>\n      <td>NaN</td>\n      <td>RAFT</td>\n      <td>[C](C)(C)(C#N)</td>\n      <td>[S]C(=S)c1ccccc1</td>\n      <td>[CH2][C](C)(C(=O)OC)</td>\n      <td>0.50</td>\n      <td>[CH2][C](C)(C(=O)OCCO)</td>\n      <td>...</td>\n      <td>NaN</td>\n      <td>NaN</td>\n      <td>106.2</td>\n      <td>NaN</td>\n      <td>C</td>\n      <td>NaN</td>\n      <td>NaN</td>\n      <td>NaN</td>\n      <td>NaN</td>\n      <td>NaN</td>\n    </tr>\n    <tr>\n      <th>3</th>\n      <td>10.3390/polym14030361</td>\n      <td>TSU-075-AD</td>\n      <td>Co</td>\n      <td>NaN</td>\n      <td>RAFT</td>\n      <td>[C](C)(C)(C#N)</td>\n      <td>[S]C(=S)c1ccccc1</td>\n      <td>[CH2][C](C)(C(=O)OC)</td>\n      <td>0.50</td>\n      <td>[CH2][C](C)(C(=O)OCCC)</td>\n      <td>...</td>\n      <td>NaN</td>\n      <td>NaN</td>\n      <td>72.4</td>\n      <td>NaN</td>\n      <td>C</td>\n      <td>NaN</td>\n      <td>NaN</td>\n      <td>NaN</td>\n      <td>NaN</td>\n      <td>NaN</td>\n    </tr>\n    <tr>\n      <th>4</th>\n      <td>10.3390/polym14030361</td>\n      <td>TSU-075-AE</td>\n      <td>Co</td>\n      <td>NaN</td>\n      <td>RAFT</td>\n      <td>[C](C)(C)(C#N)</td>\n      <td>[S]C(=S)c1ccccc1</td>\n      <td>[CH2][C](C)(C(=O)OC)</td>\n      <td>0.50</td>\n      <td>[CH2][C](C)(C(=O)OC(C)C)</td>\n      <td>...</td>\n      <td>NaN</td>\n      <td>NaN</td>\n      <td>76.4</td>\n      <td>NaN</td>\n      <td>C</td>\n      <td>NaN</td>\n      <td>NaN</td>\n      <td>NaN</td>\n      <td>NaN</td>\n      <td>NaN</td>\n    </tr>\n    <tr>\n      <th>...</th>\n      <td>...</td>\n      <td>...</td>\n      <td>...</td>\n      <td>...</td>\n      <td>...</td>\n      <td>...</td>\n      <td>...</td>\n      <td>...</td>\n      <td>...</td>\n      <td>...</td>\n      <td>...</td>\n      <td>...</td>\n      <td>...</td>\n      <td>...</td>\n      <td>...</td>\n      <td>...</td>\n      <td>...</td>\n      <td>...</td>\n      <td>...</td>\n      <td>...</td>\n      <td>...</td>\n    </tr>\n    <tr>\n      <th>440</th>\n      <td>10.1039/C9PY00875F</td>\n      <td>P5 - LLa-EtGly</td>\n      <td>Co</td>\n      <td>random</td>\n      <td>ROP</td>\n      <td>c1ccccc1CO</td>\n      <td>[H]</td>\n      <td>[C](=O)C(C)OC(=O)C(C)[O]</td>\n      <td>0.89</td>\n      <td>[C](=O)COC(=O)C(CC)[O]</td>\n      <td>...</td>\n      <td>NaN</td>\n      <td>NaN</td>\n      <td>52.0</td>\n      <td>NaN</td>\n      <td>C</td>\n      <td>NaN</td>\n      <td>NaN</td>\n      <td>NaN</td>\n      <td>NaN</td>\n      <td>NaN</td>\n    </tr>\n    <tr>\n      <th>441</th>\n      <td>10.1039/C9PY00875F</td>\n      <td>P6 - LLa-EtGly</td>\n      <td>Co</td>\n      <td>random</td>\n      <td>ROP</td>\n      <td>c1ccccc1CO</td>\n      <td>[H]</td>\n      <td>[C](=O)C(C)OC(=O)C(C)[O]</td>\n      <td>0.78</td>\n      <td>[C](=O)COC(=O)C(CC)[O]</td>\n      <td>...</td>\n      <td>NaN</td>\n      <td>NaN</td>\n      <td>48.0</td>\n      <td>NaN</td>\n      <td>C</td>\n      <td>NaN</td>\n      <td>NaN</td>\n      <td>NaN</td>\n      <td>NaN</td>\n      <td>NaN</td>\n    </tr>\n    <tr>\n      <th>442</th>\n      <td>10.1039/C9PY00875F</td>\n      <td>P7 - DLa-EtGly</td>\n      <td>Co</td>\n      <td>random</td>\n      <td>ROP</td>\n      <td>c1ccccc1CO</td>\n      <td>[H]</td>\n      <td>[C](=O)C(C)OC(=O)C(C)[O]</td>\n      <td>0.96</td>\n      <td>[C](=O)COC(=O)C(CC)[O]</td>\n      <td>...</td>\n      <td>NaN</td>\n      <td>NaN</td>\n      <td>53.0</td>\n      <td>NaN</td>\n      <td>C</td>\n      <td>NaN</td>\n      <td>NaN</td>\n      <td>NaN</td>\n      <td>NaN</td>\n      <td>NaN</td>\n    </tr>\n    <tr>\n      <th>443</th>\n      <td>10.1039/C9PY00875F</td>\n      <td>P8 - DLa-EtGly</td>\n      <td>Co</td>\n      <td>random</td>\n      <td>ROP</td>\n      <td>c1ccccc1CO</td>\n      <td>[H]</td>\n      <td>[C](=O)C(C)OC(=O)C(C)[O]</td>\n      <td>0.91</td>\n      <td>[C](=O)COC(=O)C(CC)[O]</td>\n      <td>...</td>\n      <td>NaN</td>\n      <td>NaN</td>\n      <td>51.0</td>\n      <td>NaN</td>\n      <td>C</td>\n      <td>NaN</td>\n      <td>NaN</td>\n      <td>NaN</td>\n      <td>NaN</td>\n      <td>NaN</td>\n    </tr>\n    <tr>\n      <th>444</th>\n      <td>10.1039/C9PY00875F</td>\n      <td>P9 - DLa-EtGly</td>\n      <td>Co</td>\n      <td>random</td>\n      <td>ROP</td>\n      <td>c1ccccc1CO</td>\n      <td>[H]</td>\n      <td>[C](=O)C(C)OC(=O)C(C)[O]</td>\n      <td>0.78</td>\n      <td>[C](=O)COC(=O)C(CC)[O]</td>\n      <td>...</td>\n      <td>NaN</td>\n      <td>NaN</td>\n      <td>48.0</td>\n      <td>NaN</td>\n      <td>C</td>\n      <td>NaN</td>\n      <td>NaN</td>\n      <td>NaN</td>\n      <td>NaN</td>\n      <td>NaN</td>\n    </tr>\n  </tbody>\n</table>\n<p>445 rows × 32 columns</p>\n</div>"
     },
     "execution_count": 2,
     "metadata": {},
     "output_type": "execute_result"
    }
   ],
   "source": [
    "# RAW_CSV_PATH = os.path.join(\"../\" + \"cloud_point\" + \"./cloud_points_data.csv\")\n",
    "RAW_CSV_PATH = \"./glass_transition_temperature_data.csv\"\n",
    "\n",
    "raw_df = pd.read_csv(RAW_CSV_PATH, sep=\";\", decimal=\",\")\n",
    "raw_df"
   ]
  },
  {
   "cell_type": "code",
   "execution_count": 3,
   "outputs": [
    {
     "name": "stderr",
     "output_type": "stream",
     "text": [
      "C:\\Users\\Nex\\AppData\\Local\\Temp\\ipykernel_1168\\2758066532.py:20: UserWarning: \n",
      "[CH2][C](C)(C(=O)OCC[N+](C)(C)CCCS(=O)(=O)[O-]: Too many OR little explicits found. Is there a radical in the monomer, or is this an end group? Is \n",
      "[*]CC[*](C)(C(=O)OCC[N+](C)(C)CCCS(=O)(=O)[O-] the right replacement?\n",
      "  warnings.warn(\"\\n\" + explicit_SMILES + \": \" + \"Too many OR little explicits found. Is there a radical in the monomer, or is this an end group?\" +\n"
     ]
    },
    {
     "data": {
      "text/plain": "'[*]CC[*](C)(C(=O)OCC[N+](C)(C)CCCS(=O)(=O)[O-]'"
     },
     "execution_count": 3,
     "metadata": {},
     "output_type": "execute_result"
    }
   ],
   "source": [
    "# transform every monomers  \"[atoms and numbers]\" string-part to \"*atoms and numbers\" e.g.:\n",
    "# [CH2][CH](C(=O)NC1CCCCCC1) -> [*]CC[*](C(=O)NC1CCCCCC1)\n",
    "# therefore all \"[content]\" must be searched then\n",
    "    # the first must be replaced with \"[*]content-H and following numbers\"\n",
    "    # the second must be replaced with \"content-h and following numbers[*]\"\n",
    "def convert_explicit_SMILES_to_PSMILES(explicit_SMILES: str, chain_pos: str = \"monomer\"):\n",
    "    all_explicits = re.findall(r\"\\[[^\\]\\*]*\\]\", explicit_SMILES)\n",
    "    replacements = [radical.replace(\"[\", \"\").replace(\"]\", \"\") for radical in all_explicits]\n",
    "    replacements = [re.sub(\"H[0-9]?\", \"\", radical) for radical in replacements]\n",
    "    if len(all_explicits) == 0:\n",
    "        return explicit_SMILES\n",
    "    PSMILES = explicit_SMILES\n",
    "    match chain_pos:\n",
    "        case \"monomer\":\n",
    "            replacements[0] = \"[*]\" + replacements[0]\n",
    "            replacements[1] = replacements[1] + \"[*]\"\n",
    "            PSMILES = PSMILES.replace(all_explicits[0], replacements[0], 1)\n",
    "            PSMILES = PSMILES.replace(all_explicits[1], replacements[1], 1)\n",
    "            if len(all_explicits) != 2:\n",
    "                warnings.warn(\"\\n\" + explicit_SMILES + \": \" + \"Too many OR little explicits found. Is there a radical in the monomer, or is this an end group?\" +\n",
    "                              \" Is \" + \"\\n\" + PSMILES + \" the right replacement?\")\n",
    "        case \"end\":\n",
    "            replacements[0] = \"[*]\" + replacements[0]\n",
    "            PSMILES = PSMILES.replace(all_explicits[0], replacements[0], 1)\n",
    "            if len(all_explicits) != 1:\n",
    "                warnings.warn(\"\\n\" + explicit_SMILES + \": \" + \"None or too many explicits found. Is there a radical in the end group, or is it a monomer?\" +\n",
    "                              \" Is \" + \"\\n\" + PSMILES + \" the right replacement?\")\n",
    "\n",
    "    return PSMILES\n",
    "convert_explicit_SMILES_to_PSMILES(\"[CH2][C](C)(C(=O)OCC[N+](C)(C)CCCS(=O)(=O)[O-]\",\"monomer\")"
   ],
   "metadata": {
    "collapsed": false,
    "pycharm": {
     "name": "#%%\n"
    }
   }
  },
  {
   "cell_type": "code",
   "execution_count": 6,
   "outputs": [
    {
     "name": "stdout",
     "output_type": "stream",
     "text": [
      "['SMILES_start', 'SMILES_end'] ['SMILES_rep_u1', 'SMILES_rep_u2', 'SMILES_rep_u3']\n"
     ]
    },
    {
     "name": "stderr",
     "output_type": "stream",
     "text": [
      "C:\\Users\\Nex\\AppData\\Local\\Temp\\ipykernel_1168\\2758066532.py:20: UserWarning: \n",
      "[CH2][C](C)(C(=O)OC1C[C@H]2CC[C@]1(C)C2(C)C): Too many OR little explicits found. Is there a radical in the monomer, or is this an end group? Is \n",
      "[*]CC[*](C)(C(=O)OC1C[C@H]2CC[C@]1(C)C2(C)C) the right replacement?\n",
      "  warnings.warn(\"\\n\" + explicit_SMILES + \": \" + \"Too many OR little explicits found. Is there a radical in the monomer, or is this an end group?\" +\n",
      "C:\\Users\\Nex\\AppData\\Local\\Temp\\ipykernel_1168\\2758066532.py:20: UserWarning: \n",
      "[CH2][CH](C(=O)OC1C[C@H]2CC[C@]1(C)C2(C)C): Too many OR little explicits found. Is there a radical in the monomer, or is this an end group? Is \n",
      "[*]CC[*](C(=O)OC1C[C@H]2CC[C@]1(C)C2(C)C) the right replacement?\n",
      "  warnings.warn(\"\\n\" + explicit_SMILES + \": \" + \"Too many OR little explicits found. Is there a radical in the monomer, or is this an end group?\" +\n",
      "C:\\Users\\Nex\\AppData\\Local\\Temp\\ipykernel_1168\\2758066532.py:20: UserWarning: \n",
      "[CH2][CH](c1ccc([Cl])cc1): Too many OR little explicits found. Is there a radical in the monomer, or is this an end group? Is \n",
      "[*]CC[*](c1ccc([Cl])cc1) the right replacement?\n",
      "  warnings.warn(\"\\n\" + explicit_SMILES + \": \" + \"Too many OR little explicits found. Is there a radical in the monomer, or is this an end group?\" +\n"
     ]
    },
    {
     "data": {
      "text/plain": "                  reference      identifier polymer_type polymer_type_style  \\\n0    10.3390/polym14030361        TSU-075-A         Homo                NaN   \n1    10.3390/polym14030361       TSU-075-AB           Co                NaN   \n2    10.3390/polym14030361       TSU-075-AC           Co                NaN   \n3    10.3390/polym14030361       TSU-075-AD           Co                NaN   \n4    10.3390/polym14030361       TSU-075-AE           Co                NaN   \n..                      ...             ...          ...                ...   \n440      10.1039/C9PY00875F  P5 - LLa-EtGly           Co             random   \n441      10.1039/C9PY00875F  P6 - LLa-EtGly           Co             random   \n442      10.1039/C9PY00875F  P7 - DLa-EtGly           Co             random   \n443      10.1039/C9PY00875F  P8 - DLa-EtGly           Co             random   \n444      10.1039/C9PY00875F  P9 - DLa-EtGly           Co             random   \n\n    polymerization_type     SMILES_start         SMILES_end  \\\n0                  RAFT  [*]C(C)(C)(C#N)  [*]SC(=S)c1ccccc1   \n1                  RAFT  [*]C(C)(C)(C#N)  [*]SC(=S)c1ccccc1   \n2                  RAFT  [*]C(C)(C)(C#N)  [*]SC(=S)c1ccccc1   \n3                  RAFT  [*]C(C)(C)(C#N)  [*]SC(=S)c1ccccc1   \n4                  RAFT  [*]C(C)(C)(C#N)  [*]SC(=S)c1ccccc1   \n..                  ...              ...                ...   \n440                 ROP       c1ccccc1CO                [*]   \n441                 ROP       c1ccccc1CO                [*]   \n442                 ROP       c1ccccc1CO                [*]   \n443                 ROP       c1ccccc1CO                [*]   \n444                 ROP       c1ccccc1CO                [*]   \n\n                  SMILES_rep_u1  molpercent_rep_u1             SMILES_rep_u2  \\\n0          [*]CC[*](C)(C(=O)OC)               1.00                       NaN   \n1          [*]CC[*](C)(C(=O)OC)               0.50     [*]CC[*](C)(C(=O)OCC)   \n2          [*]CC[*](C)(C(=O)OC)               0.50    [*]CC[*](C)(C(=O)OCCO)   \n3          [*]CC[*](C)(C(=O)OC)               0.50    [*]CC[*](C)(C(=O)OCCC)   \n4          [*]CC[*](C)(C(=O)OC)               0.50  [*]CC[*](C)(C(=O)OC(C)C)   \n..                          ...                ...                       ...   \n440  [*]C(=O)C(C)OC(=O)C(C)O[*]               0.89  [*]C(=O)COC(=O)C(CC)O[*]   \n441  [*]C(=O)C(C)OC(=O)C(C)O[*]               0.78  [*]C(=O)COC(=O)C(CC)O[*]   \n442  [*]C(=O)C(C)OC(=O)C(C)O[*]               0.96  [*]C(=O)COC(=O)C(CC)O[*]   \n443  [*]C(=O)C(C)OC(=O)C(C)O[*]               0.91  [*]C(=O)COC(=O)C(CC)O[*]   \n444  [*]C(=O)C(C)OC(=O)C(C)O[*]               0.78  [*]C(=O)COC(=O)C(CC)O[*]   \n\n     ...  add2  add2_percent  Glass_temperature  2nd_Glass_temperature  \\\n0    ...   NaN           NaN               90.9                    NaN   \n1    ...   NaN           NaN               72.2                    NaN   \n2    ...   NaN           NaN              106.2                    NaN   \n3    ...   NaN           NaN               72.4                    NaN   \n4    ...   NaN           NaN               76.4                    NaN   \n..   ...   ...           ...                ...                    ...   \n440  ...   NaN           NaN               52.0                    NaN   \n441  ...   NaN           NaN               48.0                    NaN   \n442  ...   NaN           NaN               53.0                    NaN   \n443  ...   NaN           NaN               51.0                    NaN   \n444  ...   NaN           NaN               48.0                    NaN   \n\n     tg_def_type  Decomposition temp td_def_type Unnamed: 29  Comment  rating  \n0              C                 NaN         NaN         NaN      NaN     NaN  \n1              C                 NaN         NaN         NaN      NaN     NaN  \n2              C                 NaN         NaN         NaN      NaN     NaN  \n3              C                 NaN         NaN         NaN      NaN     NaN  \n4              C                 NaN         NaN         NaN      NaN     NaN  \n..           ...                 ...         ...         ...      ...     ...  \n440            C                 NaN         NaN         NaN      NaN     NaN  \n441            C                 NaN         NaN         NaN      NaN     NaN  \n442            C                 NaN         NaN         NaN      NaN     NaN  \n443            C                 NaN         NaN         NaN      NaN     NaN  \n444            C                 NaN         NaN         NaN      NaN     NaN  \n\n[445 rows x 32 columns]",
      "text/html": "<div>\n<style scoped>\n    .dataframe tbody tr th:only-of-type {\n        vertical-align: middle;\n    }\n\n    .dataframe tbody tr th {\n        vertical-align: top;\n    }\n\n    .dataframe thead th {\n        text-align: right;\n    }\n</style>\n<table border=\"1\" class=\"dataframe\">\n  <thead>\n    <tr style=\"text-align: right;\">\n      <th></th>\n      <th>reference</th>\n      <th>identifier</th>\n      <th>polymer_type</th>\n      <th>polymer_type_style</th>\n      <th>polymerization_type</th>\n      <th>SMILES_start</th>\n      <th>SMILES_end</th>\n      <th>SMILES_rep_u1</th>\n      <th>molpercent_rep_u1</th>\n      <th>SMILES_rep_u2</th>\n      <th>...</th>\n      <th>add2</th>\n      <th>add2_percent</th>\n      <th>Glass_temperature</th>\n      <th>2nd_Glass_temperature</th>\n      <th>tg_def_type</th>\n      <th>Decomposition temp</th>\n      <th>td_def_type</th>\n      <th>Unnamed: 29</th>\n      <th>Comment</th>\n      <th>rating</th>\n    </tr>\n  </thead>\n  <tbody>\n    <tr>\n      <th>0</th>\n      <td>10.3390/polym14030361</td>\n      <td>TSU-075-A</td>\n      <td>Homo</td>\n      <td>NaN</td>\n      <td>RAFT</td>\n      <td>[*]C(C)(C)(C#N)</td>\n      <td>[*]SC(=S)c1ccccc1</td>\n      <td>[*]CC[*](C)(C(=O)OC)</td>\n      <td>1.00</td>\n      <td>NaN</td>\n      <td>...</td>\n      <td>NaN</td>\n      <td>NaN</td>\n      <td>90.9</td>\n      <td>NaN</td>\n      <td>C</td>\n      <td>NaN</td>\n      <td>NaN</td>\n      <td>NaN</td>\n      <td>NaN</td>\n      <td>NaN</td>\n    </tr>\n    <tr>\n      <th>1</th>\n      <td>10.3390/polym14030361</td>\n      <td>TSU-075-AB</td>\n      <td>Co</td>\n      <td>NaN</td>\n      <td>RAFT</td>\n      <td>[*]C(C)(C)(C#N)</td>\n      <td>[*]SC(=S)c1ccccc1</td>\n      <td>[*]CC[*](C)(C(=O)OC)</td>\n      <td>0.50</td>\n      <td>[*]CC[*](C)(C(=O)OCC)</td>\n      <td>...</td>\n      <td>NaN</td>\n      <td>NaN</td>\n      <td>72.2</td>\n      <td>NaN</td>\n      <td>C</td>\n      <td>NaN</td>\n      <td>NaN</td>\n      <td>NaN</td>\n      <td>NaN</td>\n      <td>NaN</td>\n    </tr>\n    <tr>\n      <th>2</th>\n      <td>10.3390/polym14030361</td>\n      <td>TSU-075-AC</td>\n      <td>Co</td>\n      <td>NaN</td>\n      <td>RAFT</td>\n      <td>[*]C(C)(C)(C#N)</td>\n      <td>[*]SC(=S)c1ccccc1</td>\n      <td>[*]CC[*](C)(C(=O)OC)</td>\n      <td>0.50</td>\n      <td>[*]CC[*](C)(C(=O)OCCO)</td>\n      <td>...</td>\n      <td>NaN</td>\n      <td>NaN</td>\n      <td>106.2</td>\n      <td>NaN</td>\n      <td>C</td>\n      <td>NaN</td>\n      <td>NaN</td>\n      <td>NaN</td>\n      <td>NaN</td>\n      <td>NaN</td>\n    </tr>\n    <tr>\n      <th>3</th>\n      <td>10.3390/polym14030361</td>\n      <td>TSU-075-AD</td>\n      <td>Co</td>\n      <td>NaN</td>\n      <td>RAFT</td>\n      <td>[*]C(C)(C)(C#N)</td>\n      <td>[*]SC(=S)c1ccccc1</td>\n      <td>[*]CC[*](C)(C(=O)OC)</td>\n      <td>0.50</td>\n      <td>[*]CC[*](C)(C(=O)OCCC)</td>\n      <td>...</td>\n      <td>NaN</td>\n      <td>NaN</td>\n      <td>72.4</td>\n      <td>NaN</td>\n      <td>C</td>\n      <td>NaN</td>\n      <td>NaN</td>\n      <td>NaN</td>\n      <td>NaN</td>\n      <td>NaN</td>\n    </tr>\n    <tr>\n      <th>4</th>\n      <td>10.3390/polym14030361</td>\n      <td>TSU-075-AE</td>\n      <td>Co</td>\n      <td>NaN</td>\n      <td>RAFT</td>\n      <td>[*]C(C)(C)(C#N)</td>\n      <td>[*]SC(=S)c1ccccc1</td>\n      <td>[*]CC[*](C)(C(=O)OC)</td>\n      <td>0.50</td>\n      <td>[*]CC[*](C)(C(=O)OC(C)C)</td>\n      <td>...</td>\n      <td>NaN</td>\n      <td>NaN</td>\n      <td>76.4</td>\n      <td>NaN</td>\n      <td>C</td>\n      <td>NaN</td>\n      <td>NaN</td>\n      <td>NaN</td>\n      <td>NaN</td>\n      <td>NaN</td>\n    </tr>\n    <tr>\n      <th>...</th>\n      <td>...</td>\n      <td>...</td>\n      <td>...</td>\n      <td>...</td>\n      <td>...</td>\n      <td>...</td>\n      <td>...</td>\n      <td>...</td>\n      <td>...</td>\n      <td>...</td>\n      <td>...</td>\n      <td>...</td>\n      <td>...</td>\n      <td>...</td>\n      <td>...</td>\n      <td>...</td>\n      <td>...</td>\n      <td>...</td>\n      <td>...</td>\n      <td>...</td>\n      <td>...</td>\n    </tr>\n    <tr>\n      <th>440</th>\n      <td>10.1039/C9PY00875F</td>\n      <td>P5 - LLa-EtGly</td>\n      <td>Co</td>\n      <td>random</td>\n      <td>ROP</td>\n      <td>c1ccccc1CO</td>\n      <td>[*]</td>\n      <td>[*]C(=O)C(C)OC(=O)C(C)O[*]</td>\n      <td>0.89</td>\n      <td>[*]C(=O)COC(=O)C(CC)O[*]</td>\n      <td>...</td>\n      <td>NaN</td>\n      <td>NaN</td>\n      <td>52.0</td>\n      <td>NaN</td>\n      <td>C</td>\n      <td>NaN</td>\n      <td>NaN</td>\n      <td>NaN</td>\n      <td>NaN</td>\n      <td>NaN</td>\n    </tr>\n    <tr>\n      <th>441</th>\n      <td>10.1039/C9PY00875F</td>\n      <td>P6 - LLa-EtGly</td>\n      <td>Co</td>\n      <td>random</td>\n      <td>ROP</td>\n      <td>c1ccccc1CO</td>\n      <td>[*]</td>\n      <td>[*]C(=O)C(C)OC(=O)C(C)O[*]</td>\n      <td>0.78</td>\n      <td>[*]C(=O)COC(=O)C(CC)O[*]</td>\n      <td>...</td>\n      <td>NaN</td>\n      <td>NaN</td>\n      <td>48.0</td>\n      <td>NaN</td>\n      <td>C</td>\n      <td>NaN</td>\n      <td>NaN</td>\n      <td>NaN</td>\n      <td>NaN</td>\n      <td>NaN</td>\n    </tr>\n    <tr>\n      <th>442</th>\n      <td>10.1039/C9PY00875F</td>\n      <td>P7 - DLa-EtGly</td>\n      <td>Co</td>\n      <td>random</td>\n      <td>ROP</td>\n      <td>c1ccccc1CO</td>\n      <td>[*]</td>\n      <td>[*]C(=O)C(C)OC(=O)C(C)O[*]</td>\n      <td>0.96</td>\n      <td>[*]C(=O)COC(=O)C(CC)O[*]</td>\n      <td>...</td>\n      <td>NaN</td>\n      <td>NaN</td>\n      <td>53.0</td>\n      <td>NaN</td>\n      <td>C</td>\n      <td>NaN</td>\n      <td>NaN</td>\n      <td>NaN</td>\n      <td>NaN</td>\n      <td>NaN</td>\n    </tr>\n    <tr>\n      <th>443</th>\n      <td>10.1039/C9PY00875F</td>\n      <td>P8 - DLa-EtGly</td>\n      <td>Co</td>\n      <td>random</td>\n      <td>ROP</td>\n      <td>c1ccccc1CO</td>\n      <td>[*]</td>\n      <td>[*]C(=O)C(C)OC(=O)C(C)O[*]</td>\n      <td>0.91</td>\n      <td>[*]C(=O)COC(=O)C(CC)O[*]</td>\n      <td>...</td>\n      <td>NaN</td>\n      <td>NaN</td>\n      <td>51.0</td>\n      <td>NaN</td>\n      <td>C</td>\n      <td>NaN</td>\n      <td>NaN</td>\n      <td>NaN</td>\n      <td>NaN</td>\n      <td>NaN</td>\n    </tr>\n    <tr>\n      <th>444</th>\n      <td>10.1039/C9PY00875F</td>\n      <td>P9 - DLa-EtGly</td>\n      <td>Co</td>\n      <td>random</td>\n      <td>ROP</td>\n      <td>c1ccccc1CO</td>\n      <td>[*]</td>\n      <td>[*]C(=O)C(C)OC(=O)C(C)O[*]</td>\n      <td>0.78</td>\n      <td>[*]C(=O)COC(=O)C(CC)O[*]</td>\n      <td>...</td>\n      <td>NaN</td>\n      <td>NaN</td>\n      <td>48.0</td>\n      <td>NaN</td>\n      <td>C</td>\n      <td>NaN</td>\n      <td>NaN</td>\n      <td>NaN</td>\n      <td>NaN</td>\n      <td>NaN</td>\n    </tr>\n  </tbody>\n</table>\n<p>445 rows × 32 columns</p>\n</div>"
     },
     "execution_count": 6,
     "metadata": {},
     "output_type": "execute_result"
    }
   ],
   "source": [
    "# get all headers with SMILES and convert them to PSMILES, also split between SMILES + repeating and none\n",
    "# end_group_headers = [header for header in raw_df.columns if \"end\" and \"group\" in header]\n",
    "end_group_headers = [\"SMILES_start\", \"SMILES_end\"]\n",
    "# monomer_headers = [header for header in raw_df.columns if \"SMILES_repeating\" in header]\n",
    "monomer_headers = [header for header in raw_df.columns if \"SMILES_rep\" in header]\n",
    "print(end_group_headers, monomer_headers)\n",
    "for end_group in end_group_headers:\n",
    "    raw_df[end_group] = raw_df[end_group].apply(lambda x: convert_explicit_SMILES_to_PSMILES(x, \"end\") if type(x) == str else x)\n",
    "for monomer in monomer_headers:\n",
    "    raw_df[monomer] = raw_df[monomer].apply(lambda x: convert_explicit_SMILES_to_PSMILES(x, \"monomer\") if type(x) == str else x)\n",
    "raw_df"
   ],
   "metadata": {
    "collapsed": false,
    "pycharm": {
     "name": "#%%\n"
    }
   }
  },
  {
   "cell_type": "code",
   "execution_count": 7,
   "outputs": [],
   "source": [
    "# export converted table\n",
    "# pd.DataFrame.to_csv(raw_df, \"./PSMILES_converted_cloud_point_data.csv\", sep=\";\", decimal=\",\", index=False)\n",
    "pd.DataFrame.to_csv(raw_df, \"./PSMILES_converted_tg_temp_data.csv\", sep=\";\", decimal=\",\", index=False)\n",
    "\n"
   ],
   "metadata": {
    "collapsed": false,
    "pycharm": {
     "name": "#%%\n"
    }
   }
  }
 ],
 "metadata": {
  "kernelspec": {
   "display_name": "Python 3",
   "language": "python",
   "name": "python3"
  },
  "language_info": {
   "codemirror_mode": {
    "name": "ipython",
    "version": 2
   },
   "file_extension": ".py",
   "mimetype": "text/x-python",
   "name": "python",
   "nbconvert_exporter": "python",
   "pygments_lexer": "ipython2",
   "version": "2.7.6"
  }
 },
 "nbformat": 4,
 "nbformat_minor": 0
}